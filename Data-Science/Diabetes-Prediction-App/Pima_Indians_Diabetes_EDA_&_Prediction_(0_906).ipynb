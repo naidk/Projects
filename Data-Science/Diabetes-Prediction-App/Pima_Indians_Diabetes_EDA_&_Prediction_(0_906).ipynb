{
  "cells": [
    {
      "cell_type": "markdown",
      "metadata": {
        "id": "view-in-github",
        "colab_type": "text"
      },
      "source": [
        "<a href=\"https://colab.research.google.com/github/naidk/Internship-Portfolio/blob/main/Data-Science/Pima_Indians_Diabetes_EDA_%26_Prediction_(0_906).ipynb\" target=\"_parent\"><img src=\"https://colab.research.google.com/assets/colab-badge.svg\" alt=\"Open In Colab\"/></a>"
      ]
    },
    {
      "source": [
        "# IMPORTANT: RUN THIS CELL IN ORDER TO IMPORT YOUR KAGGLE DATA SOURCES,\n",
        "# THEN FEEL FREE TO DELETE THIS CELL.\n",
        "# NOTE: THIS NOTEBOOK ENVIRONMENT DIFFERS FROM KAGGLE'S PYTHON\n",
        "# ENVIRONMENT SO THERE MAY BE MISSING LIBRARIES USED BY YOUR\n",
        "# NOTEBOOK.\n",
        "import kagglehub\n",
        "uciml_pima_indians_diabetes_database_path = kagglehub.dataset_download('uciml/pima-indians-diabetes-database')\n",
        "\n",
        "print('Data source import complete.')\n"
      ],
      "metadata": {
        "id": "uvZg8DzQ7ogY"
      },
      "cell_type": "code",
      "outputs": [],
      "execution_count": null
    },
    {
      "metadata": {
        "_uuid": "8f2839f25d086af736a60e9eeb907d3b93b6e0e5",
        "_cell_guid": "b1076dfc-b9ad-4769-8c92-a6c4dae69d19",
        "trusted": true,
        "id": "ghDncweP7ogd"
      },
      "cell_type": "markdown",
      "source": [
        "----------\n",
        "**Pima Indians Diabetes - EDA & Prediction (0.906)**\n",
        "=====================================\n",
        "\n",
        "* **Accuracy - 5 Folds - LightGBM : 89.8%**\n",
        "* **Accuracy - 5 Folds - LightGBM & KNN : 90.6%**\n",
        "\n",
        "\n",
        "***Vincent Lugat***\n",
        "\n",
        "*February 2019*\n",
        "\n",
        "----------"
      ]
    },
    {
      "metadata": {
        "_uuid": "00d590d3279c9245ab44194a9e1ef6d7af3b666f",
        "id": "y9dNnq267ogf"
      },
      "cell_type": "markdown",
      "source": [
        "![](http://image.noelshack.com/fichiers/2019/06/1/1549295827-0-0000.png)"
      ]
    },
    {
      "metadata": {
        "_uuid": "dc266809e5033aecb8b8a58ac121f784682e839d",
        "id": "1Lv6srQA7ogg"
      },
      "cell_type": "markdown",
      "source": [
        "- <a href='#1'>1. Load libraries and read the data</a>  \n",
        "\n",
        "    - <a href='#1.1'>1.1. Load libraries</a>\n",
        "    - <a href='#1.2'>1.2. Read the data</a>\n",
        "    \n",
        "- <a href='#2'>2. Overview</a>\n",
        "\n",
        "    - <a href='#2.1'>2.1. Head</a>\n",
        "    - <a href='#2.2'>2.2. Target</a>\n",
        "    - <a href='#2.3'>2.3. Missing values</a>\n",
        "    \n",
        "- <a href='#3'>3. Replace missing values and EDA</a>\n",
        "\n",
        "    - <a href='#3.1'>3.1. Insulin</a>\n",
        "    - <a href='#3.2'>3.2. Glucose</a>\n",
        "    - <a href='#3.3'>3.3. SkinThickness</a>\n",
        "    - <a href='#3.4'>3.4. BloodPressure</a>\n",
        "    - <a href='#3.5'>3.5. BMI</a>\n",
        "    \n",
        "- <a href='#4'>4. New features (16) and EDA</a>\n",
        "\n",
        "- <a href='#5'>5. Prepare dataset</a>\n",
        "    - <a href='#5.1'>5.1. StandardScaler and LabelEncoder</a>\n",
        "    - <a href='#5.2'>5.2. Correlation Matrix</a>\n",
        "    - <a href='#5.3'>5.3. X and y</a>\n",
        "    - <a href='#5.4'>5.4. Model Performance</a>\n",
        "\t- <a href='#5.4'>5.5. Scores Table</a>\n",
        "    \n",
        "- <a href='#6'>6.Machine Learning</a>\n",
        "\n",
        "    - <a href='#6.1'>6.1. RandomSearch + LightGBM - Accuracy = 89.8%</a>\n",
        "    - <a href='#6.2'>6.2. LightGBM - Discrimination Threshold</a>\n",
        "    - <a href='#6.3'>6.3. GridSearch + LightGBM & KNN- Accuracy = 90.6%</a>\n",
        "    - <a href='#6.4'>6.4. LightGBM & KNN - Discrimination Threshold</a>\n",
        "    \n",
        "- <a href='#7'>7. Credits</a>"
      ]
    },
    {
      "metadata": {
        "_uuid": "b7bb843d5528259a5c0a0a58aa85330c4c44b839",
        "id": "D9gh1g-B7ogh"
      },
      "cell_type": "markdown",
      "source": [
        "Hello All !!\n",
        "\n",
        "This notebook is a guide to end to end a complete study in machine learning with different concepts like :\n",
        "\n",
        "* Completing missing values (most important part)\n",
        "* Exploratory data analysis\n",
        "* Creating new features (to increase accuracy)\n",
        "* Encoding features\n",
        "* Using LightGBM and optimize hyperparameters\n",
        "* Adding a KNN to LGBM to beat 90% accuracy (voting classifier)\n",
        "\n",
        "# If you like this notebook, feel free to upvote"
      ]
    },
    {
      "metadata": {
        "_uuid": "953d3aa0c5d3d502cfd6071b2f0dc60047df7152",
        "id": "aL0v_Xq57ogh"
      },
      "cell_type": "markdown",
      "source": [
        "# Who is Pima Indians ?\n",
        "\n",
        "\"The Pima (or Akimel O'odham, also spelled Akimel O'otham, \"River People\", formerly known as Pima) are a group of Native Americans living in an area consisting of what is now central and southern Arizona. The majority population of the surviving two bands of the Akimel O'odham are based in two reservations: the Keli Akimel O'otham on the Gila River Indian Community (GRIC) and the On'k Akimel O'odham on the Salt River Pima-Maricopa Indian Community (SRPMIC).\" Wikipedia\n",
        "\n",
        "![](http://image.noelshack.com/fichiers/2019/06/1/1549305367-0-0-0-0-pima.jpg)"
      ]
    },
    {
      "metadata": {
        "_uuid": "b4f4d76e1cb08f8f15d66e1955a34f67f6ae0845",
        "id": "8BsFzcSV7ogi"
      },
      "cell_type": "markdown",
      "source": [
        "# <a id='1'>1. Load libraries and read the data</a>"
      ]
    },
    {
      "metadata": {
        "_uuid": "bea782289cebb5ce80251fdc43d7f168ae556932",
        "id": "KQYWckuH7ogi"
      },
      "cell_type": "markdown",
      "source": [
        "## <a id='1.1'>1.1. Load libraries</a>"
      ]
    },
    {
      "metadata": {
        "_uuid": "566840eaab70ee5f86a4a938c5fd32454ed8d684",
        "id": "U7x-BUyw7ogi"
      },
      "cell_type": "markdown",
      "source": [
        "Loading the libraries"
      ]
    },
    {
      "cell_type": "code",
      "source": [
        "!pip install squarify\n"
      ],
      "metadata": {
        "id": "8hl7oB-s9q5o"
      },
      "execution_count": null,
      "outputs": []
    },
    {
      "metadata": {
        "trusted": true,
        "_uuid": "23a0cc4633a7c695bce637852e5c1a3ba912b7d3",
        "_kg_hide-input": true,
        "id": "YhbaksDv7ogj"
      },
      "cell_type": "code",
      "source": [
        "# 📦 Classic: Data manipulation & linear algebra\n",
        "import pandas as pd\n",
        "import numpy as np\n",
        "\n",
        "# 📊 Visualization libraries\n",
        "import seaborn as sns\n",
        "import matplotlib.pyplot as plt\n",
        "%matplotlib inline\n",
        "\n",
        "# 📈 Interactive plots (Plotly)\n",
        "import plotly.offline as py\n",
        "import plotly.graph_objs as go\n",
        "from plotly.offline import download_plotlyjs, init_notebook_mode, plot, iplot\n",
        "import plotly.tools as tls\n",
        "import plotly.figure_factory as ff\n",
        "import squarify  # Treemap visualization\n",
        "py.init_notebook_mode(connected=True)\n",
        "\n",
        "# ⚙️ Scikit-learn: Preprocessing, modeling, and evaluation\n",
        "from sklearn.preprocessing import StandardScaler, LabelEncoder\n",
        "from sklearn.model_selection import (\n",
        "    GridSearchCV,\n",
        "    RandomizedSearchCV,\n",
        "    cross_val_score,\n",
        "    cross_val_predict,\n",
        "    train_test_split,\n",
        "    KFold\n",
        ")\n",
        "from sklearn.metrics import (\n",
        "    precision_score,\n",
        "    recall_score,\n",
        "    accuracy_score,\n",
        "    confusion_matrix,\n",
        "    roc_curve,\n",
        "    precision_recall_curve,\n",
        "    roc_auc_score\n",
        ")\n",
        "\n",
        "from sklearn.ensemble import VotingClassifier\n",
        "from sklearn.neighbors import KNeighborsClassifier\n",
        "from yellowbrick.classifier import DiscriminationThreshold\n",
        "\n",
        "# 🔦 LightGBM\n",
        "import lightgbm as lgbm\n",
        "\n",
        "# 📊 Stats\n",
        "import scipy.stats as ss\n",
        "from numpy import interp  # ✅ Replacing deprecated scipy.interp\n",
        "from scipy.stats import randint as sp_randint, uniform as sp_uniform\n",
        "\n",
        "# 🕒 Timer for benchmarking\n",
        "import time\n",
        "from contextlib import contextmanager\n",
        "@contextmanager\n",
        "def timer(title):\n",
        "    t0 = time.time()\n",
        "    yield\n",
        "    print(f\"{title} - done in {time.time() - t0:.0f}s\")\n",
        "\n",
        "# 🚫 Suppress warnings\n",
        "import warnings\n",
        "warnings.filterwarnings('ignore')\n"
      ],
      "execution_count": null,
      "outputs": []
    },
    {
      "metadata": {
        "_uuid": "112509d29571d75416531cc72d27a860b45c1311",
        "id": "zl9_uhj27ogk"
      },
      "cell_type": "markdown",
      "source": [
        "## <a id='1.2'>1.2. Read data</a>"
      ]
    },
    {
      "metadata": {
        "_cell_guid": "79c7e3d0-c299-4dcb-8224-4455121ee9b0",
        "collapsed": true,
        "_uuid": "d629ff2d2480ee46fbb7e2d37f6b5fab8052498a",
        "trusted": false,
        "id": "F1yAtlrh7ogk"
      },
      "cell_type": "markdown",
      "source": [
        "Loading dataset with pandas (pd)"
      ]
    },
    {
      "metadata": {
        "trusted": true,
        "_uuid": "47800952ce6180ef76df6165c011c54235a08356",
        "id": "A_QqgyWk7ogl"
      },
      "cell_type": "code",
      "source": [
        "import os\n",
        "import pandas as pd\n",
        "\n",
        "# Use the correct path variable from kagglehub\n",
        "file_path = os.path.join(uciml_pima_indians_diabetes_database_path, 'diabetes.csv')\n",
        "\n",
        "# Load the dataset\n",
        "data = pd.read_csv(file_path)\n",
        "\n",
        "# Confirm successful loading\n",
        "print(\"✅ Data loaded from KaggleHub path! Shape:\", data.shape)\n",
        "\n",
        "# Optional: Preview the dataset\n",
        "data.head()\n"
      ],
      "execution_count": null,
      "outputs": []
    },
    {
      "metadata": {
        "_uuid": "c353e769073777cfa7f27dc13c9b980333c7af39",
        "id": "0UeJg2_D7ogl"
      },
      "cell_type": "markdown",
      "source": [
        "# <a id='2'>2. Overview</a>"
      ]
    },
    {
      "metadata": {
        "_uuid": "a971a0dfcf0c0502a7a84c6135c39e5d6b8d523e",
        "id": "ObmBEC-c7ogl"
      },
      "cell_type": "markdown",
      "source": [
        "## <a id='2.1'>2.1. Head</a>"
      ]
    },
    {
      "metadata": {
        "_uuid": "ff32a4b2dae7a6f9d49348346dbad324fdd340ef",
        "id": "qmgn3nh77ogm"
      },
      "cell_type": "markdown",
      "source": [
        "Checking data head and info"
      ]
    },
    {
      "metadata": {
        "trusted": true,
        "_uuid": "9d15227c13a351df3b718588fe53a32f1772cf28",
        "id": "6oE365SS7ogm"
      },
      "cell_type": "code",
      "source": [
        "display(data.info(),data.head())"
      ],
      "execution_count": null,
      "outputs": []
    },
    {
      "metadata": {
        "_uuid": "d01251d4fa7bde6617bdbed27d925b92b9442108",
        "id": "fOvw_Dtl7ogm"
      },
      "cell_type": "markdown",
      "source": [
        "The datasets consist of several medical predictor (independent) variables and one target (dependent) variable, Outcome. Independent variables include the number of pregnancies the patient has had, their BMI, insulin level, age, and so on."
      ]
    },
    {
      "metadata": {
        "_uuid": "983791b3d3e9fe819d337e47412a17a04b6b8b5f",
        "id": "0JXsx6sB7ogn"
      },
      "cell_type": "markdown",
      "source": [
        "# What is diabetes ?\n",
        "Acccording to NIH, \"**Diabetes** is a disease that occurs when your blood glucose, also called blood sugar, is too high. Blood glucose is your main source of energy and comes from the food you eat. Insulin, a hormone made by the pancreas, helps glucose from food get into your cells to be used for energy. Sometimes your body doesn’t make enough—or any—insulin or doesn’t use insulin well. Glucose then stays in your blood and doesn’t reach your cells.\n",
        "\n",
        "Over time, having too much glucose in your blood can cause health problems. Although diabetes has no cure, you can take steps to manage your diabetes and stay healthy.\n",
        "\n",
        "Sometimes people call diabetes “a touch of sugar” or “borderline diabetes.” These terms suggest that someone doesn’t really have diabetes or has a less serious case, but every case of diabetes is serious.\n",
        "\n",
        "**What are the different types of diabetes?**\n",
        "The most common types of diabetes are type 1, type 2, and gestational diabetes.\n",
        "\n",
        "**Type 1 diabetes**\n",
        "If you have type 1 diabetes, your body does not make insulin. Your immune system attacks and destroys the cells in your pancreas that make insulin. Type 1 diabetes is usually diagnosed in children and young adults, although it can appear at any age. People with type 1 diabetes need to take insulin every day to stay alive.\n",
        "\n",
        "**Type 2 diabetes**\n",
        "If you have type 2 diabetes, your body does not make or use insulin well. You can develop type 2 diabetes at any age, even during childhood. However, this type of diabetes occurs most often in middle-aged and older people. Type 2 is the most common type of diabetes.\n",
        "\n",
        "**Gestational diabetes**\n",
        "Gestational diabetes develops in some women when they are pregnant. Most of the time, this type of diabetes goes away after the baby is born. However, if you’ve had gestational diabetes, you have a greater chance of developing type 2 diabetes later in life. Sometimes diabetes diagnosed during pregnancy is actually type 2 diabetes.\n",
        "\n",
        "**Other types of diabetes**\n",
        "Less common types include monogenic diabetes, which is an inherited form of diabetes, and cystic fibrosis-related diabetes .\""
      ]
    },
    {
      "metadata": {
        "_uuid": "ff54a950368a45010c5b2ee13667ffc090e62717",
        "id": "xMfUdZDk7ogo"
      },
      "cell_type": "markdown",
      "source": [
        "## <a id='2.2'>2.2 Target</a>"
      ]
    },
    {
      "metadata": {
        "_uuid": "baeeab6acc7cf9fe4e7ef7e61f6b8f3d87c30d2d",
        "id": "VIVVmCgN7ogo"
      },
      "cell_type": "markdown",
      "source": [
        "What's target's distribution ?"
      ]
    },
    {
      "metadata": {
        "_uuid": "bdb4169ef7c50a08a5e624ce829cd423ee7ae7a8",
        "id": "1aUxgGoF7ogo"
      },
      "cell_type": "markdown",
      "source": [
        "The above graph shows that the data is unbalanced. The number of non-diabetic is 268 the number of diabetic patients is 500"
      ]
    },
    {
      "metadata": {
        "trusted": true,
        "_uuid": "76b73e2c539996fe0e478fb2d2e3b0919af1fb1d",
        "_kg_hide-input": true,
        "id": "Fp5J8NmI7ogp"
      },
      "cell_type": "code",
      "source": [
        "# 2 datasets\n",
        "D = data[(data['Outcome'] != 0)]\n",
        "H = data[(data['Outcome'] == 0)]\n",
        "\n",
        "#------------COUNT-----------------------\n",
        "def target_count():\n",
        "    trace = go.Bar( x = data['Outcome'].value_counts().values.tolist(),\n",
        "                    y = ['healthy','diabetic' ],\n",
        "                    orientation = 'h',\n",
        "                    text=data['Outcome'].value_counts().values.tolist(),\n",
        "                    textfont=dict(size=15),\n",
        "                    textposition = 'auto',\n",
        "                    opacity = 0.8,marker=dict(\n",
        "                    color=['lightskyblue', 'gold'],\n",
        "                    line=dict(color='#000000',width=1.5)))\n",
        "\n",
        "    layout = dict(title =  'Count of Outcome variable')\n",
        "\n",
        "    fig = dict(data = [trace], layout=layout)\n",
        "    py.iplot(fig)\n",
        "\n",
        "#------------PERCENTAGE-------------------\n",
        "def target_percent():\n",
        "    trace = go.Pie(labels = ['healthy','diabetic'], values = data['Outcome'].value_counts(),\n",
        "                   textfont=dict(size=15), opacity = 0.8,\n",
        "                   marker=dict(colors=['lightskyblue', 'gold'],\n",
        "                               line=dict(color='#000000', width=1.5)))\n",
        "\n",
        "\n",
        "    layout = dict(title =  'Distribution of Outcome variable')\n",
        "\n",
        "    fig = dict(data = [trace], layout=layout)\n",
        "    py.iplot(fig)"
      ],
      "execution_count": null,
      "outputs": []
    },
    {
      "metadata": {
        "trusted": true,
        "id": "LX4Oz_VP7ogq"
      },
      "cell_type": "code",
      "source": [
        "target_count()\n",
        "target_percent()"
      ],
      "execution_count": null,
      "outputs": []
    },
    {
      "metadata": {
        "_uuid": "ee8739738e68c6b3315362fd29dff969a69adae4",
        "id": "Ri2zt6W37ogr"
      },
      "cell_type": "markdown",
      "source": [
        "## <a id='2.3'>2.3. Missing values</a>"
      ]
    },
    {
      "metadata": {
        "_uuid": "c6d5fc6d990619ce74f6213d5bdbfe9fac3ae280",
        "id": "Tiy2AABx7ogt"
      },
      "cell_type": "markdown",
      "source": [
        "We saw on data.head() that some features contain 0, it doesn't make sense here and this indicates missing value\n",
        "Below we replace 0 value by NaN :"
      ]
    },
    {
      "metadata": {
        "trusted": true,
        "_uuid": "2f2140e6a547414234296a9e8ce52beb500a36de",
        "id": "x9-W2PiF7ogw"
      },
      "cell_type": "code",
      "source": [
        "# Replace 0s with NaN in medically relevant columns\n",
        "cols_to_fix = ['Glucose', 'BloodPressure', 'SkinThickness', 'Insulin', 'BMI']\n",
        "data[cols_to_fix] = data[cols_to_fix].replace(0, np.nan)\n",
        "\n",
        "# Confirm how many NaNs we now have\n",
        "print(\"✅ Zeros replaced with NaN. Missing values per column:\")\n",
        "print(data[cols_to_fix].isnull().sum())\n"
      ],
      "execution_count": null,
      "outputs": []
    },
    {
      "metadata": {
        "_uuid": "8d5cabd7139cbf3f529fccc932c07de251821995",
        "id": "Iljd_aYZ7ogw"
      },
      "cell_type": "markdown",
      "source": [
        "Now, we can look at where are missing values :"
      ]
    },
    {
      "metadata": {
        "trusted": true,
        "_uuid": "74599b17d6ea1aaa372ce7ff52c010d7efa814d7",
        "_kg_hide-input": true,
        "id": "sDEARGtx7ogx"
      },
      "cell_type": "code",
      "source": [
        "# Define missing plot to detect all missing values in dataset\n",
        "def missing_plot(dataset, key) :\n",
        "    null_feat = pd.DataFrame(len(dataset[key]) - dataset.isnull().sum(), columns = ['Count'])\n",
        "    percentage_null = pd.DataFrame((len(dataset[key]) - (len(dataset[key]) - dataset.isnull().sum()))/len(dataset[key])*100, columns = ['Count'])\n",
        "    percentage_null = percentage_null.round(2)\n",
        "\n",
        "    trace = go.Bar(x = null_feat.index, y = null_feat['Count'] ,opacity = 0.8, text = percentage_null['Count'],  textposition = 'auto',marker=dict(color = '#7EC0EE',\n",
        "            line=dict(color='#000000',width=1.5)))\n",
        "\n",
        "    layout = dict(title =  \"Missing Values (count & %)\")\n",
        "\n",
        "    fig = dict(data = [trace], layout=layout)\n",
        "    py.iplot(fig)\n"
      ],
      "execution_count": null,
      "outputs": []
    },
    {
      "metadata": {
        "trusted": true,
        "id": "DKvq3XQU7ogx"
      },
      "cell_type": "code",
      "source": [
        "# Plotting\n",
        "missing_plot(data, 'Outcome')"
      ],
      "execution_count": null,
      "outputs": []
    },
    {
      "metadata": {
        "_uuid": "e79e4d1cb47fb7ec0e09522a7a788acdebc455db",
        "id": "cST7keRz7ogy"
      },
      "cell_type": "markdown",
      "source": [
        "Missing values :\n",
        "* Insulin = 48.7% - 374\n",
        "* SkinThickness = 29.56% - 227\n",
        "* BloodPressure = 4.56% - 35\n",
        "* BMI = 1.43% - 11\n",
        "* Glucose = 0.65% - 5"
      ]
    },
    {
      "metadata": {
        "trusted": true,
        "_uuid": "834a7ce26a0f25407e4f2e4f836f4b6d1ca4c106",
        "id": "0ApiytAn7ogz"
      },
      "cell_type": "code",
      "source": [
        "plt.style.use('ggplot') # Using ggplot2 style visuals\n",
        "\n",
        "f, ax = plt.subplots(figsize=(11, 15))\n",
        "\n",
        "ax.set_facecolor('#fafafa')\n",
        "ax.set(xlim=(-.05, 200))\n",
        "plt.ylabel('Variables')\n",
        "plt.title(\"Overview Data Set\")\n",
        "ax = sns.boxplot(data = data,\n",
        "  orient = 'h',\n",
        "  palette = 'Set2')"
      ],
      "execution_count": null,
      "outputs": []
    },
    {
      "metadata": {
        "_uuid": "211f43cada34d5bf9ea4d8df0befbf5ad1937098",
        "id": "vfIeKqsM7ogz"
      },
      "cell_type": "markdown",
      "source": [
        "OK, all missing values are encoded with NaN value"
      ]
    },
    {
      "metadata": {
        "_uuid": "e7481618ecee67a373ff3f1bcf857bc10b7cefa3",
        "id": "-Iix4Zfb7og0"
      },
      "cell_type": "markdown",
      "source": [
        "**To fill these Nan values the data distribution needs to be understood against the target**."
      ]
    },
    {
      "metadata": {
        "_kg_hide-input": true,
        "trusted": true,
        "id": "wNBsiBxQ7og0"
      },
      "cell_type": "code",
      "source": [
        "def correlation_plot():\n",
        "    #correlation\n",
        "    correlation = data.corr()\n",
        "    #tick labels\n",
        "    matrix_cols = correlation.columns.tolist()\n",
        "    #convert to array\n",
        "    corr_array  = np.array(correlation)\n",
        "    trace = go.Heatmap(z = corr_array,\n",
        "                       x = matrix_cols,\n",
        "                       y = matrix_cols,\n",
        "                       colorscale='Viridis',\n",
        "                       colorbar   = dict() ,\n",
        "                      )\n",
        "    layout = go.Layout(dict(title = 'Correlation Matrix for variables',\n",
        "                            #autosize = False,\n",
        "                            #height  = 1400,\n",
        "                            #width   = 1600,\n",
        "                            margin  = dict(r = 0 ,l = 100,\n",
        "                                           t = 0,b = 100,\n",
        "                                         ),\n",
        "                            yaxis   = dict(tickfont = dict(size = 9)),\n",
        "                            xaxis   = dict(tickfont = dict(size = 9)),\n",
        "                           )\n",
        "                      )\n",
        "    fig = go.Figure(data = [trace],layout = layout)\n",
        "    py.iplot(fig)"
      ],
      "execution_count": null,
      "outputs": []
    },
    {
      "metadata": {
        "id": "WCV2Bsoa7og1"
      },
      "cell_type": "markdown",
      "source": [
        "A **correlation matrix** is a table showing correlation coefficients between sets of variables. Each random variable (Xi) in the table is correlated with each of the other values in the table (Xj). This allows you to see which pairs have the highest correlation."
      ]
    },
    {
      "metadata": {
        "trusted": true,
        "id": "ay7Uq6fx7og1"
      },
      "cell_type": "code",
      "source": [
        "correlation_plot()"
      ],
      "execution_count": null,
      "outputs": []
    },
    {
      "metadata": {
        "id": "Vj0aBkde7og1"
      },
      "cell_type": "markdown",
      "source": [
        "\n",
        "Below, you can see the accuracy of LGBM with replacement of the NaN values by the variable's mean (same results with the median)"
      ]
    },
    {
      "metadata": {
        "_uuid": "36fadb9caf931e2b2879be1c09f43db898c659be",
        "id": "dy9sTttq7og2"
      },
      "cell_type": "markdown",
      "source": [
        "![](http://image.noelshack.com/fichiers/2019/06/1/1549276143-0-0-0.png)"
      ]
    },
    {
      "metadata": {
        "_uuid": "119380856aa1df4188cb33b45c9881432fcbcc92",
        "id": "6Dwpxhz67ohA"
      },
      "cell_type": "markdown",
      "source": [
        "To replace missing values, we'll use median by target (Outcome)"
      ]
    },
    {
      "metadata": {
        "_uuid": "bb513518c2769700f3450e11c257bc9f1fc35603",
        "id": "UivlFuJm7ohA"
      },
      "cell_type": "markdown",
      "source": [
        "# <a id='3'>3. Replace missing values and EDA</a>"
      ]
    },
    {
      "metadata": {
        "trusted": true,
        "id": "yB9JV92S7ohB"
      },
      "cell_type": "code",
      "source": [
        "def median_target(var):\n",
        "    temp = data[data[var].notnull()]\n",
        "    temp = temp[[var, 'Outcome']].groupby(['Outcome'])[[var]].median().reset_index()\n",
        "    return temp"
      ],
      "execution_count": null,
      "outputs": []
    },
    {
      "metadata": {
        "_uuid": "2f82aa755cc3ea59a3876d31ba9e68050a41d8cb",
        "id": "oAY1Gfae7ohB"
      },
      "cell_type": "markdown",
      "source": [
        "## <a id='3.1'>3.1. Insulin</a>"
      ]
    },
    {
      "metadata": {
        "_uuid": "b523b345c10c22c4ed824d3acbda22b36d690278",
        "id": "0Js6sUEj7ohB"
      },
      "cell_type": "markdown",
      "source": [
        "* **Insulin** : 2-Hour serum insulin (mu U/ml)"
      ]
    },
    {
      "metadata": {
        "trusted": true,
        "_uuid": "a4a6f5b2ded997f3fe1f2a993642415ab51537d7",
        "_kg_hide-input": true,
        "id": "fpl43DS17ohC"
      },
      "cell_type": "code",
      "source": [
        "def plot_distribution(data_select, size_bin) :\n",
        "    # 2 datasets\n",
        "    tmp1 = D[data_select]\n",
        "    tmp2 = H[data_select]\n",
        "    hist_data = [tmp1, tmp2]\n",
        "\n",
        "    group_labels = ['diabetic', 'healthy']\n",
        "    colors = ['#FFD700', '#7EC0EE']\n",
        "\n",
        "    fig = ff.create_distplot(hist_data, group_labels, colors = colors, show_hist = True, bin_size = size_bin, curve_type='kde')\n",
        "\n",
        "    fig['layout'].update(title = data_select)\n",
        "\n",
        "    py.iplot(fig, filename = 'Density plot')"
      ],
      "execution_count": null,
      "outputs": []
    },
    {
      "metadata": {
        "trusted": true,
        "_uuid": "1ef0244a3d2aebaff45e9f9d4890c180970edc16",
        "id": "nLus06q97ohC"
      },
      "cell_type": "code",
      "source": [
        "plot_distribution('Insulin', 0)"
      ],
      "execution_count": null,
      "outputs": []
    },
    {
      "metadata": {
        "trusted": true,
        "_uuid": "bc876a20cde27afb684ad98c611f4aeb0fe3e6a6",
        "id": "_qfYsNC67ohC"
      },
      "cell_type": "code",
      "source": [
        "median_target('Insulin')"
      ],
      "execution_count": null,
      "outputs": []
    },
    {
      "metadata": {
        "_uuid": "e5b98635bea2a4534fd6d09242adf18b51cf2b4b",
        "id": "LqBCW39o7ohD"
      },
      "cell_type": "markdown",
      "source": [
        "Insulin's medians by the target are really different ! 102.5 for a healthy person and 169.5 for a diabetic person"
      ]
    },
    {
      "metadata": {
        "trusted": true,
        "_uuid": "3c19882df5f6e2385c171d3018c0000c3e23e08c",
        "id": "IR8NelfK7ohD"
      },
      "cell_type": "code",
      "source": [
        "data.loc[(data['Outcome'] == 0 ) & (data['Insulin'].isnull()), 'Insulin'] = 102.5\n",
        "data.loc[(data['Outcome'] == 1 ) & (data['Insulin'].isnull()), 'Insulin'] = 169.5"
      ],
      "execution_count": null,
      "outputs": []
    },
    {
      "metadata": {
        "_uuid": "499e11a926601cf7c26bc4d16ff48124887d68a8",
        "id": "xxlTXlMX7ohD"
      },
      "cell_type": "markdown",
      "source": [
        "## <a id='3.2'>3.2. Glucose</a>"
      ]
    },
    {
      "metadata": {
        "_uuid": "17b53a52c0cff667605a29b97779492ed2b42ed9",
        "id": "MCf0kbMa7ohE"
      },
      "cell_type": "markdown",
      "source": [
        "* **Glucose** : Plasma glucose concentration a 2 hours in an oral glucose tolerance test"
      ]
    },
    {
      "metadata": {
        "trusted": true,
        "_uuid": "348a8fb28f8a3a189b378f6e266307ea7235d786",
        "id": "yStUKRHu7ohE"
      },
      "cell_type": "code",
      "source": [
        "plot_distribution('Glucose', 0)"
      ],
      "execution_count": null,
      "outputs": []
    },
    {
      "metadata": {
        "trusted": true,
        "_uuid": "85cf706414ee3e8966fe89b7ac6883bcde2e2cc8",
        "id": "EVVumfMl7ohF"
      },
      "cell_type": "code",
      "source": [
        "median_target('Glucose')"
      ],
      "execution_count": null,
      "outputs": []
    },
    {
      "metadata": {
        "trusted": true,
        "_uuid": "488ed1018a010be11c5b1ac3bb57216c7bb57f36",
        "id": "aNQJ7AHE7ohF"
      },
      "cell_type": "code",
      "source": [
        "data.loc[(data['Outcome'] == 0 ) & (data['Glucose'].isnull()), 'Glucose'] = 107\n",
        "data.loc[(data['Outcome'] == 1 ) & (data['Glucose'].isnull()), 'Glucose'] = 140"
      ],
      "execution_count": null,
      "outputs": []
    },
    {
      "metadata": {
        "_uuid": "ea448b8ca68dfb489abd7bfb9b793434d12a5696",
        "id": "zAZ5JWdy7ohG"
      },
      "cell_type": "markdown",
      "source": [
        "107 for a healthy person and 140 for a diabetic person"
      ]
    },
    {
      "metadata": {
        "_uuid": "4aa536249bfbb1ded6d13b5ce0e46a1de0b2ffe0",
        "id": "QUFbdscr7ohG"
      },
      "cell_type": "markdown",
      "source": [
        "## <a id='3.3'>3.3. SkinThickness</a>"
      ]
    },
    {
      "metadata": {
        "_uuid": "5f3ccf3c4df746aa120fd69beafa1b105a094645",
        "id": "qyCMg43a7ohH"
      },
      "cell_type": "markdown",
      "source": [
        "* ** SkinThickness** : Triceps skin fold thickness (mm)"
      ]
    },
    {
      "metadata": {
        "trusted": true,
        "_uuid": "f323264e0d6c04026b5ffbc39f693a5c7a8b5149",
        "id": "lCNEOWtp7ohI"
      },
      "cell_type": "code",
      "source": [
        "plot_distribution('SkinThickness', 10)"
      ],
      "execution_count": null,
      "outputs": []
    },
    {
      "metadata": {
        "trusted": true,
        "_uuid": "55a5ef3b0fb7d6143cce64c8c5119247fdfa2754",
        "id": "Xl-mtuw67ohI"
      },
      "cell_type": "code",
      "source": [
        "median_target('SkinThickness')"
      ],
      "execution_count": null,
      "outputs": []
    },
    {
      "metadata": {
        "trusted": true,
        "_uuid": "0147c4fcb49b8db3773731494266aa264eea85c0",
        "id": "vd9qwbw87ohI"
      },
      "cell_type": "code",
      "source": [
        "data.loc[(data['Outcome'] == 0 ) & (data['SkinThickness'].isnull()), 'SkinThickness'] = 27\n",
        "data.loc[(data['Outcome'] == 1 ) & (data['SkinThickness'].isnull()), 'SkinThickness'] = 32"
      ],
      "execution_count": null,
      "outputs": []
    },
    {
      "metadata": {
        "_uuid": "6187c51d2307afaa58ee8d742a1da0c2e369119a",
        "id": "iUHfnq767ohJ"
      },
      "cell_type": "markdown",
      "source": [
        "27 for a healthy person and 32 for a diabetic person"
      ]
    },
    {
      "metadata": {
        "_uuid": "24ea5bf72e8a05857df77a30bb1de0bdfe30ea53",
        "id": "cuWr_zQj7ohJ"
      },
      "cell_type": "markdown",
      "source": [
        "## <a id='3.4'>3.4. BloodPressure</a>"
      ]
    },
    {
      "metadata": {
        "_uuid": "1112fbed5da8a86d544d551fdefaeb8130e727b5",
        "id": "zK8eA4si7ohK"
      },
      "cell_type": "markdown",
      "source": [
        "* ** BloodPressure** : Diastolic blood pressure (mm Hg)"
      ]
    },
    {
      "metadata": {
        "trusted": true,
        "_uuid": "66488309136a3badc8ff6ef2590fd97203551e20",
        "id": "aZJ37DnH7ohK"
      },
      "cell_type": "code",
      "source": [
        "plot_distribution('BloodPressure', 5)"
      ],
      "execution_count": null,
      "outputs": []
    },
    {
      "metadata": {
        "trusted": true,
        "_uuid": "3e8fe49e7c9fddf82dd02cda889d21a844e0b4e9",
        "id": "38Nd0yf87ohK"
      },
      "cell_type": "code",
      "source": [
        "median_target('BloodPressure')"
      ],
      "execution_count": null,
      "outputs": []
    },
    {
      "metadata": {
        "trusted": true,
        "_uuid": "43df3aef78e58c0b8326477e73ab799e97a205e6",
        "id": "q3qDOQfT7ohL"
      },
      "cell_type": "code",
      "source": [
        "data.loc[(data['Outcome'] == 0 ) & (data['BloodPressure'].isnull()), 'BloodPressure'] = 70\n",
        "data.loc[(data['Outcome'] == 1 ) & (data['BloodPressure'].isnull()), 'BloodPressure'] = 74.5"
      ],
      "execution_count": null,
      "outputs": []
    },
    {
      "metadata": {
        "_uuid": "7a5882c75d6c0cde710a9a07103a24bad5f02740",
        "id": "uHcCyY7Y7ohL"
      },
      "cell_type": "markdown",
      "source": [
        "## <a id='3.5'>3.5. BMI</a>"
      ]
    },
    {
      "metadata": {
        "_uuid": "791cc62ad8d17b92609cf5185e05849abf6afb3a",
        "id": "RVrE5p3M7ohL"
      },
      "cell_type": "markdown",
      "source": [
        "* **BMI** : Body mass index (weight in kg/(height in m)^2)"
      ]
    },
    {
      "metadata": {
        "trusted": true,
        "_uuid": "97c35d4790020402a78251d25822d82bb77428a2",
        "id": "jW7vpBsg7ohM"
      },
      "cell_type": "code",
      "source": [
        "plot_distribution('BMI', 0)"
      ],
      "execution_count": null,
      "outputs": []
    },
    {
      "metadata": {
        "trusted": true,
        "_uuid": "ea7129e47bba9fe49eba3d00fe480ea354c572df",
        "id": "kwHtqzCy7ohM"
      },
      "cell_type": "code",
      "source": [
        "median_target('BMI')"
      ],
      "execution_count": null,
      "outputs": []
    },
    {
      "metadata": {
        "trusted": true,
        "_uuid": "e2c2d98b942c948aa35c9fdcd64e2e2d7185957a",
        "id": "dV4T9fIw7ohM"
      },
      "cell_type": "code",
      "source": [
        "data.loc[(data['Outcome'] == 0 ) & (data['BMI'].isnull()), 'BMI'] = 30.1\n",
        "data.loc[(data['Outcome'] == 1 ) & (data['BMI'].isnull()), 'BMI'] = 34.3"
      ],
      "execution_count": null,
      "outputs": []
    },
    {
      "metadata": {
        "_uuid": "e1336bbbbb8b0446b817db250a4e9ae8f3233332",
        "id": "G4vLD0iw7ohN"
      },
      "cell_type": "markdown",
      "source": [
        "* **Age** : Age (years)\n",
        "* **DiabetesPedigreeFunction** : Diabetes pedigree function\n",
        "* **Pregnancies** : Number of times pregnant"
      ]
    },
    {
      "metadata": {
        "trusted": true,
        "_uuid": "11a9b9862b95427ead3139fb17d1a644d6132f37",
        "id": "zTafZBm37ohN"
      },
      "cell_type": "code",
      "source": [
        "#plot distribution\n",
        "plot_distribution('Age', 0)\n",
        "plot_distribution('Pregnancies', 0)\n",
        "plot_distribution('DiabetesPedigreeFunction', 0)"
      ],
      "execution_count": null,
      "outputs": []
    },
    {
      "metadata": {
        "trusted": true,
        "_uuid": "e3bbcc1827f1f547e7f9489923c37256921e960d",
        "id": "EznbIz3A7ohO"
      },
      "cell_type": "code",
      "source": [
        "missing_plot(data, 'Outcome')"
      ],
      "execution_count": null,
      "outputs": []
    },
    {
      "metadata": {
        "_uuid": "ec9b8bf42c2485f93cc697dfdc6cf038e21c81c6",
        "id": "e1Z945_47ohO"
      },
      "cell_type": "markdown",
      "source": [
        "All features are complete !\n",
        "Now, we can create new features"
      ]
    },
    {
      "metadata": {
        "_uuid": "0aeac5705d8202fb0fa1d3de0d9e1b17e72c5760",
        "id": "lG_k0l9C7ohP"
      },
      "cell_type": "markdown",
      "source": [
        "# <a id='4'>4. New features (16) and EDA</a>"
      ]
    },
    {
      "metadata": {
        "_uuid": "04165bdbf8bbcebaa7df4c6966dbb7f905c3f9d5",
        "id": "C0QAL-cS7ohP"
      },
      "cell_type": "markdown",
      "source": [
        "Here, we define 3 plots functions"
      ]
    },
    {
      "metadata": {
        "trusted": true,
        "_uuid": "2a40d97bbfbf3b61791a7b15f99d350947a9614a",
        "_kg_hide-input": true,
        "id": "fsaibORC7ohR"
      },
      "cell_type": "code",
      "source": [
        "def plot_feat1_feat2(feat1, feat2) :\n",
        "    D = data[(data['Outcome'] != 0)]\n",
        "    H = data[(data['Outcome'] == 0)]\n",
        "    trace0 = go.Scatter(\n",
        "        x = D[feat1],\n",
        "        y = D[feat2],\n",
        "        name = 'diabetic',\n",
        "        mode = 'markers',\n",
        "        marker = dict(color = '#FFD700',\n",
        "            line = dict(\n",
        "                width = 1)))\n",
        "\n",
        "    trace1 = go.Scatter(\n",
        "        x = H[feat1],\n",
        "        y = H[feat2],\n",
        "        name = 'healthy',\n",
        "        mode = 'markers',\n",
        "        marker = dict(color = '#7EC0EE',\n",
        "            line = dict(\n",
        "                width = 1)))\n",
        "\n",
        "    layout = dict(title = feat1 +\" \"+\"vs\"+\" \"+ feat2,\n",
        "                  yaxis = dict(title = feat2,zeroline = False),\n",
        "                  xaxis = dict(title = feat1, zeroline = False)\n",
        "                 )\n",
        "\n",
        "    plots = [trace0, trace1]\n",
        "\n",
        "    fig = dict(data = plots, layout=layout)\n",
        "    py.iplot(fig)"
      ],
      "execution_count": null,
      "outputs": []
    },
    {
      "metadata": {
        "trusted": true,
        "_uuid": "25c1a384e339cb06a9a513389a12b14093089861",
        "_kg_hide-input": true,
        "id": "EL0xMlzh7ohS"
      },
      "cell_type": "code",
      "source": [
        "def barplot(var_select, sub) :\n",
        "    tmp1 = data[(data['Outcome'] != 0)]\n",
        "    tmp2 = data[(data['Outcome'] == 0)]\n",
        "    tmp3 = pd.DataFrame(pd.crosstab(data[var_select],data['Outcome']), )\n",
        "    tmp3['% diabetic'] = tmp3[1] / (tmp3[1] + tmp3[0]) * 100\n",
        "\n",
        "    color=['lightskyblue','gold' ]\n",
        "    trace1 = go.Bar(\n",
        "        x=tmp1[var_select].value_counts().keys().tolist(),\n",
        "        y=tmp1[var_select].value_counts().values.tolist(),\n",
        "        text=tmp1[var_select].value_counts().values.tolist(),\n",
        "        textposition = 'auto',\n",
        "        name='diabetic',opacity = 0.8, marker=dict(\n",
        "        color='gold',\n",
        "        line=dict(color='#000000',width=1)))\n",
        "\n",
        "\n",
        "    trace2 = go.Bar(\n",
        "        x=tmp2[var_select].value_counts().keys().tolist(),\n",
        "        y=tmp2[var_select].value_counts().values.tolist(),\n",
        "        text=tmp2[var_select].value_counts().values.tolist(),\n",
        "        textposition = 'auto',\n",
        "        name='healthy', opacity = 0.8, marker=dict(\n",
        "        color='lightskyblue',\n",
        "        line=dict(color='#000000',width=1)))\n",
        "\n",
        "    trace3 =  go.Scatter(\n",
        "        x=tmp3.index,\n",
        "        y=tmp3['% diabetic'],\n",
        "        yaxis = 'y2',\n",
        "        name='% diabetic', opacity = 0.6, marker=dict(\n",
        "        color='black',\n",
        "        line=dict(color='#000000',width=0.5\n",
        "        )))\n",
        "\n",
        "    layout = dict(title =  str(var_select)+' '+(sub),\n",
        "              xaxis=dict(),\n",
        "              yaxis=dict(title= 'Count'),\n",
        "              yaxis2=dict(range= [-0, 75],\n",
        "                          overlaying= 'y',\n",
        "                          anchor= 'x',\n",
        "                          side= 'right',\n",
        "                          zeroline=False,\n",
        "                          showgrid= False,\n",
        "                          title= '% diabetic'\n",
        "                         ))\n",
        "\n",
        "    fig = go.Figure(data=[trace1, trace2, trace3], layout=layout)\n",
        "    py.iplot(fig)"
      ],
      "execution_count": null,
      "outputs": []
    },
    {
      "metadata": {
        "trusted": true,
        "_uuid": "5be28b1936e4db817e87ea77c3cfb5061669f841",
        "_kg_hide-input": true,
        "id": "MugU0Vo57ohS"
      },
      "cell_type": "code",
      "source": [
        "# Define pie plot to visualize each variable repartition vs target modalities : Survived or Died (train)\n",
        "def plot_pie(var_select, sub) :\n",
        "    D = data[(data['Outcome'] != 0)]\n",
        "    H = data[(data['Outcome'] == 0)]\n",
        "\n",
        "    col =['Silver', 'mediumturquoise','#CF5C36','lightblue','magenta', '#FF5D73','#F2D7EE','mediumturquoise']\n",
        "\n",
        "    trace1 = go.Pie(values  = D[var_select].value_counts().values.tolist(),\n",
        "                    labels  = D[var_select].value_counts().keys().tolist(),\n",
        "                    textfont=dict(size=15), opacity = 0.8,\n",
        "                    hole = 0.5,\n",
        "                    hoverinfo = \"label+percent+name\",\n",
        "                    domain  = dict(x = [.0,.48]),\n",
        "                    name    = \"Diabetic\",\n",
        "                    marker  = dict(colors = col, line = dict(width = 1.5)))\n",
        "    trace2 = go.Pie(values  = H[var_select].value_counts().values.tolist(),\n",
        "                    labels  = H[var_select].value_counts().keys().tolist(),\n",
        "                    textfont=dict(size=15), opacity = 0.8,\n",
        "                    hole = 0.5,\n",
        "                    hoverinfo = \"label+percent+name\",\n",
        "                    marker  = dict(line = dict(width = 1.5)),\n",
        "                    domain  = dict(x = [.52,1]),\n",
        "                    name    = \"Healthy\" )\n",
        "\n",
        "    layout = go.Layout(dict(title = var_select + \" distribution by target <br>\"+(sub),\n",
        "                            annotations = [ dict(text = \"Diabetic\"+\" : \"+\"268\",\n",
        "                                                font = dict(size = 13),\n",
        "                                                showarrow = False,\n",
        "                                                x = .22, y = -0.1),\n",
        "                                            dict(text = \"Healthy\"+\" : \"+\"500\",\n",
        "                                                font = dict(size = 13),\n",
        "                                                showarrow = False,\n",
        "                                                x = .8,y = -.1)]))\n",
        "\n",
        "\n",
        "    fig  = go.Figure(data = [trace1,trace2],layout = layout)\n",
        "    py.iplot(fig)"
      ],
      "execution_count": null,
      "outputs": []
    },
    {
      "metadata": {
        "_uuid": "8c87453a9ead76ed1339fc0d4d447df0ba369513",
        "id": "tNvHFPHJ7ohT"
      },
      "cell_type": "markdown",
      "source": [
        "* **Glucose and Age**"
      ]
    },
    {
      "metadata": {
        "trusted": true,
        "_uuid": "5fc644b36fed2b4b1f72ef703cc46b9a4b46e329",
        "id": "fmeIbY4p7ohT"
      },
      "cell_type": "code",
      "source": [
        "plot_feat1_feat2('Glucose','Age')"
      ],
      "execution_count": null,
      "outputs": []
    },
    {
      "metadata": {
        "_uuid": "2227feace16a42cfd0e28e4a9dea594f7edcde2c",
        "id": "YGXoJIQE7ohU"
      },
      "cell_type": "markdown",
      "source": [
        "Healthy persons are concentrate with an age <= 30 and glucose <= 120"
      ]
    },
    {
      "metadata": {
        "trusted": true,
        "_uuid": "b1e23514f4da17478fe4c78c9ccea80aa358efcb",
        "id": "qJ3KotlD7ohU"
      },
      "cell_type": "code",
      "source": [
        "palette ={0 : 'lightblue', 1 : 'gold'}\n",
        "edgecolor = 'black'\n",
        "\n",
        "fig = plt.figure(figsize=(12,8))\n",
        "\n",
        "ax1 = sns.scatterplot(x = data['Glucose'], y = data['Age'], hue = \"Outcome\",\n",
        "                    data = data, palette = palette, edgecolor=edgecolor)\n",
        "\n",
        "plt.annotate('N1', size=25, color='black', xy=(80, 30), xytext=(60, 35),\n",
        "            arrowprops=dict(facecolor='black', shrink=0.05),\n",
        "            )\n",
        "plt.plot([50, 120], [30, 30], linewidth=2, color = 'red')\n",
        "plt.plot([120, 120], [20, 30], linewidth=2, color = 'red')\n",
        "plt.plot([50, 120], [20, 20], linewidth=2, color = 'red')\n",
        "plt.plot([50, 50], [20, 30], linewidth=2, color = 'red')\n",
        "plt.title('Glucose vs Age')\n",
        "plt.show()"
      ],
      "execution_count": null,
      "outputs": []
    },
    {
      "metadata": {
        "trusted": true,
        "_uuid": "0e5394d607f073906513216d1aa06eb5d48d6586",
        "id": "OzGPA3rP7ohe"
      },
      "cell_type": "code",
      "source": [
        "data.loc[:,'N1']=0\n",
        "data.loc[(data['Age']<=30) & (data['Glucose']<=120),'N1']=1"
      ],
      "execution_count": null,
      "outputs": []
    },
    {
      "metadata": {
        "trusted": true,
        "_uuid": "60d719937b5b96280cd7f02a2801d01efe839362",
        "id": "ECcqNkYM7ohf"
      },
      "cell_type": "code",
      "source": [
        "barplot('N1', ':Glucose <= 120 and Age <= 30')"
      ],
      "execution_count": null,
      "outputs": []
    },
    {
      "metadata": {
        "trusted": true,
        "_uuid": "6142ef2965da9bf2ea4a58eff147c35f25772ce9",
        "id": "m-bDZdth7ohf"
      },
      "cell_type": "code",
      "source": [
        "plot_pie('N1', '(Glucose <= 120 and Age <= 30)')"
      ],
      "execution_count": null,
      "outputs": []
    },
    {
      "metadata": {
        "_uuid": "6c80914150024e00aaaa570d7d1a0a10dd34947f",
        "id": "6vWucWe87ohf"
      },
      "cell_type": "markdown",
      "source": [
        "* **BMI **"
      ]
    },
    {
      "metadata": {
        "_uuid": "589deebb781f3a07833c2df941d20aa7f1fc797e",
        "id": "riFxRq2_7ohg"
      },
      "cell_type": "markdown",
      "source": [
        "According to wikipedia \"The body mass index (BMI) or Quetelet index is a value derived from the mass (weight) and height of an individual. The BMI is defined as the body mass divided by the square of the body height, and is universally expressed in units of kg/m2, resulting from mass in kilograms and height in metres.\"\n",
        "\n",
        "30 kg/m² is the limit to obesity"
      ]
    },
    {
      "metadata": {
        "trusted": true,
        "_uuid": "73eefe72436ddcc17f5daa311fd3e9a3005d2748",
        "id": "4ql1g-zD7ohg"
      },
      "cell_type": "code",
      "source": [
        "data.loc[:,'N2']=0\n",
        "data.loc[(data['BMI']<=30),'N2']=1"
      ],
      "execution_count": null,
      "outputs": []
    },
    {
      "metadata": {
        "trusted": true,
        "_uuid": "2819fb8ebd9b4de967db224fa64f5efae25a8061",
        "id": "SEJffOq57ohg"
      },
      "cell_type": "code",
      "source": [
        "barplot('N2', ': BMI <= 30')"
      ],
      "execution_count": null,
      "outputs": []
    },
    {
      "metadata": {
        "trusted": true,
        "_uuid": "99c78de6dfc6f1cb0b7f64ba7d38777368c7a841",
        "id": "yO5uClEL7ohh"
      },
      "cell_type": "code",
      "source": [
        "plot_pie('N2', 'BMI <= 30')"
      ],
      "execution_count": null,
      "outputs": []
    },
    {
      "metadata": {
        "_uuid": "7d1d5ec8557230bea531671ddc88cd7eaee3197d",
        "id": "vYIM3QOL7ohi"
      },
      "cell_type": "markdown",
      "source": [
        "* **Pregnancies and Age**"
      ]
    },
    {
      "metadata": {
        "trusted": true,
        "_uuid": "10ffea4ec9c13d71e51d0b7a3342391fd5535ea4",
        "id": "YWMqV6P17ohi"
      },
      "cell_type": "code",
      "source": [
        "plot_feat1_feat2('Pregnancies','Age')"
      ],
      "execution_count": null,
      "outputs": []
    },
    {
      "metadata": {
        "trusted": true,
        "_uuid": "91b08f668b47584d91cf1727748b7fcc84f7728a",
        "id": "btzalzGj7ohi"
      },
      "cell_type": "code",
      "source": [
        "palette ={0 : 'lightblue', 1 : 'gold'}\n",
        "edgecolor = 'black'\n",
        "\n",
        "fig = plt.figure(figsize=(12,8))\n",
        "\n",
        "ax1 = sns.scatterplot(x = data['Pregnancies'], y = data['Age'], hue = \"Outcome\",\n",
        "                    data = data, palette = palette, edgecolor=edgecolor)\n",
        "\n",
        "plt.annotate('N3', size=25, color='black', xy=(6, 25), xytext=(10, 25),\n",
        "            arrowprops=dict(facecolor='black', shrink=0.05),\n",
        "            )\n",
        "plt.plot([0, 6], [30, 30], linewidth=2, color = 'red')\n",
        "plt.plot([6, 6], [20, 30], linewidth=2, color = 'red')\n",
        "plt.plot([0, 6], [20, 20], linewidth=2, color = 'red')\n",
        "plt.plot([0, 0], [20, 30], linewidth=2, color = 'red')\n",
        "plt.title('Pregnancies vs Age')\n",
        "plt.show()"
      ],
      "execution_count": null,
      "outputs": []
    },
    {
      "metadata": {
        "trusted": true,
        "_uuid": "f39035d4eb20617f6390c3bdbc8793ec204c7919",
        "id": "UG_uVi227ohj"
      },
      "cell_type": "code",
      "source": [
        "data.loc[:,'N3']=0\n",
        "data.loc[(data['Age']<=30) & (data['Pregnancies']<=6),'N3']=1"
      ],
      "execution_count": null,
      "outputs": []
    },
    {
      "metadata": {
        "trusted": true,
        "_uuid": "29d5f8a88d9ef3119ba4f0acecb76e3792b21a44",
        "id": "-BgOUpGo7ohj"
      },
      "cell_type": "code",
      "source": [
        "barplot('N3', ': Age <= 30 and Pregnancies <= 6')"
      ],
      "execution_count": null,
      "outputs": []
    },
    {
      "metadata": {
        "trusted": true,
        "_uuid": "67cf59c8d46e0c2a0a3c3e92bbec3cb22723a8a2",
        "id": "W3-Yh5QH7ohj"
      },
      "cell_type": "code",
      "source": [
        "plot_pie('N3', 'Age <= 30 and Pregnancies <= 6')"
      ],
      "execution_count": null,
      "outputs": []
    },
    {
      "metadata": {
        "_uuid": "d7c7aed45c5a376512ad33b8d0ce4276dcbeaf50",
        "id": "51K_TvR37ohk"
      },
      "cell_type": "markdown",
      "source": [
        "* **Glucose and BloodPressure**"
      ]
    },
    {
      "metadata": {
        "trusted": true,
        "_uuid": "705025586cc96b045aee28ca183b4c00a6e64dc5",
        "id": "XTkdts3m7ohk"
      },
      "cell_type": "code",
      "source": [
        "plot_feat1_feat2('Glucose','BloodPressure')"
      ],
      "execution_count": null,
      "outputs": []
    },
    {
      "metadata": {
        "_uuid": "131e358b181be3ba60767270cb723ea9db58e6a7",
        "id": "ZHn5Cw8r7ohl"
      },
      "cell_type": "markdown",
      "source": [
        "Healthy persons are concentrate with an blood pressure <= 80 and glucose <= 105"
      ]
    },
    {
      "metadata": {
        "trusted": true,
        "_uuid": "ae0a358c87272162506e04541538b878cf284b2e",
        "id": "aamkC0Ns7ohl"
      },
      "cell_type": "code",
      "source": [
        "palette ={0 : 'lightblue', 1 : 'gold'}\n",
        "edgecolor = 'black'\n",
        "\n",
        "fig = plt.figure(figsize=(12,8))\n",
        "\n",
        "ax1 = sns.scatterplot(x = data['Glucose'], y = data['BloodPressure'], hue = \"Outcome\",\n",
        "                    data = data, palette = palette, edgecolor=edgecolor)\n",
        "\n",
        "plt.annotate('N4', size=25, color='black', xy=(70, 80), xytext=(50, 110),\n",
        "            arrowprops=dict(facecolor='black', shrink=0.05),\n",
        "            )\n",
        "plt.plot([40, 105], [80, 80], linewidth=2, color = 'red')\n",
        "plt.plot([40, 40], [20, 80], linewidth=2, color = 'red')\n",
        "plt.plot([40, 105], [20, 20], linewidth=2, color = 'red')\n",
        "plt.plot([105, 105], [20, 80], linewidth=2, color = 'red')\n",
        "plt.title('Glucose vs BloodPressure')\n",
        "plt.show()"
      ],
      "execution_count": null,
      "outputs": []
    },
    {
      "metadata": {
        "trusted": true,
        "_uuid": "75f0a4c81d095e83339537f9ed37d40e40509d33",
        "id": "lSmb9rWl7ohm"
      },
      "cell_type": "code",
      "source": [
        "data.loc[:,'N4']=0\n",
        "data.loc[(data['Glucose']<=105) & (data['BloodPressure']<=80),'N4']=1"
      ],
      "execution_count": null,
      "outputs": []
    },
    {
      "metadata": {
        "trusted": true,
        "_uuid": "530f407608c810403838e6fb0d8a4d1573f41552",
        "id": "4ApiFrjG7ohm"
      },
      "cell_type": "code",
      "source": [
        "barplot('N4', ': Glucose <= 105 and BloodPressure <= 80')"
      ],
      "execution_count": null,
      "outputs": []
    },
    {
      "metadata": {
        "trusted": true,
        "_uuid": "6e70ebbea032d16fde561ce4ce778d40e5816516",
        "id": "psoIrtXb7ohn"
      },
      "cell_type": "code",
      "source": [
        "plot_pie('N4', 'Glucose <= 105 and BloodPressure <= 80')"
      ],
      "execution_count": null,
      "outputs": []
    },
    {
      "metadata": {
        "_uuid": "497ee8464e0971d409b149cea07a12c384246112",
        "id": "9Zgv4pID7ohn"
      },
      "cell_type": "markdown",
      "source": [
        "* **SkinThickness**"
      ]
    },
    {
      "metadata": {
        "trusted": true,
        "_uuid": "13ffef58195596bfdaeaf296ce89b09622c82e26",
        "id": "ggGaiBf77ohn"
      },
      "cell_type": "code",
      "source": [
        "data.loc[:,'N5']=0\n",
        "data.loc[(data['SkinThickness']<=20) ,'N5']=1"
      ],
      "execution_count": null,
      "outputs": []
    },
    {
      "metadata": {
        "trusted": true,
        "_uuid": "ddc0b02085c3b8ecfac7f92fddf1bb92f8b7bcff",
        "id": "VLINpt_y7ohn"
      },
      "cell_type": "code",
      "source": [
        "barplot('N5', ':SkinThickness <= 20')"
      ],
      "execution_count": null,
      "outputs": []
    },
    {
      "metadata": {
        "trusted": true,
        "_uuid": "3f3e396cefe51a2f34f5b1ff66a97bf89a15cabf",
        "id": "70uSUOqi7oho"
      },
      "cell_type": "code",
      "source": [
        "plot_pie('N5', 'SkinThickness <= 20')"
      ],
      "execution_count": null,
      "outputs": []
    },
    {
      "metadata": {
        "_uuid": "77ad331b9fce78a02ddf9ff86ece4b0caba5d858",
        "id": "Wmf83qiv7oho"
      },
      "cell_type": "markdown",
      "source": [
        "* **SkinThickness and BMI**"
      ]
    },
    {
      "metadata": {
        "trusted": true,
        "_uuid": "0bc7761d76ce21a020d6f1f13970f9c6a35135ac",
        "id": "1UJ_VzpU7oho"
      },
      "cell_type": "code",
      "source": [
        "plot_feat1_feat2('SkinThickness','BMI')"
      ],
      "execution_count": null,
      "outputs": []
    },
    {
      "metadata": {
        "_uuid": "ca589388055c3f1c2ff57b9522651b71d7a72a9e",
        "id": "IYmq6kfI7ohp"
      },
      "cell_type": "markdown",
      "source": [
        "Healthy persons are concentrate with a BMI < 30 and skin thickness <= 20"
      ]
    },
    {
      "metadata": {
        "trusted": true,
        "_uuid": "fccee5977b49dc29b088e90cb36464fac6fc44d4",
        "id": "OMfO2eyB7ohp"
      },
      "cell_type": "code",
      "source": [
        "data.loc[:,'N6']=0\n",
        "data.loc[(data['BMI']<30) & (data['SkinThickness']<=20),'N6']=1"
      ],
      "execution_count": null,
      "outputs": []
    },
    {
      "metadata": {
        "trusted": true,
        "_uuid": "65f2a77490cacd6042902cd50a07bdea47995d90",
        "id": "1vvlrwwk7ohp"
      },
      "cell_type": "code",
      "source": [
        "palette ={0 : 'lightblue', 1 : 'gold'}\n",
        "edgecolor = 'black'\n",
        "\n",
        "fig = plt.figure(figsize=(12,8))\n",
        "\n",
        "ax1 = sns.scatterplot(x = data['SkinThickness'], y = data['BMI'], hue = \"Outcome\",\n",
        "                    data = data, palette = palette, edgecolor=edgecolor)\n",
        "\n",
        "plt.annotate('N6', size=25, color='black', xy=(20, 20), xytext=(50, 25),\n",
        "            arrowprops=dict(facecolor='black', shrink=0.05),\n",
        "            )\n",
        "plt.plot([0, 20], [30, 30], linewidth=2, color = 'red')\n",
        "plt.plot([0, 0], [16, 30], linewidth=2, color = 'red')\n",
        "plt.plot([0, 20], [16, 16], linewidth=2, color = 'red')\n",
        "plt.plot([20, 20], [16, 30], linewidth=2, color = 'red')\n",
        "plt.title('SkinThickness vs BMI')\n",
        "plt.show()"
      ],
      "execution_count": null,
      "outputs": []
    },
    {
      "metadata": {
        "trusted": true,
        "_uuid": "767c67b028683db7d809dd779c0364f2031b3c74",
        "id": "kixMR75T7ohq"
      },
      "cell_type": "code",
      "source": [
        "barplot('N6', ': BMI < 30 and SkinThickness <= 20')"
      ],
      "execution_count": null,
      "outputs": []
    },
    {
      "metadata": {
        "trusted": true,
        "_uuid": "49f8980eb206b10b1a23efe1e43026c8050a237d",
        "id": "_xqn2Wu87ohq"
      },
      "cell_type": "code",
      "source": [
        "plot_pie('N6', 'BMI < 30 and SkinThickness <= 20')"
      ],
      "execution_count": null,
      "outputs": []
    },
    {
      "metadata": {
        "_uuid": "19bcb89a7392fe82a6eadd4ddf2468f119fba619",
        "id": "5Dru1MRM7ohr"
      },
      "cell_type": "markdown",
      "source": [
        "* **Glucose and BMI**"
      ]
    },
    {
      "metadata": {
        "trusted": true,
        "_uuid": "f0a805b579c8bcafcc0bead8e8e7025fecd9d98d",
        "id": "mBbZntjj7ohs"
      },
      "cell_type": "code",
      "source": [
        "plot_feat1_feat2('Glucose','BMI')"
      ],
      "execution_count": null,
      "outputs": []
    },
    {
      "metadata": {
        "trusted": true,
        "_uuid": "5fcb7f74b36de657d07c5f76ce0f410ad063600e",
        "id": "YTf1NPSL7oht"
      },
      "cell_type": "code",
      "source": [
        "palette ={0 : 'lightblue', 1 : 'gold'}\n",
        "edgecolor = 'black'\n",
        "\n",
        "fig = plt.figure(figsize=(12,8))\n",
        "\n",
        "ax1 = sns.scatterplot(x = data['Glucose'], y = data['BMI'], hue = \"Outcome\",\n",
        "                    data = data, palette = palette, edgecolor=edgecolor)\n",
        "\n",
        "plt.annotate('N7', size=25, color='black', xy=(70, 35), xytext=(40, 60),\n",
        "            arrowprops=dict(facecolor='black', shrink=0.05),\n",
        "            )\n",
        "plt.plot([105, 105], [16, 30], linewidth=2, color = 'red')\n",
        "plt.plot([40, 40], [16, 30], linewidth=2, color = 'red')\n",
        "plt.plot([40, 105], [16, 16], linewidth=2, color = 'red')\n",
        "plt.plot([40, 105], [30, 30], linewidth=2, color = 'red')\n",
        "plt.title('Glucose vs BMI')\n",
        "plt.show()"
      ],
      "execution_count": null,
      "outputs": []
    },
    {
      "metadata": {
        "trusted": true,
        "_uuid": "3ebd873121cefbfab32fff55601136236753de59",
        "id": "aKprWEBj7oht"
      },
      "cell_type": "code",
      "source": [
        "data.loc[:,'N7']=0\n",
        "data.loc[(data['Glucose']<=105) & (data['BMI']<=30),'N7']=1"
      ],
      "execution_count": null,
      "outputs": []
    },
    {
      "metadata": {
        "trusted": true,
        "_uuid": "70586a5c190fdc35aba871f547968d0474b1194f",
        "id": "1jDnt4mK7ohu"
      },
      "cell_type": "code",
      "source": [
        "barplot('N7', ': Glucose <= 105 and BMI <= 30')"
      ],
      "execution_count": null,
      "outputs": []
    },
    {
      "metadata": {
        "trusted": true,
        "_uuid": "7d2f0c936c4672d86274ffcb49b2027e661c1f52",
        "id": "GpVdDMNZ7ohv"
      },
      "cell_type": "code",
      "source": [
        "plot_pie('N7', 'Glucose <= 105 and BMI <= 30')"
      ],
      "execution_count": null,
      "outputs": []
    },
    {
      "metadata": {
        "_uuid": "8219472a5925be50e9212ac8e66be0df5f3eef70",
        "id": "jtPUZTA37ohw"
      },
      "cell_type": "markdown",
      "source": [
        "* **Insulin**"
      ]
    },
    {
      "metadata": {
        "trusted": true,
        "_uuid": "5a70d350057130e451dcb961ada81991af31bf6b",
        "id": "O1wDoRXW7ohw"
      },
      "cell_type": "code",
      "source": [
        "plot_distribution('Insulin', 0)"
      ],
      "execution_count": null,
      "outputs": []
    },
    {
      "metadata": {
        "trusted": true,
        "_uuid": "430477064e72a8e9d69cbe38a5d9b71f7f7a55e7",
        "id": "2JcYb2hO7ohx"
      },
      "cell_type": "code",
      "source": [
        "data.loc[:,'N9']=0\n",
        "data.loc[(data['Insulin']<200),'N9']=1"
      ],
      "execution_count": null,
      "outputs": []
    },
    {
      "metadata": {
        "trusted": true,
        "_uuid": "54eef09b21cef4f0cab48098aa7bfb04b6e110f7",
        "id": "ni5wVERl7ohy"
      },
      "cell_type": "code",
      "source": [
        "barplot('N9', ': Insulin < 200')"
      ],
      "execution_count": null,
      "outputs": []
    },
    {
      "metadata": {
        "trusted": true,
        "_uuid": "4df7708677dfd39cbc23a23fda2dfb5553f43259",
        "id": "DszxxjrU7ohz"
      },
      "cell_type": "code",
      "source": [
        "plot_pie('N9', 'Insulin < 200')"
      ],
      "execution_count": null,
      "outputs": []
    },
    {
      "metadata": {
        "_uuid": "c3c349d62997d490fcec0526494aa9e9c8e40565",
        "id": "kDFHLpeT7oh0"
      },
      "cell_type": "markdown",
      "source": [
        "* **BloodPressure**"
      ]
    },
    {
      "metadata": {
        "trusted": true,
        "_uuid": "2c26a98167a4e2fe67f513a7d8867f75aaac7861",
        "id": "nA292ne-7oh0"
      },
      "cell_type": "code",
      "source": [
        "data.loc[:,'N10']=0\n",
        "data.loc[(data['BloodPressure']<80),'N10']=1"
      ],
      "execution_count": null,
      "outputs": []
    },
    {
      "metadata": {
        "trusted": true,
        "_uuid": "91348e0d966a28d79fc9450ec64f03105f5cbe40",
        "id": "9W-Q2yAR7oh0"
      },
      "cell_type": "code",
      "source": [
        "barplot('N10', ': BloodPressure < 80')"
      ],
      "execution_count": null,
      "outputs": []
    },
    {
      "metadata": {
        "trusted": true,
        "_uuid": "9b72be80cfd259cd2e39a0d0a7e128060f9b366b",
        "id": "VXnZhfBV7oh1"
      },
      "cell_type": "code",
      "source": [
        "plot_pie('N10', 'BloodPressure < 80')"
      ],
      "execution_count": null,
      "outputs": []
    },
    {
      "metadata": {
        "_uuid": "d28d50d3b985113b84efd8922562c7f2423d2ba7",
        "id": "PpGr5VZU7oh1"
      },
      "cell_type": "markdown",
      "source": [
        "* **Pregnancies**"
      ]
    },
    {
      "metadata": {
        "trusted": true,
        "_uuid": "e8deaf7ebb4a16101bab9d2903748b43e20b3e94",
        "id": "GP4sz-Qs7oh1"
      },
      "cell_type": "code",
      "source": [
        "plot_distribution('Pregnancies', 0)"
      ],
      "execution_count": null,
      "outputs": []
    },
    {
      "metadata": {
        "trusted": true,
        "_uuid": "fc4b314635c3d3740fb8af878d4971ee81b8a722",
        "id": "YgLLPDJ17oh2"
      },
      "cell_type": "code",
      "source": [
        "data.loc[:,'N11']=0\n",
        "data.loc[(data['Pregnancies']<4) & (data['Pregnancies']!=0) ,'N11']=1"
      ],
      "execution_count": null,
      "outputs": []
    },
    {
      "metadata": {
        "trusted": true,
        "_uuid": "37fe64c63b3a281442965f6ac3fdad317b30e695",
        "id": "eDd26-O07oh2"
      },
      "cell_type": "code",
      "source": [
        "barplot('N11', ': Pregnancies > 0 and < 4')"
      ],
      "execution_count": null,
      "outputs": []
    },
    {
      "metadata": {
        "trusted": true,
        "_uuid": "fea8b0a8cfe6eab9d0b50dfd82fcfbb8ad222df1",
        "id": "CFdw_1QK7oh2"
      },
      "cell_type": "code",
      "source": [
        "plot_pie('N11', 'Pregnancies > 0 and < 4')"
      ],
      "execution_count": null,
      "outputs": []
    },
    {
      "metadata": {
        "_uuid": "38b738971596c85d4696b013559662c613e23201",
        "id": "fDQRecBh7oh3"
      },
      "cell_type": "markdown",
      "source": [
        "* **Others**"
      ]
    },
    {
      "metadata": {
        "trusted": true,
        "_uuid": "eab1810ea778927a250099220954dcd3cb70469b",
        "id": "jwygoKYl7oh3"
      },
      "cell_type": "code",
      "source": [
        "data['N0'] = data['BMI'] * data['SkinThickness']\n",
        "\n",
        "data['N8'] =  data['Pregnancies'] / data['Age']\n",
        "\n",
        "data['N13'] = data['Glucose'] / data['DiabetesPedigreeFunction']\n",
        "\n",
        "data['N12'] = data['Age'] * data['DiabetesPedigreeFunction']\n",
        "\n",
        "data['N14'] = data['Age'] / data['Insulin']\n"
      ],
      "execution_count": null,
      "outputs": []
    },
    {
      "metadata": {
        "trusted": true,
        "_uuid": "d9385c7f4f7aa6102942306d8e7a3cf9cfbd235d",
        "id": "kFFLWjba7oh3"
      },
      "cell_type": "code",
      "source": [
        "D = data[(data['Outcome'] != 0)]\n",
        "H = data[(data['Outcome'] == 0)]"
      ],
      "execution_count": null,
      "outputs": []
    },
    {
      "metadata": {
        "_uuid": "7ad53e15393408154ac428e32b63ed2ce26b0573",
        "id": "RyW-jcQR7oh4"
      },
      "cell_type": "markdown",
      "source": [
        "* ** Did you watch Inception ? ** Here is the same! It's not a dream in a dream but a new feature extract from a new feature"
      ]
    },
    {
      "metadata": {
        "trusted": true,
        "_uuid": "94799c4a606ec9561aff9c1a41848c6cd35150c7",
        "id": "uL9pg0Wi7oh5"
      },
      "cell_type": "code",
      "source": [
        "plot_distribution('N0', 0)"
      ],
      "execution_count": null,
      "outputs": []
    },
    {
      "metadata": {
        "trusted": true,
        "_uuid": "3f8f42a39c7c1bb4a36f071c97d342bd47e5b454",
        "id": "5TbBzGOj7oh5"
      },
      "cell_type": "code",
      "source": [
        "data.loc[:,'N15']=0\n",
        "data.loc[(data['N0']<1034) ,'N15']=1"
      ],
      "execution_count": null,
      "outputs": []
    },
    {
      "metadata": {
        "trusted": true,
        "_uuid": "e7b4e8d4e6c2cdf29c710593813a79705a391eac",
        "id": "JtTFEaHV7oh5"
      },
      "cell_type": "code",
      "source": [
        "barplot('N15', ': N0 < 1034')"
      ],
      "execution_count": null,
      "outputs": []
    },
    {
      "metadata": {
        "trusted": true,
        "_uuid": "a4eb80cb1282e809ad604261d4e21b6cde4b51c9",
        "id": "p1rWLR_S7oh6"
      },
      "cell_type": "code",
      "source": [
        "plot_pie('N15', 'N0 < 1034')"
      ],
      "execution_count": null,
      "outputs": []
    },
    {
      "metadata": {
        "_uuid": "010d34a4193055a7a9769e4b5b47347f7e208fd8",
        "id": "or7-xDSr7oh6"
      },
      "cell_type": "markdown",
      "source": [
        "# <a id='5'>5. Prepare dataset</a>"
      ]
    },
    {
      "metadata": {
        "_uuid": "2ce0b162891b2ae2161d39016b1996a3b99acdcf",
        "id": "5W9uhzl17oh6"
      },
      "cell_type": "markdown",
      "source": [
        "## <a id='5.1'>5.1. StandardScaler and LabelEncoder</a>"
      ]
    },
    {
      "metadata": {
        "_uuid": "d5e95f58094b27c99f028cf90e368949a74e1bb3",
        "id": "kD2wgog97oh6"
      },
      "cell_type": "markdown",
      "source": [
        "* ** StandardScaler** :\n",
        "\n",
        "Standardize features by removing the mean and scaling to unit variance :\n",
        "\n",
        "![](http://image.noelshack.com/fichiers/2019/06/1/1549282952-0-0-0-0-0-0.png)\n",
        "\n",
        "Centering and scaling happen independently on each feature by computing the relevant statistics on the samples in the set. Mean and standard deviation are then stored to be used on later data using the transform method.\n",
        "\n",
        "Standardization of a dataset is a common requirement for many machine learning estimators: they might behave badly if the individual features do not more or less look like standard normally distributed data (e.g. Gaussian with 0 mean and unit variance).\n",
        "\n",
        "* ** LabelEncoder** : Encode labels with value between 0 and n_classes-1.\n",
        "\n",
        "Bellow we encode the data to feed properly to our algorithm"
      ]
    },
    {
      "metadata": {
        "trusted": true,
        "_uuid": "a139aaa2fe962e787f0a9d012d9d8291a301e65f",
        "_kg_hide-input": true,
        "id": "0D9idpNR7oh7"
      },
      "cell_type": "code",
      "source": [
        "target_col = [\"Outcome\"]\n",
        "cat_cols   = data.nunique()[data.nunique() < 12].keys().tolist()\n",
        "cat_cols   = [x for x in cat_cols ]\n",
        "#numerical columns\n",
        "num_cols   = [x for x in data.columns if x not in cat_cols + target_col]\n",
        "#Binary columns with 2 values\n",
        "bin_cols   = data.nunique()[data.nunique() == 2].keys().tolist()\n",
        "#Columns more than 2 values\n",
        "multi_cols = [i for i in cat_cols if i not in bin_cols]\n",
        "\n",
        "#Label encoding Binary columns\n",
        "le = LabelEncoder()\n",
        "for i in bin_cols :\n",
        "    data[i] = le.fit_transform(data[i])\n",
        "\n",
        "#Duplicating columns for multi value columns\n",
        "data = pd.get_dummies(data = data,columns = multi_cols )\n",
        "\n",
        "#Scaling Numerical columns\n",
        "std = StandardScaler()\n",
        "scaled = std.fit_transform(data[num_cols])\n",
        "scaled = pd.DataFrame(scaled,columns=num_cols)\n",
        "\n",
        "#dropping original values merging scaled values for numerical columns\n",
        "df_data_og = data.copy()\n",
        "data = data.drop(columns = num_cols,axis = 1)\n",
        "data = data.merge(scaled,left_index=True,right_index=True,how = \"left\")"
      ],
      "execution_count": null,
      "outputs": []
    },
    {
      "metadata": {
        "_uuid": "810e2cac62bf3800a366f80e78c57cadc2b9f522",
        "id": "PZdk6wLA7oh8"
      },
      "cell_type": "markdown",
      "source": [
        "Now, we can compute correlation matrix"
      ]
    },
    {
      "metadata": {
        "_uuid": "792007b701c1ebf959c2a22665e1179f4331f798",
        "id": "honegT987oh8"
      },
      "cell_type": "markdown",
      "source": [
        "## <a id='5.2'>5.2. Correlation Matrix</a>"
      ]
    },
    {
      "metadata": {
        "_uuid": "683bafa3736059a68e392c3e828611d41b11858f",
        "id": "NxQpmP3A7oh9"
      },
      "cell_type": "markdown",
      "source": [
        "A **correlation matrix** is a table showing correlation coefficients between sets of variables. Each random variable (Xi) in the table is correlated with each of the other values in the table (Xj). This allows you to see which pairs have the highest correlation."
      ]
    },
    {
      "metadata": {
        "trusted": true,
        "_uuid": "551d2e8f805d8659c3ea34491f8c39b262c3b260",
        "_kg_hide-input": true,
        "id": "_hLw-Rnz7oh9"
      },
      "cell_type": "code",
      "source": [
        "def correlation_plot():\n",
        "    #correlation\n",
        "    correlation = data.corr()\n",
        "    #tick labels\n",
        "    matrix_cols = correlation.columns.tolist()\n",
        "    #convert to array\n",
        "    corr_array  = np.array(correlation)\n",
        "    trace = go.Heatmap(z = corr_array,\n",
        "                       x = matrix_cols,\n",
        "                       y = matrix_cols,\n",
        "                       colorscale='Viridis',\n",
        "                       colorbar   = dict() ,\n",
        "                      )\n",
        "    layout = go.Layout(dict(title = 'Correlation Matrix for variables',\n",
        "                            #autosize = False,\n",
        "                            #height  = 1400,\n",
        "                            #width   = 1600,\n",
        "                            margin  = dict(r = 0 ,l = 100,\n",
        "                                           t = 0,b = 100,\n",
        "                                         ),\n",
        "                            yaxis   = dict(tickfont = dict(size = 9)),\n",
        "                            xaxis   = dict(tickfont = dict(size = 9)),\n",
        "                           )\n",
        "                      )\n",
        "    fig = go.Figure(data = [trace],layout = layout)\n",
        "    py.iplot(fig)\n"
      ],
      "execution_count": null,
      "outputs": []
    },
    {
      "metadata": {
        "trusted": true,
        "id": "3dlRscsD7oh-"
      },
      "cell_type": "code",
      "source": [
        "correlation_plot()"
      ],
      "execution_count": null,
      "outputs": []
    },
    {
      "metadata": {
        "_uuid": "bc4c7ac8f001db7b998fb239ecbc6729ebdf2742",
        "id": "C0G59QO_7oh-"
      },
      "cell_type": "markdown",
      "source": [
        "## <a id='5.3'>5.3. X and y</a>"
      ]
    },
    {
      "metadata": {
        "_uuid": "550b4327c75e599534cf6c01120dbab1ba47dd11",
        "id": "mNo4M8r67oh-"
      },
      "cell_type": "markdown",
      "source": [
        "We define X and y :"
      ]
    },
    {
      "metadata": {
        "trusted": true,
        "_uuid": "c58c948d5d2497437f8a4b93d0d547c429d33d0f",
        "id": "fpoSZk6L7oh_"
      },
      "cell_type": "code",
      "source": [
        "# Def X and Y\n",
        "X = data.drop(columns='Outcome')\n",
        "y = data['Outcome']\n"
      ],
      "execution_count": null,
      "outputs": []
    },
    {
      "metadata": {
        "_uuid": "ec99e6f10af2a6b15c03649e85df3532572e5a02",
        "id": "A4Y9ZNIU7oiA"
      },
      "cell_type": "markdown",
      "source": [
        "## <a id='5.4'>5.4. Model Performance</a>"
      ]
    },
    {
      "metadata": {
        "_uuid": "42fdfc247b70bcd58ada604634087c8080abf744",
        "id": "2h_QBmat7oiA"
      },
      "cell_type": "markdown",
      "source": [
        "To measure the performance of a model, we need several elements :\n",
        "\n",
        "This part is essential\n",
        "\n",
        "* **Confusion matrix** : also known as the error matrix, allows visualization of the performance of an algorithm :\n",
        "\n",
        "    * true positive (TP) : Diabetic correctly identified as diabetic\n",
        "    * true negative (TN) : Healthy correctly identified as healthy\n",
        "    * false positive (FP) : Healthy incorrectly identified as diabetic\n",
        "    * false negative (FN) : Diabetic incorrectly identified as healthy\n",
        "\n",
        "![](https://image.noelshack.com/fichiers/2018/20/5/1526651914-cs-heezweaa5hp7.jpg)\n",
        "\n",
        "* **Metrics ** :\n",
        "\n",
        "    * Accuracy : (TP +TN) / (TP + TN + FP +FN)\n",
        "    * Precision : TP / (TP + FP)\n",
        "    * Recall : TP / (TP + FN)\n",
        "    * F1 score : 2 x ((Precision x Recall) / (Precision + Recall))\n",
        "\n",
        "* **Roc Curve** : The ROC curve is created by plotting the true positive rate (TPR) against the false positive rate (FPR) at various threshold settings.\n",
        "\n",
        "![](http://image.noelshack.com/fichiers/2019/06/1/1549284841-0-0-0-0-0-0-0-0-0-0.png)\n",
        "\n",
        "* **Precision Recall Curve** :  shows the tradeoff between precision and recall for different threshold"
      ]
    },
    {
      "metadata": {
        "_uuid": "455dc8b7eab2ad974a7c2f613fa77c1d27eda274",
        "id": "rnhr2hAV7oiA"
      },
      "cell_type": "markdown",
      "source": [
        "To train and test our algorithm we'll use cross validation K-Fold\n",
        "\n",
        "![](http://image.noelshack.com/fichiers/2019/06/1/1549288372-00001.png)\n",
        "\n",
        "In k-fold cross-validation, the original sample is randomly partitioned into k equal sized subsamples. Of the k subsamples, a single subsample is retained as the validation data for testing the model, and the remaining k − 1 subsamples are used as training data. The cross-validation process is then repeated k times, with each of the k subsamples used exactly once as the validation data. The k results can then be averaged to produce a single estimation. The advantage of this method over repeated random sub-sampling is that all observations are used for both training and validation, and each observation is used for validation exactly once."
      ]
    },
    {
      "metadata": {
        "_uuid": "a68e66902a62f6a2f202b8dadd538dd6768d95f9",
        "id": "NRmsUtUO7oiB"
      },
      "cell_type": "markdown",
      "source": [
        "Bellow we define a stylized report with Plotly"
      ]
    },
    {
      "metadata": {
        "trusted": true,
        "_uuid": "d71253924d586bfb621e72101aa0705699adc323",
        "_kg_hide-input": true,
        "id": "fungFyE27oiB"
      },
      "cell_type": "code",
      "source": [
        "def model_performance(model, subtitle) :\n",
        "    #Kfold\n",
        "    cv = KFold(n_splits=5,shuffle=False, random_state = 42)\n",
        "    y_real = []\n",
        "    y_proba = []\n",
        "    tprs = []\n",
        "    aucs = []\n",
        "    mean_fpr = np.linspace(0,1,100)\n",
        "    i = 1\n",
        "\n",
        "    for train,test in cv.split(X,y):\n",
        "        model.fit(X.iloc[train], y.iloc[train])\n",
        "        pred_proba = model.predict_proba(X.iloc[test])\n",
        "        precision, recall, _ = precision_recall_curve(y.iloc[test], pred_proba[:,1])\n",
        "        y_real.append(y.iloc[test])\n",
        "        y_proba.append(pred_proba[:,1])\n",
        "        fpr, tpr, t = roc_curve(y[test], pred_proba[:, 1])\n",
        "        tprs.append(interp(mean_fpr, fpr, tpr))\n",
        "        roc_auc = auc(fpr, tpr)\n",
        "        aucs.append(roc_auc)\n",
        "\n",
        "    # Confusion matrix\n",
        "    y_pred = cross_val_predict(model, X, y, cv=5)\n",
        "    conf_matrix = confusion_matrix(y, y_pred)\n",
        "    trace1 = go.Heatmap(z = conf_matrix  ,x = [\"0 (pred)\",\"1 (pred)\"],\n",
        "                        y = [\"0 (true)\",\"1 (true)\"],xgap = 2, ygap = 2,\n",
        "                        colorscale = 'Viridis', showscale  = False)\n",
        "\n",
        "    #Show metrics\n",
        "    tp = conf_matrix[1,1]\n",
        "    fn = conf_matrix[1,0]\n",
        "    fp = conf_matrix[0,1]\n",
        "    tn = conf_matrix[0,0]\n",
        "    Accuracy  =  ((tp+tn)/(tp+tn+fp+fn))\n",
        "    Precision =  (tp/(tp+fp))\n",
        "    Recall    =  (tp/(tp+fn))\n",
        "    F1_score  =  (2*(((tp/(tp+fp))*(tp/(tp+fn)))/((tp/(tp+fp))+(tp/(tp+fn)))))\n",
        "\n",
        "    show_metrics = pd.DataFrame(data=[[Accuracy , Precision, Recall, F1_score]])\n",
        "    show_metrics = show_metrics.T\n",
        "\n",
        "    colors = ['gold', 'lightgreen', 'lightcoral', 'lightskyblue']\n",
        "    trace2 = go.Bar(x = (show_metrics[0].values),\n",
        "                    y = ['Accuracy', 'Precision', 'Recall', 'F1_score'], text = np.round_(show_metrics[0].values,4),\n",
        "                    textposition = 'auto', textfont=dict(color='black'),\n",
        "                    orientation = 'h', opacity = 1, marker=dict(\n",
        "            color=colors,\n",
        "            line=dict(color='#000000',width=1.5)))\n",
        "\n",
        "    #Roc curve\n",
        "    mean_tpr = np.mean(tprs, axis=0)\n",
        "    mean_auc = auc(mean_fpr, mean_tpr)\n",
        "\n",
        "    trace3 = go.Scatter(x=mean_fpr, y=mean_tpr,\n",
        "                        name = \"Roc : \" ,\n",
        "                        line = dict(color = ('rgb(22, 96, 167)'),width = 2), fill='tozeroy')\n",
        "    trace4 = go.Scatter(x = [0,1],y = [0,1],\n",
        "                        line = dict(color = ('black'),width = 1.5,\n",
        "                        dash = 'dot'))\n",
        "\n",
        "    #Precision - recall curve\n",
        "    y_real = y\n",
        "    y_proba = np.concatenate(y_proba)\n",
        "    precision, recall, _ = precision_recall_curve(y_real, y_proba)\n",
        "\n",
        "    trace5 = go.Scatter(x = recall, y = precision,\n",
        "                        name = \"Precision\" + str(precision),\n",
        "                        line = dict(color = ('lightcoral'),width = 2), fill='tozeroy')\n",
        "\n",
        "    mean_auc=round(mean_auc,3)\n",
        "    #Subplots\n",
        "    fig = tls.make_subplots(rows=2, cols=2, print_grid=False,\n",
        "                          specs=[[{}, {}],\n",
        "                                 [{}, {}]],\n",
        "                          subplot_titles=('Confusion Matrix',\n",
        "                                          'Metrics',\n",
        "                                          'ROC curve'+\" \"+ '('+ str(mean_auc)+')',\n",
        "                                          'Precision - Recall curve',\n",
        "                                          ))\n",
        "    #Trace and layout\n",
        "    fig.append_trace(trace1,1,1)\n",
        "    fig.append_trace(trace2,1,2)\n",
        "    fig.append_trace(trace3,2,1)\n",
        "    fig.append_trace(trace4,2,1)\n",
        "    fig.append_trace(trace5,2,2)\n",
        "\n",
        "    fig['layout'].update(showlegend = False, title = '<b>Model performance report (5 folds)</b><br>'+subtitle,\n",
        "                        autosize = False, height = 830, width = 830,\n",
        "                        plot_bgcolor = 'black',\n",
        "                        paper_bgcolor = 'black',\n",
        "                        margin = dict(b = 195), font=dict(color='white'))\n",
        "    fig[\"layout\"][\"xaxis1\"].update(color = 'white')\n",
        "    fig[\"layout\"][\"yaxis1\"].update(color = 'white')\n",
        "    fig[\"layout\"][\"xaxis2\"].update((dict(range=[0, 1], color = 'white')))\n",
        "    fig[\"layout\"][\"yaxis2\"].update(color = 'white')\n",
        "    fig[\"layout\"][\"xaxis3\"].update(dict(title = \"false positive rate\"), color = 'white')\n",
        "    fig[\"layout\"][\"yaxis3\"].update(dict(title = \"true positive rate\"),color = 'white')\n",
        "    fig[\"layout\"][\"xaxis4\"].update(dict(title = \"recall\"), range = [0,1.05],color = 'white')\n",
        "    fig[\"layout\"][\"yaxis4\"].update(dict(title = \"precision\"), range = [0,1.05],color = 'white')\n",
        "    for i in fig['layout']['annotations']:\n",
        "        i['font'] = titlefont=dict(color='white', size = 14)\n",
        "    py.iplot(fig)"
      ],
      "execution_count": null,
      "outputs": []
    },
    {
      "metadata": {
        "_uuid": "b7cb23e4cfa0c1468d09362c9aa842701b37b127",
        "id": "041vLAFk7oiC"
      },
      "cell_type": "markdown",
      "source": [
        "## <a id='5.5'>5.5. Scores Tables</a>"
      ]
    },
    {
      "metadata": {
        "_uuid": "2cc604d68aaf751cb8fbff056062362c3ddc87c0",
        "id": "2KJfuClg7oiC"
      },
      "cell_type": "markdown",
      "source": [
        "We can complete model performance report with a table contain all results by fold"
      ]
    },
    {
      "metadata": {
        "trusted": true,
        "_uuid": "7e624fb9649a309fb6ba633f4420bef1be1ca0a3",
        "_kg_hide-input": true,
        "id": "sfnN1Rid7oiD"
      },
      "cell_type": "code",
      "source": [
        "def scores_table(model, subtitle):\n",
        "    scores = ['accuracy', 'precision', 'recall', 'f1', 'roc_auc']\n",
        "    res = []\n",
        "    for sc in scores:\n",
        "        scores = cross_val_score(model, X, y, cv = 5, scoring = sc)\n",
        "        res.append(scores)\n",
        "    df = pd.DataFrame(res).T\n",
        "    df.loc['mean'] = df.mean()\n",
        "    df.loc['std'] = df.std()\n",
        "    df= df.rename(columns={0: 'accuracy', 1:'precision', 2:'recall',3:'f1',4:'roc_auc'})\n",
        "\n",
        "    trace = go.Table(\n",
        "        header=dict(values=['<b>Fold', '<b>Accuracy', '<b>Precision', '<b>Recall', '<b>F1 score', '<b>Roc auc'],\n",
        "                    line = dict(color='#7D7F80'),\n",
        "                    fill = dict(color='#a1c3d1'),\n",
        "                    align = ['center'],\n",
        "                    font = dict(size = 15)),\n",
        "        cells=dict(values=[('1','2','3','4','5','mean', 'std'),\n",
        "                           np.round(df['accuracy'],3),\n",
        "                           np.round(df['precision'],3),\n",
        "                           np.round(df['recall'],3),\n",
        "                           np.round(df['f1'],3),\n",
        "                           np.round(df['roc_auc'],3)],\n",
        "                   line = dict(color='#7D7F80'),\n",
        "                   fill = dict(color='#EDFAFF'),\n",
        "                   align = ['center'], font = dict(size = 15)))\n",
        "\n",
        "    layout = dict(width=800, height=400, title = '<b>Cross Validation - 5 folds</b><br>'+subtitle, font = dict(size = 15))\n",
        "    fig = dict(data=[trace], layout=layout)\n",
        "\n",
        "    py.iplot(fig, filename = 'styled_table')"
      ],
      "execution_count": null,
      "outputs": []
    },
    {
      "metadata": {
        "_uuid": "4a4c2b8709fe3de076b9c348a2cb580dc2d633e8",
        "id": "rC8BYDRx7oiD"
      },
      "cell_type": "markdown",
      "source": [
        "# <a id='6'>6. Machine Learning</a>"
      ]
    },
    {
      "metadata": {
        "_uuid": "47624375b7e9ac7d83ce1a1b212057a4d4ae839d",
        "id": "OuR4gDTq7oiE"
      },
      "cell_type": "markdown",
      "source": [
        "## <a id='6.1'>6.1. RandomSearch + LightGBM - Accuracy = 89.8%</a>"
      ]
    },
    {
      "metadata": {
        "_uuid": "8d6e79bcf3347f35d3532679da6fc11279ac2608",
        "id": "ytIGe-ph7oiE"
      },
      "cell_type": "markdown",
      "source": [
        "![](http://image.noelshack.com/fichiers/2019/06/1/1549285917-0000000000000000000.png)\n",
        "\n",
        "** LightGBM** is a gradient boosting framework that uses tree based learning algorithms. It is designed to be distributed and efficient with the following advantages:\n",
        "\n",
        "* Faster training speed and higher efficiency.\n",
        "* Lower memory usage.\n",
        "* Better accuracy.\n",
        "* Support of parallel and GPU learning.\n",
        "* Capable of handling large-scale data."
      ]
    },
    {
      "metadata": {
        "_uuid": "2952e94618439cbfc8313b2b5d6788b8ca35bc60",
        "id": "h2TKQyED7oiF"
      },
      "cell_type": "markdown",
      "source": [
        "To find the best hyperparameters, we'll use Random Search CV.\n",
        "\n",
        "Random search is a technique where random combinations of the hyperparameters are used to find the best solution for the built model.\n",
        "Generally RS is more faster and accurate than GridSearchCV who calculate all possible combinations. With Random Grid we specify the number of combinations that we want"
      ]
    },
    {
      "metadata": {
        "_uuid": "5fc0082ef8980db8eb2c24e498ffc4288e3bb617",
        "id": "iwrAFrWU7oiH"
      },
      "cell_type": "markdown",
      "source": [
        "* **LightGBM : Hyperparameters ** :\n",
        "\n",
        "    * learning_rate : This determines the impact of each tree on the final outcome. GBM works by starting with an initial estimate which is updated using the output of each tree. The learning parameter controls the magnitude of this change in the estimates\n",
        "    * n_estimators : number of trees (or rounds)\n",
        "    * num_leaves : number of leaves in full tree, default: 31\n",
        "    * min_child_samples : minimal number of data in one leaf. Can be used to deal with over-fitting\n",
        "    * min_child_weight : minimal sum hessian in one leaf.\n",
        "    * subsample : randomly select part of data without resampling\n",
        "    * max_depth : It describes the maximum depth of tree. This parameter is used to handle model overfitting.\n",
        "    * colsample_bytree : LightGBM will randomly select part of features on each iteration if colsample_bytree smaller than 1.0. For example, if you set it to 0.8, LightGBM will select 80% of features before training each tree\n",
        "    * reg_alpha : regularization\n",
        "    * reg_lambda : regularization\n",
        "    \n",
        "    * early_stopping_rounds : This parameter can help you speed up your analysis. Model will stop training if one metric of one validation data doesn’t improve in last early_stopping_round rounds. This will reduce excessive iterations"
      ]
    },
    {
      "metadata": {
        "trusted": true,
        "_uuid": "243245d6a8f6f628cbb6724633d55ecc80a9fa56",
        "_kg_hide-input": true,
        "id": "SwFkYwkl7oiQ"
      },
      "cell_type": "code",
      "source": [
        "from sklearn.model_selection import RandomizedSearchCV\n",
        "from scipy.stats import randint as sp_randint\n",
        "from scipy.stats import uniform as sp_uniform\n",
        "import lightgbm as lgbm\n",
        "\n",
        "# Random seed\n",
        "random_state = 42\n",
        "\n",
        "# Define hyperparameter space\n",
        "param_test = {\n",
        "    'learning_rate': [0.01, 0.02, 0.03, 0.04, 0.05, 0.08, 0.1, 0.2, 0.3, 0.4],\n",
        "    'n_estimators': [100, 200, 300, 400, 500, 600, 800, 1000, 1500, 2000],\n",
        "    'num_leaves': sp_randint(6, 50),\n",
        "    'min_child_samples': sp_randint(100, 500),\n",
        "    'min_child_weight': [1e-5, 1e-3, 1e-2, 1e-1, 1, 10, 100, 1000, 10000],\n",
        "    'subsample': sp_uniform(loc=0.2, scale=0.8),\n",
        "    'max_depth': [-1, 1, 2, 3, 4, 5, 6, 7],\n",
        "    'colsample_bytree': sp_uniform(loc=0.4, scale=0.6),\n",
        "    'reg_alpha': [0, 0.1, 1, 2, 5, 7, 10, 50, 100],\n",
        "    'reg_lambda': [0, 0.1, 1, 5, 10, 20, 50, 100]\n",
        "}\n",
        "\n",
        "# Number of parameter combinations to try\n",
        "n_iter = 300\n",
        "\n",
        "# Base LGBM model\n",
        "lgbm_clf = lgbm.LGBMClassifier(\n",
        "    random_state=random_state,\n",
        "    verbosity=-1,\n",
        "    n_jobs=-1\n",
        ")\n",
        "\n",
        "# Randomized search with cross-validation\n",
        "grid_search = RandomizedSearchCV(\n",
        "    estimator=lgbm_clf,\n",
        "    param_distributions=param_test,\n",
        "    n_iter=n_iter,\n",
        "    scoring='accuracy',\n",
        "    cv=5,\n",
        "    refit=True,\n",
        "    random_state=random_state,\n",
        "    verbose=1\n",
        ")\n",
        "\n",
        "# Fit the randomized search model\n",
        "grid_search.fit(X, y)  # ❌ No fit_params\n",
        "\n",
        "# Retrieve best hyperparameters\n",
        "opt_parameters = grid_search.best_params_\n",
        "print(\"✅ Best Hyperparameters:\", opt_parameters)\n",
        "\n",
        "# Final best estimator\n",
        "lgbm_clf = lgbm.LGBMClassifier(**opt_parameters)\n"
      ],
      "execution_count": null,
      "outputs": []
    },
    {
      "metadata": {
        "trusted": true,
        "id": "frj2A34G7oiQ"
      },
      "cell_type": "code",
      "source": [
        "lgbm_clf.fit(X, y)\n"
      ],
      "execution_count": null,
      "outputs": []
    },
    {
      "cell_type": "code",
      "source": [
        "from sklearn.model_selection import KFold, cross_val_score\n",
        "from sklearn.metrics import accuracy_score, precision_score, recall_score, f1_score, roc_auc_score\n",
        "\n",
        "def model_performance(model, subtitle):\n",
        "    kf = KFold(n_splits=5, shuffle=True, random_state=42)  # ✅ shuffle=True fixed\n",
        "\n",
        "    acc = cross_val_score(model, X, y, cv=kf, scoring='accuracy')\n",
        "    prec = cross_val_score(model, X, y, cv=kf, scoring='precision')\n",
        "    rec = cross_val_score(model, X, y, cv=kf, scoring='recall')\n",
        "    f1 = cross_val_score(model, X, y, cv=kf, scoring='f1')\n",
        "    auc = cross_val_score(model, X, y, cv=kf, scoring='roc_auc')\n",
        "\n",
        "    print(f\"📊 {subtitle} Model Performance:\")\n",
        "    print(f\"✅ Accuracy:  {acc.mean():.4f}\")\n",
        "    print(f\"✅ Precision: {prec.mean():.4f}\")\n",
        "    print(f\"✅ Recall:    {rec.mean():.4f}\")\n",
        "    print(f\"✅ F1 Score:  {f1.mean():.4f}\")\n",
        "    print(f\"✅ ROC AUC:   {auc.mean():.4f}\")\n"
      ],
      "metadata": {
        "id": "byFgmsF5KT_1"
      },
      "execution_count": null,
      "outputs": []
    },
    {
      "cell_type": "code",
      "source": [
        "# Evaluate\n",
        "model_performance(lgbm_clf, 'LightGBM (Tuned)')\n",
        "scores_table(lgbm_clf, 'LightGBM (Tuned)')\n"
      ],
      "metadata": {
        "id": "fjNEaieIKYVT"
      },
      "execution_count": null,
      "outputs": []
    },
    {
      "metadata": {
        "_uuid": "9f9a46911451d8d9ffbd952b08e82d246afa3624",
        "id": "Ywp0cnn37oiQ"
      },
      "cell_type": "markdown",
      "source": [
        "## <a id='6.2'>6.2. LightGBM - Discrimination Threshold</a>"
      ]
    },
    {
      "metadata": {
        "_uuid": "f1c3390a90d6d7d02ae6df17851e3fffac40d97e",
        "id": "mAcERo3u7oiR"
      },
      "cell_type": "markdown",
      "source": [
        "* **Discrimination Threshold** :\n",
        "A visualization of precision, recall, f1 score, and queue rate with respect to the discrimination threshold of a binary classifier. The discrimination threshold is the probability or score at which the positive class is chosen over the negative class"
      ]
    },
    {
      "metadata": {
        "trusted": true,
        "_uuid": "e13ff46573c1bd01624f99baa020575d4ed01280",
        "id": "UnIu3Emj7oiR"
      },
      "cell_type": "code",
      "source": [
        "visualizer = DiscriminationThreshold(lgbm_clf)\n",
        "\n",
        "visualizer.fit(X, y)\n",
        "visualizer.poof()"
      ],
      "execution_count": null,
      "outputs": []
    },
    {
      "metadata": {
        "_uuid": "f50f7926d4882a966c5a5f794406202e2b631847",
        "id": "nmQGH36D7oiR"
      },
      "cell_type": "markdown",
      "source": [
        "## <a id='6.3'>6.3. GridSearch + LightGBM & KNN- Accuracy = 90.6%</a>"
      ]
    },
    {
      "metadata": {
        "_uuid": "a9d33fc8e830c00d67c9fc26b65ea49295f97856",
        "id": "lKHAiATL7oiS"
      },
      "cell_type": "markdown",
      "source": [
        "We obtain a really good result but we can beat 90% with adding a KNeighborsClassifier to LightGBM (Voting Classifier)\n",
        "\n",
        "* **KNeighborsClassifier** : KNeighborsClassifier implements learning based on the k nearest neighbors of each query point, where  k is an integer value specified by the user.\n",
        "\n",
        "* **VotingClassifier** : VotingClassifier is a meta-classifier for combining similar or conceptually different machine learning classifiers for classification via majority or plurality voting"
      ]
    },
    {
      "metadata": {
        "_uuid": "31df887643f27092134c9d89d1354645735617d9",
        "id": "7_ua0yyY7oiS"
      },
      "cell_type": "markdown",
      "source": [
        "With GridSearch CV we search the best \"n_neighbors\" to optimize accuracy of Voting Classifier"
      ]
    },
    {
      "metadata": {
        "trusted": true,
        "_uuid": "d290967f0100ee6ebb9704a7ccd7d9c592dffb9d",
        "_kg_hide-input": true,
        "id": "1F9PhuuJ7oiS"
      },
      "cell_type": "code",
      "source": [
        "knn_clf = KNeighborsClassifier()\n",
        "\n",
        "voting_clf = VotingClassifier(estimators=[\n",
        "    ('lgbm_clf', lgbm_clf),\n",
        "    ('knn', KNeighborsClassifier())], voting='soft', weights = [1,1])\n",
        "\n",
        "params = {\n",
        "      'knn__n_neighbors': np.arange(1,30)\n",
        "      }\n",
        "\n",
        "grid = GridSearchCV(estimator=voting_clf, param_grid=params, cv=5)\n",
        "\n",
        "grid.fit(X,y)\n",
        "\n",
        "print(\"Best Score:\" + str(grid.best_score_))\n",
        "print(\"Best Parameters: \" + str(grid.best_params_))"
      ],
      "execution_count": null,
      "outputs": []
    },
    {
      "metadata": {
        "_uuid": "70096040024e7422df00926651c215bde39787cb",
        "id": "es7hhSnq7oiT"
      },
      "cell_type": "markdown",
      "source": [
        "With n_neighbors = 25, the accuracy increase to 90.625 ! Bellow the model performance report"
      ]
    },
    {
      "metadata": {
        "trusted": true,
        "_uuid": "946d63d2676dddca8126132b60473639944e4146",
        "_kg_hide-input": true,
        "id": "hAsy_Nca7oiU"
      },
      "cell_type": "code",
      "source": [
        "knn_clf = KNeighborsClassifier(n_neighbors = 25)\n",
        "\n",
        "voting_clf = VotingClassifier (\n",
        "        estimators = [('knn', knn_clf), ('lgbm', lgbm_clf)],\n",
        "                     voting='soft', weights = [1,1])"
      ],
      "execution_count": null,
      "outputs": []
    },
    {
      "metadata": {
        "trusted": true,
        "id": "osAWI71i7oiU"
      },
      "cell_type": "code",
      "source": [
        "model_performance(voting_clf, 'LightGBM & KNN')\n",
        "scores_table(voting_clf, 'LightGBM & KNN')"
      ],
      "execution_count": null,
      "outputs": []
    },
    {
      "metadata": {
        "_uuid": "d115240df5796cef9dfe1fac5f45c50474c3aa8a",
        "id": "yCKzfWcG7oiU"
      },
      "cell_type": "markdown",
      "source": [
        "## <a id='6.4'>6.4. LightGBM & KNN  - Discrimination Threshold</a>"
      ]
    },
    {
      "metadata": {
        "trusted": true,
        "_uuid": "cd734ecc4fcc512c67c6bac59e95bbb5c444c095",
        "id": "GE1aW_HQ7oiU"
      },
      "cell_type": "code",
      "source": [
        "visualizer = DiscriminationThreshold(voting_clf)\n",
        "\n",
        "visualizer.fit(X, y)\n",
        "visualizer.poof()"
      ],
      "execution_count": null,
      "outputs": []
    },
    {
      "cell_type": "code",
      "source": [
        "from yellowbrick.classifier import DiscriminationThreshold\n",
        "from sklearn.ensemble import VotingClassifier\n",
        "from sklearn.neighbors import KNeighborsClassifier\n",
        "import lightgbm as lgbm\n",
        "\n",
        "# (Assuming voting_clf is already defined and fitted)\n",
        "visualizer = DiscriminationThreshold(voting_clf)\n",
        "\n",
        "visualizer.fit(X, y)\n",
        "visualizer.show()  # ✅ Recommended instead of deprecated .poof()\n"
      ],
      "metadata": {
        "id": "Brt9fwG9L5Bl"
      },
      "execution_count": null,
      "outputs": []
    },
    {
      "cell_type": "code",
      "source": [
        "!pip install lazypredict\n"
      ],
      "metadata": {
        "id": "6v_U-5h0MTND"
      },
      "execution_count": null,
      "outputs": []
    },
    {
      "cell_type": "code",
      "source": [
        "from lazypredict.Supervised import LazyClassifier\n",
        "from sklearn.model_selection import train_test_split\n",
        "\n",
        "# Split your data (important to evaluate generalization)\n",
        "X_train, X_test, y_train, y_test = train_test_split(X, y, test_size=0.2, random_state=42)\n",
        "\n",
        "# Run LazyPredict\n",
        "clf = LazyClassifier(verbose=0, ignore_warnings=True, custom_metric=None)\n",
        "models, predictions = clf.fit(X_train, X_test, y_train, y_test)\n",
        "\n",
        "import pandas as pd\n",
        "import matplotlib.pyplot as plt\n",
        "\n",
        "# Show top 10 models by accuracy\n",
        "top_models = models.sort_values(\"Accuracy\", ascending=False).head(10)\n",
        "print(top_models)\n"
      ],
      "metadata": {
        "id": "tUr-OlH2MKXz"
      },
      "execution_count": null,
      "outputs": []
    },
    {
      "cell_type": "code",
      "source": [
        "from sklearn.ensemble import AdaBoostClassifier\n",
        "from sklearn.model_selection import GridSearchCV\n",
        "\n",
        "ada = AdaBoostClassifier(random_state=42)\n",
        "\n",
        "ada_params = {\n",
        "    'n_estimators': [50, 100, 200],\n",
        "    'learning_rate': [0.01, 0.05, 0.1, 0.5, 1.0]\n",
        "}\n",
        "\n",
        "grid_ada = GridSearchCV(ada, ada_params, cv=5, scoring='accuracy', verbose=1)\n",
        "grid_ada.fit(X, y)\n",
        "\n",
        "best_ada = grid_ada.best_estimator_\n",
        "print(\"✅ Best AdaBoost:\", grid_ada.best_params_)\n"
      ],
      "metadata": {
        "id": "SO_encq8OZJS"
      },
      "execution_count": null,
      "outputs": []
    },
    {
      "cell_type": "code",
      "source": [
        "from sklearn.ensemble import ExtraTreesClassifier\n",
        "\n",
        "extra = ExtraTreesClassifier(random_state=42)\n",
        "\n",
        "extra_params = {\n",
        "    'n_estimators': [100, 200, 300],\n",
        "    'max_depth': [None, 5, 10, 20],\n",
        "    'min_samples_split': [2, 5, 10]\n",
        "}\n",
        "\n",
        "grid_extra = GridSearchCV(extra, extra_params, cv=5, scoring='accuracy', verbose=1)\n",
        "grid_extra.fit(X, y)\n",
        "\n",
        "best_extra = grid_extra.best_estimator_\n",
        "print(\"✅ Best ExtraTrees:\", grid_extra.best_params_)\n"
      ],
      "metadata": {
        "id": "PqRCTLjhOvOd"
      },
      "execution_count": null,
      "outputs": []
    },
    {
      "cell_type": "code",
      "source": [
        "from sklearn.ensemble import VotingClassifier\n",
        "\n",
        "voting_clf = VotingClassifier(\n",
        "    estimators=[\n",
        "        ('lgbm', lgbm_clf),        # already tuned\n",
        "        ('ada', best_ada),\n",
        "        ('extra', best_extra)\n",
        "    ],\n",
        "    voting='soft',\n",
        "    weights=[2, 1, 1]\n",
        ")\n",
        "\n",
        "voting_clf.fit(X, y)\n",
        "\n",
        "model_performance(voting_clf, 'Tuned Voting Ensemble')\n",
        "scores_table(voting_clf, 'Tuned Voting Ensemble')\n"
      ],
      "metadata": {
        "id": "AP6-TKE4PCBN"
      },
      "execution_count": null,
      "outputs": []
    },
    {
      "cell_type": "code",
      "source": [
        "!pip install optuna\n"
      ],
      "metadata": {
        "id": "ooUtt706RB-A"
      },
      "execution_count": null,
      "outputs": []
    },
    {
      "cell_type": "code",
      "source": [
        "import tensorflow as tf\n"
      ],
      "metadata": {
        "id": "w7QHrEzgRa0B"
      },
      "execution_count": null,
      "outputs": []
    },
    {
      "cell_type": "code",
      "source": [
        "import optuna\n",
        "from tensorflow.keras.models import Sequential\n",
        "from tensorflow.keras.layers import Dense, Dropout\n",
        "from tensorflow.keras.optimizers import Adam\n",
        "from sklearn.model_selection import train_test_split\n",
        "from sklearn.metrics import roc_auc_score\n",
        "\n",
        "# Split data for validation\n",
        "X_train_, X_valid_, y_train_, y_valid_ = train_test_split(X, y, test_size=0.2, random_state=42)\n",
        "\n",
        "def create_model(trial):\n",
        "    model = Sequential()\n",
        "    n_layers = trial.suggest_int(\"n_layers\", 1, 3)\n",
        "\n",
        "    for i in range(n_layers):\n",
        "        num_hidden = trial.suggest_int(f\"n_units_l{i}\", 32, 256)\n",
        "        dropout_rate = trial.suggest_float(f\"dropout_l{i}\", 0.1, 0.5)\n",
        "        model.add(Dense(num_hidden, activation='relu'))\n",
        "        model.add(Dropout(dropout_rate))\n",
        "\n",
        "    model.add(Dense(1, activation='sigmoid'))\n",
        "\n",
        "    lr = trial.suggest_loguniform(\"lr\", 1e-4, 1e-2)\n",
        "    model.compile(optimizer=Adam(learning_rate=lr), loss='binary_crossentropy', metrics=['accuracy'])\n",
        "\n",
        "    return model\n",
        "\n",
        "def objective(trial):\n",
        "    model = create_model(trial)\n",
        "\n",
        "    history = model.fit(\n",
        "        X_train_, y_train_,\n",
        "        validation_data=(X_valid_, y_valid_),\n",
        "        epochs=50,\n",
        "        batch_size=trial.suggest_categorical(\"batch_size\", [16, 32, 64]),\n",
        "        verbose=0,\n",
        "        callbacks=[tf.keras.callbacks.EarlyStopping(monitor='val_loss', patience=5, restore_best_weights=True)]\n",
        "    )\n",
        "\n",
        "    y_pred = model.predict(X_valid_).ravel()\n",
        "    auc = roc_auc_score(y_valid_, y_pred)\n",
        "    return auc\n"
      ],
      "metadata": {
        "id": "lYEDothXRDVR"
      },
      "execution_count": null,
      "outputs": []
    },
    {
      "cell_type": "code",
      "source": [
        "study = optuna.create_study(direction='maximize')\n",
        "study.optimize(objective, n_trials=30)\n"
      ],
      "metadata": {
        "id": "gmocqaYdRNhP"
      },
      "execution_count": null,
      "outputs": []
    },
    {
      "cell_type": "code",
      "source": [
        "best_params = study.best_params\n",
        "print(\"✅ Best Hyperparameters:\", best_params)\n",
        "\n",
        "# Rebuild final model with best params\n",
        "final_ann = Sequential()\n",
        "for i in range(best_params['n_layers']):\n",
        "    final_ann.add(Dense(best_params[f'n_units_l{i}'], activation='relu'))\n",
        "    final_ann.add(Dropout(best_params[f'dropout_l{i}']))\n",
        "final_ann.add(Dense(1, activation='sigmoid'))\n",
        "\n",
        "final_ann.compile(optimizer=Adam(learning_rate=best_params['lr']),\n",
        "                  loss='binary_crossentropy', metrics=['accuracy'])\n",
        "\n",
        "final_ann.fit(X, y, epochs=50, batch_size=best_params['batch_size'], verbose=0)\n"
      ],
      "metadata": {
        "id": "xUs0OFkLSMgX"
      },
      "execution_count": null,
      "outputs": []
    },
    {
      "cell_type": "code",
      "source": [
        "best_params = study.best_params\n",
        "print(\"✅ Best Hyperparameters:\", best_params)\n",
        "\n",
        "# Rebuild final model with best params\n",
        "final_ann = Sequential()\n",
        "for i in range(best_params['n_layers']):\n",
        "    final_ann.add(Dense(best_params[f'n_units_l{i}'], activation='relu'))\n",
        "    final_ann.add(Dropout(best_params[f'dropout_l{i}']))\n",
        "final_ann.add(Dense(1, activation='sigmoid'))\n",
        "\n",
        "final_ann.compile(optimizer=Adam(learning_rate=best_params['lr']),\n",
        "                  loss='binary_crossentropy', metrics=['accuracy'])\n",
        "\n",
        "final_ann.fit(X, y, epochs=50, batch_size=best_params['batch_size'], verbose=0)\n"
      ],
      "metadata": {
        "id": "ZwPvRWy6ST19"
      },
      "execution_count": null,
      "outputs": []
    },
    {
      "cell_type": "code",
      "source": [
        "y_pred_ann = final_ann.predict(X).flatten()\n",
        "y_pred_ann_class = (y_pred_ann > 0.5).astype(int)\n",
        "\n",
        "print(\"📊 Tuned ANN Performance:\")\n",
        "print(\"✅ Accuracy:\", round(accuracy_score(y, y_pred_ann_class), 4))\n",
        "print(\"✅ Precision:\", round(precision_score(y, y_pred_ann_class), 4))\n",
        "print(\"✅ Recall:\", round(recall_score(y, y_pred_ann_class), 4))\n",
        "print(\"✅ F1 Score:\", round(f1_score(y, y_pred_ann_class), 4))\n",
        "print(\"✅ ROC AUC:\", round(roc_auc_score(y, y_pred_ann), 4))\n"
      ],
      "metadata": {
        "id": "PMdvujP1SaVY"
      },
      "execution_count": null,
      "outputs": []
    },
    {
      "cell_type": "code",
      "source": [
        "final_ann.save(\"best_ann_model.h5\")\n"
      ],
      "metadata": {
        "id": "W5M6BOCbT0S1"
      },
      "execution_count": null,
      "outputs": []
    },
    {
      "cell_type": "code",
      "source": [
        "import joblib\n",
        "\n",
        "# Save the fitted StandardScaler\n",
        "joblib.dump(std, 'scaler.pkl')\n",
        "print(\"✅ Scaler saved as 'scaler.pkl'\")\n",
        "\n"
      ],
      "metadata": {
        "id": "8AgDeYxOUAIE"
      },
      "execution_count": null,
      "outputs": []
    }
  ],
  "metadata": {
    "kernelspec": {
      "display_name": "Python 3",
      "language": "python",
      "name": "python3"
    },
    "language_info": {
      "name": "python",
      "version": "3.6.6",
      "mimetype": "text/x-python",
      "codemirror_mode": {
        "name": "ipython",
        "version": 3
      },
      "pygments_lexer": "ipython3",
      "nbconvert_exporter": "python",
      "file_extension": ".py"
    },
    "colab": {
      "provenance": [],
      "include_colab_link": true
    }
  },
  "nbformat": 4,
  "nbformat_minor": 0
}