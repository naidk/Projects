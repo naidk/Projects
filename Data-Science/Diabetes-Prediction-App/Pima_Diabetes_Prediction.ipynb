{
  "nbformat": 4,
  "nbformat_minor": 0,
  "metadata": {
    "colab": {
      "provenance": [],
      "authorship_tag": "ABX9TyM/k1Dy/jZHw8Akhtvwqcm5",
      "include_colab_link": true
    },
    "kernelspec": {
      "name": "python3",
      "display_name": "Python 3"
    },
    "language_info": {
      "name": "python"
    },
    "widgets": {
      "application/vnd.jupyter.widget-state+json": {
        "4ca191874af9400f84835ed8693566c9": {
          "model_module": "@jupyter-widgets/controls",
          "model_name": "HBoxModel",
          "model_module_version": "1.5.0",
          "state": {
            "_dom_classes": [],
            "_model_module": "@jupyter-widgets/controls",
            "_model_module_version": "1.5.0",
            "_model_name": "HBoxModel",
            "_view_count": null,
            "_view_module": "@jupyter-widgets/controls",
            "_view_module_version": "1.5.0",
            "_view_name": "HBoxView",
            "box_style": "",
            "children": [
              "IPY_MODEL_e6c01e1035b94e0b94de0d8a7f1c7070",
              "IPY_MODEL_036c2588bb6e4324afdacba512e36852",
              "IPY_MODEL_0e3d8e7627834e45997c280f249d22bc"
            ],
            "layout": "IPY_MODEL_f8988b8efcb049679be47c1a463ccc65"
          }
        },
        "e6c01e1035b94e0b94de0d8a7f1c7070": {
          "model_module": "@jupyter-widgets/controls",
          "model_name": "HTMLModel",
          "model_module_version": "1.5.0",
          "state": {
            "_dom_classes": [],
            "_model_module": "@jupyter-widgets/controls",
            "_model_module_version": "1.5.0",
            "_model_name": "HTMLModel",
            "_view_count": null,
            "_view_module": "@jupyter-widgets/controls",
            "_view_module_version": "1.5.0",
            "_view_name": "HTMLView",
            "description": "",
            "description_tooltip": null,
            "layout": "IPY_MODEL_df1850f77d1d4e5caaf2dec9cf3ac46d",
            "placeholder": "​",
            "style": "IPY_MODEL_2b75ca567db64fc0acf76c2b01da8188",
            "value": "100%"
          }
        },
        "036c2588bb6e4324afdacba512e36852": {
          "model_module": "@jupyter-widgets/controls",
          "model_name": "FloatProgressModel",
          "model_module_version": "1.5.0",
          "state": {
            "_dom_classes": [],
            "_model_module": "@jupyter-widgets/controls",
            "_model_module_version": "1.5.0",
            "_model_name": "FloatProgressModel",
            "_view_count": null,
            "_view_module": "@jupyter-widgets/controls",
            "_view_module_version": "1.5.0",
            "_view_name": "ProgressView",
            "bar_style": "success",
            "description": "",
            "description_tooltip": null,
            "layout": "IPY_MODEL_c9d046e0137040dabad06fd4659a9277",
            "max": 32,
            "min": 0,
            "orientation": "horizontal",
            "style": "IPY_MODEL_788799e0f28a47d8917023c4f24abecc",
            "value": 32
          }
        },
        "0e3d8e7627834e45997c280f249d22bc": {
          "model_module": "@jupyter-widgets/controls",
          "model_name": "HTMLModel",
          "model_module_version": "1.5.0",
          "state": {
            "_dom_classes": [],
            "_model_module": "@jupyter-widgets/controls",
            "_model_module_version": "1.5.0",
            "_model_name": "HTMLModel",
            "_view_count": null,
            "_view_module": "@jupyter-widgets/controls",
            "_view_module_version": "1.5.0",
            "_view_name": "HTMLView",
            "description": "",
            "description_tooltip": null,
            "layout": "IPY_MODEL_9fce52c897fe4777b354264484002951",
            "placeholder": "​",
            "style": "IPY_MODEL_094d10eb3b4746c489e5604591672f86",
            "value": " 32/32 [00:00&lt;00:00, 90.72it/s]"
          }
        },
        "f8988b8efcb049679be47c1a463ccc65": {
          "model_module": "@jupyter-widgets/base",
          "model_name": "LayoutModel",
          "model_module_version": "1.2.0",
          "state": {
            "_model_module": "@jupyter-widgets/base",
            "_model_module_version": "1.2.0",
            "_model_name": "LayoutModel",
            "_view_count": null,
            "_view_module": "@jupyter-widgets/base",
            "_view_module_version": "1.2.0",
            "_view_name": "LayoutView",
            "align_content": null,
            "align_items": null,
            "align_self": null,
            "border": null,
            "bottom": null,
            "display": null,
            "flex": null,
            "flex_flow": null,
            "grid_area": null,
            "grid_auto_columns": null,
            "grid_auto_flow": null,
            "grid_auto_rows": null,
            "grid_column": null,
            "grid_gap": null,
            "grid_row": null,
            "grid_template_areas": null,
            "grid_template_columns": null,
            "grid_template_rows": null,
            "height": null,
            "justify_content": null,
            "justify_items": null,
            "left": null,
            "margin": null,
            "max_height": null,
            "max_width": null,
            "min_height": null,
            "min_width": null,
            "object_fit": null,
            "object_position": null,
            "order": null,
            "overflow": null,
            "overflow_x": null,
            "overflow_y": null,
            "padding": null,
            "right": null,
            "top": null,
            "visibility": null,
            "width": null
          }
        },
        "df1850f77d1d4e5caaf2dec9cf3ac46d": {
          "model_module": "@jupyter-widgets/base",
          "model_name": "LayoutModel",
          "model_module_version": "1.2.0",
          "state": {
            "_model_module": "@jupyter-widgets/base",
            "_model_module_version": "1.2.0",
            "_model_name": "LayoutModel",
            "_view_count": null,
            "_view_module": "@jupyter-widgets/base",
            "_view_module_version": "1.2.0",
            "_view_name": "LayoutView",
            "align_content": null,
            "align_items": null,
            "align_self": null,
            "border": null,
            "bottom": null,
            "display": null,
            "flex": null,
            "flex_flow": null,
            "grid_area": null,
            "grid_auto_columns": null,
            "grid_auto_flow": null,
            "grid_auto_rows": null,
            "grid_column": null,
            "grid_gap": null,
            "grid_row": null,
            "grid_template_areas": null,
            "grid_template_columns": null,
            "grid_template_rows": null,
            "height": null,
            "justify_content": null,
            "justify_items": null,
            "left": null,
            "margin": null,
            "max_height": null,
            "max_width": null,
            "min_height": null,
            "min_width": null,
            "object_fit": null,
            "object_position": null,
            "order": null,
            "overflow": null,
            "overflow_x": null,
            "overflow_y": null,
            "padding": null,
            "right": null,
            "top": null,
            "visibility": null,
            "width": null
          }
        },
        "2b75ca567db64fc0acf76c2b01da8188": {
          "model_module": "@jupyter-widgets/controls",
          "model_name": "DescriptionStyleModel",
          "model_module_version": "1.5.0",
          "state": {
            "_model_module": "@jupyter-widgets/controls",
            "_model_module_version": "1.5.0",
            "_model_name": "DescriptionStyleModel",
            "_view_count": null,
            "_view_module": "@jupyter-widgets/base",
            "_view_module_version": "1.2.0",
            "_view_name": "StyleView",
            "description_width": ""
          }
        },
        "c9d046e0137040dabad06fd4659a9277": {
          "model_module": "@jupyter-widgets/base",
          "model_name": "LayoutModel",
          "model_module_version": "1.2.0",
          "state": {
            "_model_module": "@jupyter-widgets/base",
            "_model_module_version": "1.2.0",
            "_model_name": "LayoutModel",
            "_view_count": null,
            "_view_module": "@jupyter-widgets/base",
            "_view_module_version": "1.2.0",
            "_view_name": "LayoutView",
            "align_content": null,
            "align_items": null,
            "align_self": null,
            "border": null,
            "bottom": null,
            "display": null,
            "flex": null,
            "flex_flow": null,
            "grid_area": null,
            "grid_auto_columns": null,
            "grid_auto_flow": null,
            "grid_auto_rows": null,
            "grid_column": null,
            "grid_gap": null,
            "grid_row": null,
            "grid_template_areas": null,
            "grid_template_columns": null,
            "grid_template_rows": null,
            "height": null,
            "justify_content": null,
            "justify_items": null,
            "left": null,
            "margin": null,
            "max_height": null,
            "max_width": null,
            "min_height": null,
            "min_width": null,
            "object_fit": null,
            "object_position": null,
            "order": null,
            "overflow": null,
            "overflow_x": null,
            "overflow_y": null,
            "padding": null,
            "right": null,
            "top": null,
            "visibility": null,
            "width": null
          }
        },
        "788799e0f28a47d8917023c4f24abecc": {
          "model_module": "@jupyter-widgets/controls",
          "model_name": "ProgressStyleModel",
          "model_module_version": "1.5.0",
          "state": {
            "_model_module": "@jupyter-widgets/controls",
            "_model_module_version": "1.5.0",
            "_model_name": "ProgressStyleModel",
            "_view_count": null,
            "_view_module": "@jupyter-widgets/base",
            "_view_module_version": "1.2.0",
            "_view_name": "StyleView",
            "bar_color": null,
            "description_width": ""
          }
        },
        "9fce52c897fe4777b354264484002951": {
          "model_module": "@jupyter-widgets/base",
          "model_name": "LayoutModel",
          "model_module_version": "1.2.0",
          "state": {
            "_model_module": "@jupyter-widgets/base",
            "_model_module_version": "1.2.0",
            "_model_name": "LayoutModel",
            "_view_count": null,
            "_view_module": "@jupyter-widgets/base",
            "_view_module_version": "1.2.0",
            "_view_name": "LayoutView",
            "align_content": null,
            "align_items": null,
            "align_self": null,
            "border": null,
            "bottom": null,
            "display": null,
            "flex": null,
            "flex_flow": null,
            "grid_area": null,
            "grid_auto_columns": null,
            "grid_auto_flow": null,
            "grid_auto_rows": null,
            "grid_column": null,
            "grid_gap": null,
            "grid_row": null,
            "grid_template_areas": null,
            "grid_template_columns": null,
            "grid_template_rows": null,
            "height": null,
            "justify_content": null,
            "justify_items": null,
            "left": null,
            "margin": null,
            "max_height": null,
            "max_width": null,
            "min_height": null,
            "min_width": null,
            "object_fit": null,
            "object_position": null,
            "order": null,
            "overflow": null,
            "overflow_x": null,
            "overflow_y": null,
            "padding": null,
            "right": null,
            "top": null,
            "visibility": null,
            "width": null
          }
        },
        "094d10eb3b4746c489e5604591672f86": {
          "model_module": "@jupyter-widgets/controls",
          "model_name": "DescriptionStyleModel",
          "model_module_version": "1.5.0",
          "state": {
            "_model_module": "@jupyter-widgets/controls",
            "_model_module_version": "1.5.0",
            "_model_name": "DescriptionStyleModel",
            "_view_count": null,
            "_view_module": "@jupyter-widgets/base",
            "_view_module_version": "1.2.0",
            "_view_name": "StyleView",
            "description_width": ""
          }
        },
        "b6c15ad5d96149bc95f40ee9031fb21a": {
          "model_module": "@jupyter-widgets/controls",
          "model_name": "HBoxModel",
          "model_module_version": "1.5.0",
          "state": {
            "_dom_classes": [],
            "_model_module": "@jupyter-widgets/controls",
            "_model_module_version": "1.5.0",
            "_model_name": "HBoxModel",
            "_view_count": null,
            "_view_module": "@jupyter-widgets/controls",
            "_view_module_version": "1.5.0",
            "_view_name": "HBoxView",
            "box_style": "",
            "children": [
              "IPY_MODEL_ece8636827624b6ea01811298312360b",
              "IPY_MODEL_36cc0ca510384fedaae85ff4beff96b4",
              "IPY_MODEL_c746b2e51f79497d910c169d2887f15c"
            ],
            "layout": "IPY_MODEL_61da04f7d52e48be9e281b2407157c41"
          }
        },
        "ece8636827624b6ea01811298312360b": {
          "model_module": "@jupyter-widgets/controls",
          "model_name": "HTMLModel",
          "model_module_version": "1.5.0",
          "state": {
            "_dom_classes": [],
            "_model_module": "@jupyter-widgets/controls",
            "_model_module_version": "1.5.0",
            "_model_name": "HTMLModel",
            "_view_count": null,
            "_view_module": "@jupyter-widgets/controls",
            "_view_module_version": "1.5.0",
            "_view_name": "HTMLView",
            "description": "",
            "description_tooltip": null,
            "layout": "IPY_MODEL_d21e7c4433ff4991bf0754de8b8c1b49",
            "placeholder": "​",
            "style": "IPY_MODEL_f5df516d32e34bd4972a9c2d2767a5a0",
            "value": "100%"
          }
        },
        "36cc0ca510384fedaae85ff4beff96b4": {
          "model_module": "@jupyter-widgets/controls",
          "model_name": "FloatProgressModel",
          "model_module_version": "1.5.0",
          "state": {
            "_dom_classes": [],
            "_model_module": "@jupyter-widgets/controls",
            "_model_module_version": "1.5.0",
            "_model_name": "FloatProgressModel",
            "_view_count": null,
            "_view_module": "@jupyter-widgets/controls",
            "_view_module_version": "1.5.0",
            "_view_name": "ProgressView",
            "bar_style": "success",
            "description": "",
            "description_tooltip": null,
            "layout": "IPY_MODEL_4a5a8af5b3b14f45af371b00dc3bd946",
            "max": 32,
            "min": 0,
            "orientation": "horizontal",
            "style": "IPY_MODEL_f9bbc3b9ade2426db02bc14b53a011b2",
            "value": 32
          }
        },
        "c746b2e51f79497d910c169d2887f15c": {
          "model_module": "@jupyter-widgets/controls",
          "model_name": "HTMLModel",
          "model_module_version": "1.5.0",
          "state": {
            "_dom_classes": [],
            "_model_module": "@jupyter-widgets/controls",
            "_model_module_version": "1.5.0",
            "_model_name": "HTMLModel",
            "_view_count": null,
            "_view_module": "@jupyter-widgets/controls",
            "_view_module_version": "1.5.0",
            "_view_name": "HTMLView",
            "description": "",
            "description_tooltip": null,
            "layout": "IPY_MODEL_8ba922eb0add4eb09385e1896de4ecf8",
            "placeholder": "​",
            "style": "IPY_MODEL_0b55ed97006a4431aaa709592c831d45",
            "value": " 32/32 [00:03&lt;00:00,  6.57it/s]"
          }
        },
        "61da04f7d52e48be9e281b2407157c41": {
          "model_module": "@jupyter-widgets/base",
          "model_name": "LayoutModel",
          "model_module_version": "1.2.0",
          "state": {
            "_model_module": "@jupyter-widgets/base",
            "_model_module_version": "1.2.0",
            "_model_name": "LayoutModel",
            "_view_count": null,
            "_view_module": "@jupyter-widgets/base",
            "_view_module_version": "1.2.0",
            "_view_name": "LayoutView",
            "align_content": null,
            "align_items": null,
            "align_self": null,
            "border": null,
            "bottom": null,
            "display": null,
            "flex": null,
            "flex_flow": null,
            "grid_area": null,
            "grid_auto_columns": null,
            "grid_auto_flow": null,
            "grid_auto_rows": null,
            "grid_column": null,
            "grid_gap": null,
            "grid_row": null,
            "grid_template_areas": null,
            "grid_template_columns": null,
            "grid_template_rows": null,
            "height": null,
            "justify_content": null,
            "justify_items": null,
            "left": null,
            "margin": null,
            "max_height": null,
            "max_width": null,
            "min_height": null,
            "min_width": null,
            "object_fit": null,
            "object_position": null,
            "order": null,
            "overflow": null,
            "overflow_x": null,
            "overflow_y": null,
            "padding": null,
            "right": null,
            "top": null,
            "visibility": null,
            "width": null
          }
        },
        "d21e7c4433ff4991bf0754de8b8c1b49": {
          "model_module": "@jupyter-widgets/base",
          "model_name": "LayoutModel",
          "model_module_version": "1.2.0",
          "state": {
            "_model_module": "@jupyter-widgets/base",
            "_model_module_version": "1.2.0",
            "_model_name": "LayoutModel",
            "_view_count": null,
            "_view_module": "@jupyter-widgets/base",
            "_view_module_version": "1.2.0",
            "_view_name": "LayoutView",
            "align_content": null,
            "align_items": null,
            "align_self": null,
            "border": null,
            "bottom": null,
            "display": null,
            "flex": null,
            "flex_flow": null,
            "grid_area": null,
            "grid_auto_columns": null,
            "grid_auto_flow": null,
            "grid_auto_rows": null,
            "grid_column": null,
            "grid_gap": null,
            "grid_row": null,
            "grid_template_areas": null,
            "grid_template_columns": null,
            "grid_template_rows": null,
            "height": null,
            "justify_content": null,
            "justify_items": null,
            "left": null,
            "margin": null,
            "max_height": null,
            "max_width": null,
            "min_height": null,
            "min_width": null,
            "object_fit": null,
            "object_position": null,
            "order": null,
            "overflow": null,
            "overflow_x": null,
            "overflow_y": null,
            "padding": null,
            "right": null,
            "top": null,
            "visibility": null,
            "width": null
          }
        },
        "f5df516d32e34bd4972a9c2d2767a5a0": {
          "model_module": "@jupyter-widgets/controls",
          "model_name": "DescriptionStyleModel",
          "model_module_version": "1.5.0",
          "state": {
            "_model_module": "@jupyter-widgets/controls",
            "_model_module_version": "1.5.0",
            "_model_name": "DescriptionStyleModel",
            "_view_count": null,
            "_view_module": "@jupyter-widgets/base",
            "_view_module_version": "1.2.0",
            "_view_name": "StyleView",
            "description_width": ""
          }
        },
        "4a5a8af5b3b14f45af371b00dc3bd946": {
          "model_module": "@jupyter-widgets/base",
          "model_name": "LayoutModel",
          "model_module_version": "1.2.0",
          "state": {
            "_model_module": "@jupyter-widgets/base",
            "_model_module_version": "1.2.0",
            "_model_name": "LayoutModel",
            "_view_count": null,
            "_view_module": "@jupyter-widgets/base",
            "_view_module_version": "1.2.0",
            "_view_name": "LayoutView",
            "align_content": null,
            "align_items": null,
            "align_self": null,
            "border": null,
            "bottom": null,
            "display": null,
            "flex": null,
            "flex_flow": null,
            "grid_area": null,
            "grid_auto_columns": null,
            "grid_auto_flow": null,
            "grid_auto_rows": null,
            "grid_column": null,
            "grid_gap": null,
            "grid_row": null,
            "grid_template_areas": null,
            "grid_template_columns": null,
            "grid_template_rows": null,
            "height": null,
            "justify_content": null,
            "justify_items": null,
            "left": null,
            "margin": null,
            "max_height": null,
            "max_width": null,
            "min_height": null,
            "min_width": null,
            "object_fit": null,
            "object_position": null,
            "order": null,
            "overflow": null,
            "overflow_x": null,
            "overflow_y": null,
            "padding": null,
            "right": null,
            "top": null,
            "visibility": null,
            "width": null
          }
        },
        "f9bbc3b9ade2426db02bc14b53a011b2": {
          "model_module": "@jupyter-widgets/controls",
          "model_name": "ProgressStyleModel",
          "model_module_version": "1.5.0",
          "state": {
            "_model_module": "@jupyter-widgets/controls",
            "_model_module_version": "1.5.0",
            "_model_name": "ProgressStyleModel",
            "_view_count": null,
            "_view_module": "@jupyter-widgets/base",
            "_view_module_version": "1.2.0",
            "_view_name": "StyleView",
            "bar_color": null,
            "description_width": ""
          }
        },
        "8ba922eb0add4eb09385e1896de4ecf8": {
          "model_module": "@jupyter-widgets/base",
          "model_name": "LayoutModel",
          "model_module_version": "1.2.0",
          "state": {
            "_model_module": "@jupyter-widgets/base",
            "_model_module_version": "1.2.0",
            "_model_name": "LayoutModel",
            "_view_count": null,
            "_view_module": "@jupyter-widgets/base",
            "_view_module_version": "1.2.0",
            "_view_name": "LayoutView",
            "align_content": null,
            "align_items": null,
            "align_self": null,
            "border": null,
            "bottom": null,
            "display": null,
            "flex": null,
            "flex_flow": null,
            "grid_area": null,
            "grid_auto_columns": null,
            "grid_auto_flow": null,
            "grid_auto_rows": null,
            "grid_column": null,
            "grid_gap": null,
            "grid_row": null,
            "grid_template_areas": null,
            "grid_template_columns": null,
            "grid_template_rows": null,
            "height": null,
            "justify_content": null,
            "justify_items": null,
            "left": null,
            "margin": null,
            "max_height": null,
            "max_width": null,
            "min_height": null,
            "min_width": null,
            "object_fit": null,
            "object_position": null,
            "order": null,
            "overflow": null,
            "overflow_x": null,
            "overflow_y": null,
            "padding": null,
            "right": null,
            "top": null,
            "visibility": null,
            "width": null
          }
        },
        "0b55ed97006a4431aaa709592c831d45": {
          "model_module": "@jupyter-widgets/controls",
          "model_name": "DescriptionStyleModel",
          "model_module_version": "1.5.0",
          "state": {
            "_model_module": "@jupyter-widgets/controls",
            "_model_module_version": "1.5.0",
            "_model_name": "DescriptionStyleModel",
            "_view_count": null,
            "_view_module": "@jupyter-widgets/base",
            "_view_module_version": "1.2.0",
            "_view_name": "StyleView",
            "description_width": ""
          }
        }
      }
    }
  },
  "cells": [
    {
      "cell_type": "markdown",
      "metadata": {
        "id": "view-in-github",
        "colab_type": "text"
      },
      "source": [
        "<a href=\"https://colab.research.google.com/github/naidk/Internship-Portfolio/blob/main/Data-Science/Pima_Diabetes_Prediction.ipynb\" target=\"_parent\"><img src=\"https://colab.research.google.com/assets/colab-badge.svg\" alt=\"Open In Colab\"/></a>"
      ]
    },
    {
      "cell_type": "markdown",
      "source": [
        "Step 1: Initial Setup"
      ],
      "metadata": {
        "id": "RUH5EXGju-b-"
      }
    },
    {
      "cell_type": "code",
      "source": [
        "import sklearn\n",
        "print(\"scikit-learn version:\", sklearn.__version__)\n"
      ],
      "metadata": {
        "colab": {
          "base_uri": "https://localhost:8080/"
        },
        "id": "WNQIs33Cw1mh",
        "outputId": "9301bd9d-7d09-47cb-c453-6fab9a6e634b"
      },
      "execution_count": null,
      "outputs": [
        {
          "output_type": "stream",
          "name": "stdout",
          "text": [
            "scikit-learn version: 1.6.1\n"
          ]
        }
      ]
    },
    {
      "cell_type": "code",
      "source": [
        "import matplotlib.pyplot as plt\n",
        "import seaborn as sns\n",
        "from sklearn.model_selection import train_test_split, GridSearchCV, cross_val_score\n",
        "from sklearn.preprocessing import StandardScaler\n",
        "from sklearn.linear_model import LogisticRegression\n",
        "from sklearn.ensemble import RandomForestRegressor\n",
        "from xgboost import XGBRegressor\n",
        "from sklearn.metrics import mean_squared_error, r2_score\n",
        "from sklearn.pipeline import Pipeline\n",
        "import warnings\n",
        "warnings.filterwarnings('ignore')\n"
      ],
      "metadata": {
        "id": "cmgwLmaYu_M1"
      },
      "execution_count": null,
      "outputs": []
    },
    {
      "cell_type": "code",
      "source": [
        "import pandas as pd\n",
        "df = pd.read_csv('diabetes.csv')"
      ],
      "metadata": {
        "id": "2Esh6S-cvkYK"
      },
      "execution_count": null,
      "outputs": []
    },
    {
      "cell_type": "markdown",
      "source": [
        "Step 2: Exploratory Data Analysis (EDA)"
      ],
      "metadata": {
        "id": "qWFL_Scjv17S"
      }
    },
    {
      "cell_type": "code",
      "source": [
        "df.describe()\n",
        "df.info()\n",
        "sns.boxplot(data=df)\n",
        "plt.xticks(rotation=90)\n",
        "plt.title(\"Boxplot for Outlier Detection\")\n",
        "plt.show()\n"
      ],
      "metadata": {
        "colab": {
          "base_uri": "https://localhost:8080/",
          "height": 897
        },
        "id": "_eMNDCSTv21m",
        "outputId": "6d69e4a9-a1d2-4ba4-ffbf-204eaff36c3f"
      },
      "execution_count": null,
      "outputs": [
        {
          "output_type": "stream",
          "name": "stdout",
          "text": [
            "<class 'pandas.core.frame.DataFrame'>\n",
            "RangeIndex: 768 entries, 0 to 767\n",
            "Data columns (total 9 columns):\n",
            " #   Column                    Non-Null Count  Dtype  \n",
            "---  ------                    --------------  -----  \n",
            " 0   Pregnancies               768 non-null    int64  \n",
            " 1   Glucose                   768 non-null    int64  \n",
            " 2   BloodPressure             768 non-null    int64  \n",
            " 3   SkinThickness             768 non-null    int64  \n",
            " 4   Insulin                   768 non-null    int64  \n",
            " 5   BMI                       768 non-null    float64\n",
            " 6   DiabetesPedigreeFunction  768 non-null    float64\n",
            " 7   Age                       768 non-null    int64  \n",
            " 8   Outcome                   768 non-null    int64  \n",
            "dtypes: float64(2), int64(7)\n",
            "memory usage: 54.1 KB\n"
          ]
        },
        {
          "output_type": "display_data",
          "data": {
            "text/plain": [
              "<Figure size 640x480 with 1 Axes>"
            ],
            "image/png": "[encoded data removed]"
          },
          "metadata": {}
        }
      ]
    },
    {
      "cell_type": "markdown",
      "source": [
        "Step 2: Full EDA + Data Cleaning Tasks"
      ],
      "metadata": {
        "id": "gfoEsTOcweJc"
      }
    },
    {
      "cell_type": "code",
      "source": [
        "import pandas as pd\n",
        "import numpy as np\n",
        "import matplotlib.pyplot as plt\n",
        "import seaborn as sns\n",
        "from scipy.stats import zscore\n",
        "\n",
        "# Load your dataset\n",
        "df = pd.read_csv(\"diabetes.csv\")  # Or replace with your actual path\n",
        "\n",
        "# 1. Check for Missing Values\n",
        "print(\"🔹 Missing Values:\")\n",
        "print(df.isnull().sum())\n",
        "\n",
        "# 2. Check Data Types\n",
        "print(\"\\n🔹 Data Types:\")\n",
        "print(df.dtypes)\n",
        "\n",
        "# 3. Basic Descriptive Statistics\n",
        "print(\"\\n🔹 Descriptive Stats:\")\n",
        "print(df.describe())\n",
        "\n",
        "# 4. Check for Duplicates\n",
        "duplicates = df.duplicated().sum()\n",
        "print(f\"\\n🔹 Duplicates Found: {duplicates}\")\n",
        "df = df.drop_duplicates()\n",
        "\n",
        "# 5. Class Balance Visualization\n",
        "sns.countplot(x='Outcome', data=df)\n",
        "plt.title(\"🔹 Class Balance\")\n",
        "plt.show()\n",
        "\n",
        "# 6. Feature Distributions\n",
        "df.hist(figsize=(12, 10), bins=20)\n",
        "plt.suptitle(\"🔹 Feature Distributions\", fontsize=16)\n",
        "plt.show()\n",
        "\n",
        "# 7. Correlation Heatmap\n",
        "plt.figure(figsize=(10,8))\n",
        "sns.heatmap(df.corr(), annot=True, cmap='coolwarm')\n",
        "plt.title(\"🔹 Correlation Heatmap\")\n",
        "plt.show()\n",
        "\n",
        "# 8. Z-Score for Outlier Check\n",
        "z_scores = np.abs(zscore(df.drop('Outcome', axis=1)))\n",
        "outliers = (z_scores > 3).sum(axis=0)\n",
        "print(\"\\n🔹 Z-Score Based Outlier Count Per Feature:\")\n",
        "print(outliers)\n",
        "\n",
        "# 9. Skewness\n",
        "print(\"\\n🔹 Skewness of Features:\")\n",
        "print(df.drop('Outcome', axis=1).skew().sort_values(ascending=False))\n"
      ],
      "metadata": {
        "colab": {
          "base_uri": "https://localhost:8080/",
          "height": 1000
        },
        "id": "qwcmaqvcwe_B",
        "outputId": "6072e219-188d-46cb-bbc5-6688b64f645b"
      },
      "execution_count": null,
      "outputs": [
        {
          "output_type": "stream",
          "name": "stdout",
          "text": [
            "🔹 Missing Values:\n",
            "Pregnancies                 0\n",
            "Glucose                     0\n",
            "BloodPressure               0\n",
            "SkinThickness               0\n",
            "Insulin                     0\n",
            "BMI                         0\n",
            "DiabetesPedigreeFunction    0\n",
            "Age                         0\n",
            "Outcome                     0\n",
            "dtype: int64\n",
            "\n",
            "🔹 Data Types:\n",
            "Pregnancies                   int64\n",
            "Glucose                       int64\n",
            "BloodPressure                 int64\n",
            "SkinThickness                 int64\n",
            "Insulin                       int64\n",
            "BMI                         float64\n",
            "DiabetesPedigreeFunction    float64\n",
            "Age                           int64\n",
            "Outcome                       int64\n",
            "dtype: object\n",
            "\n",
            "🔹 Descriptive Stats:\n",
            "       Pregnancies  Glucose  BloodPressure  SkinThickness  Insulin    BMI  \\\n",
            "count       768.00   768.00         768.00         768.00   768.00 768.00   \n",
            "mean          3.85   120.89          69.11          20.54    79.80  31.99   \n",
            "std           3.37    31.97          19.36          15.95   115.24   7.88   \n",
            "min           0.00     0.00           0.00           0.00     0.00   0.00   \n",
            "25%           1.00    99.00          62.00           0.00     0.00  27.30   \n",
            "50%           3.00   117.00          72.00          23.00    30.50  32.00   \n",
            "75%           6.00   140.25          80.00          32.00   127.25  36.60   \n",
            "max          17.00   199.00         122.00          99.00   846.00  67.10   \n",
            "\n",
            "       DiabetesPedigreeFunction    Age  Outcome  \n",
            "count                    768.00 768.00   768.00  \n",
            "mean                       0.47  33.24     0.35  \n",
            "std                        0.33  11.76     0.48  \n",
            "min                        0.08  21.00     0.00  \n",
            "25%                        0.24  24.00     0.00  \n",
            "50%                        0.37  29.00     0.00  \n",
            "75%                        0.63  41.00     1.00  \n",
            "max                        2.42  81.00     1.00  \n",
            "\n",
            "🔹 Duplicates Found: 0\n"
          ]
        },
        {
          "output_type": "display_data",
          "data": {
            "text/plain": [
              "<Figure size 640x480 with 1 Axes>"
            ],
            "image/png": "[encoded data removed]"
          },
          "metadata": {}
        },
        {
          "output_type": "display_data",
          "data": {
            "text/plain": [
              "<Figure size 1200x1000 with 9 Axes>"
            ],
            "image/png": "[encoded data removed]"
          },
          "metadata": {}
        },
        {
          "output_type": "display_data",
          "data": {
            "text/plain": [
              "<Figure size 1000x800 with 2 Axes>"
            ],
            "image/png": "[encoded data removed]"
          },
          "metadata": {}
        },
        {
          "output_type": "stream",
          "name": "stdout",
          "text": [
            "\n",
            "🔹 Z-Score Based Outlier Count Per Feature:\n",
            "[ 4  5 35  1 18 14 11  5]\n",
            "\n",
            "🔹 Skewness of Features:\n",
            "Insulin                     2.27\n",
            "DiabetesPedigreeFunction    1.92\n",
            "Age                         1.13\n",
            "Pregnancies                 0.90\n",
            "Glucose                     0.17\n",
            "SkinThickness               0.11\n",
            "BMI                        -0.43\n",
            "BloodPressure              -1.84\n",
            "dtype: float64\n"
          ]
        }
      ]
    },
    {
      "cell_type": "code",
      "source": [
        "# Columns where 0 is biologically invalid\n",
        "cols_with_zero_as_nan = [\"Glucose\", \"BloodPressure\", \"SkinThickness\", \"Insulin\", \"BMI\"]\n",
        "\n",
        "# Replace 0s with NaN\n",
        "df[cols_with_zero_as_nan] = df[cols_with_zero_as_nan].replace(0, np.nan)\n"
      ],
      "metadata": {
        "id": "VxWAxO7NyBRN"
      },
      "execution_count": null,
      "outputs": []
    },
    {
      "cell_type": "code",
      "source": [
        "print(\"Missing values after treating 0s as NaN:\")\n",
        "print(df[cols_with_zero_as_nan].isnull().sum())\n"
      ],
      "metadata": {
        "colab": {
          "base_uri": "https://localhost:8080/"
        },
        "id": "IoDFQvsHyC26",
        "outputId": "d43b9e8c-47dd-48b6-baaf-9cfe9d2652bd"
      },
      "execution_count": null,
      "outputs": [
        {
          "output_type": "stream",
          "name": "stdout",
          "text": [
            "Missing values after treating 0s as NaN:\n",
            "Glucose            5\n",
            "BloodPressure     35\n",
            "SkinThickness    227\n",
            "Insulin          374\n",
            "BMI               11\n",
            "dtype: int64\n"
          ]
        }
      ]
    },
    {
      "cell_type": "code",
      "source": [
        "# Median imputation\n",
        "df[cols_with_zero_as_nan] = df[cols_with_zero_as_nan].fillna(df[cols_with_zero_as_nan].median())\n"
      ],
      "metadata": {
        "id": "TuqyTC0ryFmN"
      },
      "execution_count": null,
      "outputs": []
    },
    {
      "cell_type": "code",
      "source": [
        "print(\"Final missing values after imputation:\")\n",
        "print(df.isnull().sum())\n"
      ],
      "metadata": {
        "colab": {
          "base_uri": "https://localhost:8080/"
        },
        "id": "k-3LcDLByIGP",
        "outputId": "ba0dac13-8812-4836-ef37-a6b727858374"
      },
      "execution_count": null,
      "outputs": [
        {
          "output_type": "stream",
          "name": "stdout",
          "text": [
            "Final missing values after imputation:\n",
            "Pregnancies                 0\n",
            "Glucose                     0\n",
            "BloodPressure               0\n",
            "SkinThickness               0\n",
            "Insulin                     0\n",
            "BMI                         0\n",
            "DiabetesPedigreeFunction    0\n",
            "Age                         0\n",
            "Outcome                     0\n",
            "dtype: int64\n"
          ]
        }
      ]
    },
    {
      "cell_type": "markdown",
      "source": [
        "Step 3A: Outlier Detection Using Z-Score Method"
      ],
      "metadata": {
        "id": "tQglYKQHy9aw"
      }
    },
    {
      "cell_type": "code",
      "source": [
        "from scipy.stats import zscore\n",
        "\n",
        "def remove_outliers_zscore(df, threshold=3):\n",
        "    df_clean = df.copy()\n",
        "    z_scores = np.abs(zscore(df_clean.select_dtypes(include=[np.number])))\n",
        "    mask = (z_scores < threshold).all(axis=1)\n",
        "    df_clean = df_clean[mask]\n",
        "    return df_clean\n"
      ],
      "metadata": {
        "id": "LLD6LJ1ry10b"
      },
      "execution_count": null,
      "outputs": []
    },
    {
      "cell_type": "code",
      "source": [
        "df_no_outliers = remove_outliers_zscore(df)\n",
        "print(\"Shape after outlier removal:\", df_no_outliers.shape)\n"
      ],
      "metadata": {
        "colab": {
          "base_uri": "https://localhost:8080/"
        },
        "id": "Mjuq9Vuyy8Jz",
        "outputId": "c16dc0d6-b1d9-40e8-d5a3-0bc0aa638567"
      },
      "execution_count": null,
      "outputs": [
        {
          "output_type": "stream",
          "name": "stdout",
          "text": [
            "Shape after outlier removal: (718, 9)\n"
          ]
        }
      ]
    },
    {
      "cell_type": "code",
      "source": [
        "df_with_outliers = df.copy()           # Cleaned for zeros but keeps outliers\n",
        "df_without_outliers = df_no_outliers   # Cleaned for zeros AND outliers\n"
      ],
      "metadata": {
        "id": "TwBNWE1HzJRH"
      },
      "execution_count": null,
      "outputs": []
    },
    {
      "cell_type": "markdown",
      "source": [
        " Log1p Transformation Code (Log(1 + x) to handle 0s)"
      ],
      "metadata": {
        "id": "93vvAz7SyuGk"
      }
    },
    {
      "cell_type": "code",
      "source": [
        "import numpy as np\n",
        "\n",
        "skewed_features = [\"Insulin\", \"DiabetesPedigreeFunction\", \"Age\", \"Pregnancies\"]\n",
        "\n",
        "for feature in skewed_features:\n",
        "    # Only apply if feature has positive values\n",
        "    df_with_outliers[feature] = np.log1p(df_with_outliers[feature])\n",
        "    df_without_outliers[feature] = np.log1p(df_without_outliers[feature])\n",
        "\n"
      ],
      "metadata": {
        "id": "ZRyBQiksyvJo"
      },
      "execution_count": null,
      "outputs": []
    },
    {
      "cell_type": "code",
      "source": [
        "# Re-check skewness after transformation\n",
        "print(\"🔍 Skewness after log1p transformation (with outliers):\")\n",
        "print(df_with_outliers[skewed_features].skew())\n",
        "\n",
        "print(\"\\n🔍 Skewness after log1p transformation (without outliers):\")\n",
        "print(df_without_outliers[skewed_features].skew())\n"
      ],
      "metadata": {
        "colab": {
          "base_uri": "https://localhost:8080/"
        },
        "id": "SdXjf-jg0C94",
        "outputId": "7376ca47-22a2-44c1-9449-c2fb63ba1953"
      },
      "execution_count": null,
      "outputs": [
        {
          "output_type": "stream",
          "name": "stdout",
          "text": [
            "🔍 Skewness after log1p transformation (with outliers):\n",
            "Insulin                    -0.18\n",
            "DiabetesPedigreeFunction    1.12\n",
            "Age                         0.61\n",
            "Pregnancies                -0.24\n",
            "dtype: float64\n",
            "\n",
            "🔍 Skewness after log1p transformation (without outliers):\n",
            "Insulin                    -0.88\n",
            "DiabetesPedigreeFunction    0.80\n",
            "Age                         0.59\n",
            "Pregnancies                -0.28\n",
            "dtype: float64\n"
          ]
        }
      ]
    },
    {
      "cell_type": "code",
      "source": [
        "# If Outcome column was lost during transformations, reattach it\n",
        "df_with_outliers[\"Outcome\"] = df[\"Outcome\"]\n",
        "df_without_outliers[\"Outcome\"] = df[\"Outcome\"]\n"
      ],
      "metadata": {
        "id": "vb0F0BFZ0rK9"
      },
      "execution_count": null,
      "outputs": []
    },
    {
      "cell_type": "code",
      "source": [
        "from sklearn.preprocessing import StandardScaler\n",
        "\n",
        "# Separate features and target\n",
        "X_with_outliers = df_with_outliers.drop(\"Outcome\", axis=1)\n",
        "y_with_outliers = df_with_outliers[\"Outcome\"]\n",
        "\n",
        "X_without_outliers = df_without_outliers.drop(\"Outcome\", axis=1)\n",
        "y_without_outliers = df_without_outliers[\"Outcome\"]\n",
        "\n",
        "# Scale the features\n",
        "scaler_with = StandardScaler()\n",
        "scaler_without = StandardScaler()\n",
        "\n",
        "X_with_outliers_scaled = scaler_with.fit_transform(X_with_outliers)\n",
        "X_without_outliers_scaled = scaler_without.fit_transform(X_without_outliers)\n",
        "\n",
        "print(\"Shapes:\", X_with_outliers_scaled.shape, X_without_outliers_scaled.shape)\n"
      ],
      "metadata": {
        "colab": {
          "base_uri": "https://localhost:8080/"
        },
        "id": "c4h_cOd-0xXc",
        "outputId": "26d60cea-f80e-42fd-d72a-24f891c4538c"
      },
      "execution_count": null,
      "outputs": [
        {
          "output_type": "stream",
          "name": "stdout",
          "text": [
            "Shapes: (768, 8) (718, 8)\n"
          ]
        }
      ]
    },
    {
      "cell_type": "markdown",
      "source": [
        "Step 6: Train-Test Split (on both datasets)"
      ],
      "metadata": {
        "id": "r9yglUPw1KkR"
      }
    },
    {
      "cell_type": "code",
      "source": [
        "from sklearn.model_selection import train_test_split\n",
        "\n",
        "# Features & Target\n",
        "X_with = df_with_outliers.drop(\"Outcome\", axis=1)\n",
        "y_with = df_with_outliers[\"Outcome\"]\n",
        "\n",
        "X_without = df_without_outliers.drop(\"Outcome\", axis=1)\n",
        "y_without = df_without_outliers[\"Outcome\"]\n",
        "\n",
        "# Split both\n",
        "X_train_with, X_test_with, y_train_with, y_test_with = train_test_split(X_with, y_with, test_size=0.2, random_state=42)\n",
        "X_train_wo, X_test_wo, y_train_wo, y_test_wo = train_test_split(X_without, y_without, test_size=0.2, random_state=42)\n"
      ],
      "metadata": {
        "id": "ITiP1DKt1HYc"
      },
      "execution_count": null,
      "outputs": []
    },
    {
      "cell_type": "code",
      "source": [
        "# 🔄 Step: Handle Class Imbalance using SMOTE\n",
        "from imblearn.over_sampling import SMOTE\n",
        "\n",
        "# SMOTE for 'with outliers' data\n",
        "smote_with = SMOTE(random_state=42)\n",
        "X_train_with_smote, y_train_with_smote = smote_with.fit_resample(X_train_with, y_train_with)\n",
        "\n",
        "# SMOTE for 'without outliers' data\n",
        "smote_wo = SMOTE(random_state=42)\n",
        "X_train_wo_smote, y_train_wo_smote = smote_wo.fit_resample(X_train_wo, y_train_wo)\n",
        "\n",
        "# Check class distribution after SMOTE\n",
        "print(\"🔹 Class Distribution After SMOTE (With Outliers):\")\n",
        "print(y_train_with_smote.value_counts())\n",
        "print(\"\\n🔹 Class Distribution After SMOTE (Without Outliers):\")\n",
        "print(y_train_wo_smote.value_counts())\n"
      ],
      "metadata": {
        "colab": {
          "base_uri": "https://localhost:8080/"
        },
        "id": "Ie2RvfgXJDCt",
        "outputId": "216ffbfe-6df3-4e60-aa15-830746dac322"
      },
      "execution_count": null,
      "outputs": [
        {
          "output_type": "stream",
          "name": "stdout",
          "text": [
            "🔹 Class Distribution After SMOTE (With Outliers):\n",
            "Outcome\n",
            "0    401\n",
            "1    401\n",
            "Name: count, dtype: int64\n",
            "\n",
            "🔹 Class Distribution After SMOTE (Without Outliers):\n",
            "Outcome\n",
            "1    379\n",
            "0    379\n",
            "Name: count, dtype: int64\n"
          ]
        }
      ]
    },
    {
      "cell_type": "markdown",
      "source": [
        "Step 7: Standard Scaling"
      ],
      "metadata": {
        "id": "dkDbdpP-1RKy"
      }
    },
    {
      "cell_type": "code",
      "source": [
        "from sklearn.preprocessing import StandardScaler\n",
        "\n",
        "# Create scaler objects\n",
        "scaler_with = StandardScaler()\n",
        "scaler_wo = StandardScaler()\n",
        "\n",
        "# Scale after SMOTE\n",
        "X_train_with_scaled = scaler_with.fit_transform(X_train_with_smote)\n",
        "X_test_with_scaled = scaler_with.transform(X_test_with)  # use original test set\n",
        "\n",
        "X_train_wo_scaled = scaler_wo.fit_transform(X_train_wo_smote)\n",
        "X_test_wo_scaled = scaler_wo.transform(X_test_wo)        # use original test set\n"
      ],
      "metadata": {
        "id": "1kgaxa3W1RyZ"
      },
      "execution_count": null,
      "outputs": []
    },
    {
      "cell_type": "markdown",
      "source": [
        " Step 8: Model Training (Start with Logistic Regression)"
      ],
      "metadata": {
        "id": "WmrVlgcD1ak-"
      }
    },
    {
      "cell_type": "code",
      "source": [
        "from sklearn.linear_model import LogisticRegression\n",
        "from sklearn.metrics import classification_report, accuracy_score, confusion_matrix, roc_auc_score\n",
        "\n",
        "# Train using SMOTE-balanced data\n",
        "lr = LogisticRegression()\n",
        "lr.fit(X_train_with_scaled, y_train_with_smote)\n",
        "\n",
        "# Predict on the original (unchanged) test set\n",
        "y_pred_with = lr.predict(X_test_with_scaled)\n",
        "\n",
        "# Evaluation\n",
        "print(\"🔹 Logistic Regression (With Outliers + SMOTE):\")\n",
        "print(\"Accuracy:\", accuracy_score(y_test_with, y_pred_with))\n",
        "print(\"Confusion Matrix:\\n\", confusion_matrix(y_test_with, y_pred_with))\n",
        "print(\"Classification Report:\\n\", classification_report(y_test_with, y_pred_with))\n",
        "print(\"ROC-AUC Score:\", roc_auc_score(y_test_with, lr.predict_proba(X_test_with_scaled)[:, 1]))\n"
      ],
      "metadata": {
        "colab": {
          "base_uri": "https://localhost:8080/"
        },
        "id": "nSJFAgOR1bZS",
        "outputId": "46bc6987-5d32-4952-8001-d4c25b10fddc"
      },
      "execution_count": null,
      "outputs": [
        {
          "output_type": "stream",
          "name": "stdout",
          "text": [
            "🔹 Logistic Regression (With Outliers + SMOTE):\n",
            "Accuracy: 0.7012987012987013\n",
            "Confusion Matrix:\n",
            " [[68 31]\n",
            " [15 40]]\n",
            "Classification Report:\n",
            "               precision    recall  f1-score   support\n",
            "\n",
            "           0       0.82      0.69      0.75        99\n",
            "           1       0.56      0.73      0.63        55\n",
            "\n",
            "    accuracy                           0.70       154\n",
            "   macro avg       0.69      0.71      0.69       154\n",
            "weighted avg       0.73      0.70      0.71       154\n",
            "\n",
            "ROC-AUC Score: 0.8194674012855832\n"
          ]
        }
      ]
    },
    {
      "cell_type": "code",
      "source": [
        "from sklearn.linear_model import LogisticRegression\n",
        "from sklearn.metrics import classification_report, accuracy_score, confusion_matrix, roc_auc_score\n",
        "\n",
        "# Train using SMOTE-balanced data\n",
        "lr_wo = LogisticRegression()\n",
        "lr_wo.fit(X_train_wo_scaled, y_train_wo_smote)\n",
        "\n",
        "# Predict on the original (unchanged) test set\n",
        "y_pred_wo = lr_wo.predict(X_test_wo_scaled)\n",
        "\n",
        "# Evaluation\n",
        "print(\"🔹 Logistic Regression (Without Outliers + SMOTE):\")\n",
        "print(\"Accuracy:\", accuracy_score(y_test_wo, y_pred_wo))\n",
        "print(\"Confusion Matrix:\\n\", confusion_matrix(y_test_wo, y_pred_wo))\n",
        "print(\"Classification Report:\\n\", classification_report(y_test_wo, y_pred_wo))\n",
        "print(\"ROC-AUC Score:\", roc_auc_score(y_test_wo, lr_wo.predict_proba(X_test_wo_scaled)[:, 1]))\n"
      ],
      "metadata": {
        "colab": {
          "base_uri": "https://localhost:8080/"
        },
        "id": "_rujsbQU1oUN",
        "outputId": "41517852-d2fa-4b6b-d1d1-241949356d80"
      },
      "execution_count": null,
      "outputs": [
        {
          "output_type": "stream",
          "name": "stdout",
          "text": [
            "🔹 Logistic Regression (Without Outliers + SMOTE):\n",
            "Accuracy: 0.7708333333333334\n",
            "Confusion Matrix:\n",
            " [[73 24]\n",
            " [ 9 38]]\n",
            "Classification Report:\n",
            "               precision    recall  f1-score   support\n",
            "\n",
            "           0       0.89      0.75      0.82        97\n",
            "           1       0.61      0.81      0.70        47\n",
            "\n",
            "    accuracy                           0.77       144\n",
            "   macro avg       0.75      0.78      0.76       144\n",
            "weighted avg       0.80      0.77      0.78       144\n",
            "\n",
            "ROC-AUC Score: 0.8633472252686993\n"
          ]
        }
      ]
    },
    {
      "cell_type": "code",
      "source": [
        "from sklearn.ensemble import RandomForestClassifier\n",
        "from sklearn.metrics import accuracy_score, confusion_matrix, classification_report, roc_auc_score\n",
        "\n",
        "# Train on SMOTE-balanced data\n",
        "rf_with = RandomForestClassifier(random_state=42)\n",
        "rf_with.fit(X_train_with_scaled, y_train_with_smote)\n",
        "\n",
        "# Predict on the original test set\n",
        "y_pred_with_rf = rf_with.predict(X_test_with_scaled)\n",
        "\n",
        "# Evaluation\n",
        "print(\"🔹 Random Forest (With Outliers + SMOTE):\")\n",
        "print(\"Accuracy:\", accuracy_score(y_test_with, y_pred_with_rf))\n",
        "print(\"Confusion Matrix:\\n\", confusion_matrix(y_test_with, y_pred_with_rf))\n",
        "print(\"Classification Report:\\n\", classification_report(y_test_with, y_pred_with_rf))\n",
        "print(\"ROC-AUC Score:\", roc_auc_score(y_test_with, rf_with.predict_proba(X_test_with_scaled)[:, 1]))\n"
      ],
      "metadata": {
        "colab": {
          "base_uri": "https://localhost:8080/"
        },
        "id": "0N7BbiyJ9zAC",
        "outputId": "65f289c1-b814-462d-c93d-66223d73d24e"
      },
      "execution_count": null,
      "outputs": [
        {
          "output_type": "stream",
          "name": "stdout",
          "text": [
            "🔹 Random Forest (With Outliers + SMOTE):\n",
            "Accuracy: 0.7727272727272727\n",
            "Confusion Matrix:\n",
            " [[76 23]\n",
            " [12 43]]\n",
            "Classification Report:\n",
            "               precision    recall  f1-score   support\n",
            "\n",
            "           0       0.86      0.77      0.81        99\n",
            "           1       0.65      0.78      0.71        55\n",
            "\n",
            "    accuracy                           0.77       154\n",
            "   macro avg       0.76      0.77      0.76       154\n",
            "weighted avg       0.79      0.77      0.78       154\n",
            "\n",
            "ROC-AUC Score: 0.8226813590449954\n"
          ]
        }
      ]
    },
    {
      "cell_type": "code",
      "source": [
        "from sklearn.ensemble import RandomForestClassifier\n",
        "from sklearn.metrics import accuracy_score, confusion_matrix, classification_report, roc_auc_score\n",
        "\n",
        "# Model\n",
        "rf_wo = RandomForestClassifier(random_state=42)\n",
        "rf_wo.fit(X_train_wo_scaled, y_train_wo_smote)\n",
        "\n",
        "# Predict on the original test set\n",
        "y_pred_wo_rf = rf_wo.predict(X_test_wo_scaled)\n",
        "\n",
        "# Evaluation\n",
        "print(\"\\n🔹 Random Forest (Without Outliers + SMOTE):\")\n",
        "print(\"Accuracy:\", accuracy_score(y_test_wo, y_pred_wo_rf))\n",
        "print(\"Confusion Matrix:\\n\", confusion_matrix(y_test_wo, y_pred_wo_rf))\n",
        "print(\"Classification Report:\\n\", classification_report(y_test_wo, y_pred_wo_rf))\n",
        "print(\"ROC-AUC Score:\", roc_auc_score(y_test_wo, rf_wo.predict_proba(X_test_wo_scaled)[:, 1]))\n"
      ],
      "metadata": {
        "colab": {
          "base_uri": "https://localhost:8080/"
        },
        "id": "7-u9RvzF929U",
        "outputId": "866e9523-4013-4428-acef-e67022256a2f"
      },
      "execution_count": null,
      "outputs": [
        {
          "output_type": "stream",
          "name": "stdout",
          "text": [
            "\n",
            "🔹 Random Forest (Without Outliers + SMOTE):\n",
            "Accuracy: 0.7847222222222222\n",
            "Confusion Matrix:\n",
            " [[79 18]\n",
            " [13 34]]\n",
            "Classification Report:\n",
            "               precision    recall  f1-score   support\n",
            "\n",
            "           0       0.86      0.81      0.84        97\n",
            "           1       0.65      0.72      0.69        47\n",
            "\n",
            "    accuracy                           0.78       144\n",
            "   macro avg       0.76      0.77      0.76       144\n",
            "weighted avg       0.79      0.78      0.79       144\n",
            "\n",
            "ROC-AUC Score: 0.857095854354025\n"
          ]
        }
      ]
    },
    {
      "cell_type": "code",
      "source": [
        "import xgboost as xgb\n",
        "from sklearn.metrics import accuracy_score, confusion_matrix, classification_report, roc_auc_score\n",
        "\n",
        "xgb_with = xgb.XGBClassifier(random_state=42, use_label_encoder=False, eval_metric='logloss')\n",
        "xgb_with.fit(X_train_with_scaled, y_train_with_smote)\n",
        "y_pred_xgb_with = xgb_with.predict(X_test_with_scaled)\n",
        "\n",
        "print(\"🔹 XGBoost (With Outliers + SMOTE):\")\n",
        "print(\"Accuracy:\", accuracy_score(y_test_with, y_pred_xgb_with))\n",
        "print(\"Confusion Matrix:\\n\", confusion_matrix(y_test_with, y_pred_xgb_with))\n",
        "print(\"Classification Report:\\n\", classification_report(y_test_with, y_pred_xgb_with))\n",
        "print(\"ROC-AUC Score:\", roc_auc_score(y_test_with, xgb_with.predict_proba(X_test_with_scaled)[:, 1]))\n"
      ],
      "metadata": {
        "colab": {
          "base_uri": "https://localhost:8080/"
        },
        "id": "_TKhzHlu_my2",
        "outputId": "1f4a9662-ecdc-454c-8428-b3ded9537ac5"
      },
      "execution_count": null,
      "outputs": [
        {
          "output_type": "stream",
          "name": "stdout",
          "text": [
            "🔹 XGBoost (With Outliers + SMOTE):\n",
            "Accuracy: 0.7077922077922078\n",
            "Confusion Matrix:\n",
            " [[70 29]\n",
            " [16 39]]\n",
            "Classification Report:\n",
            "               precision    recall  f1-score   support\n",
            "\n",
            "           0       0.81      0.71      0.76        99\n",
            "           1       0.57      0.71      0.63        55\n",
            "\n",
            "    accuracy                           0.71       154\n",
            "   macro avg       0.69      0.71      0.70       154\n",
            "weighted avg       0.73      0.71      0.71       154\n",
            "\n",
            "ROC-AUC Score: 0.7849403122130394\n"
          ]
        }
      ]
    },
    {
      "cell_type": "code",
      "source": [
        "xgb_wo = xgb.XGBClassifier(random_state=42, use_label_encoder=False, eval_metric='logloss')\n",
        "xgb_wo.fit(X_train_wo_scaled, y_train_wo_smote)\n",
        "y_pred_xgb_wo = xgb_wo.predict(X_test_wo_scaled)\n",
        "\n",
        "print(\"\\n🔹 XGBoost (Without Outliers + SMOTE):\")\n",
        "print(\"Accuracy:\", accuracy_score(y_test_wo, y_pred_xgb_wo))\n",
        "print(\"Confusion Matrix:\\n\", confusion_matrix(y_test_wo, y_pred_xgb_wo))\n",
        "print(\"Classification Report:\\n\", classification_report(y_test_wo, y_pred_xgb_wo))\n",
        "print(\"ROC-AUC Score:\", roc_auc_score(y_test_wo, xgb_wo.predict_proba(X_test_wo_scaled)[:, 1]))\n"
      ],
      "metadata": {
        "colab": {
          "base_uri": "https://localhost:8080/"
        },
        "id": "5sNV2X6LKPL8",
        "outputId": "7dfd515c-8467-4b9f-f031-067cc40c2a9b"
      },
      "execution_count": null,
      "outputs": [
        {
          "output_type": "stream",
          "name": "stdout",
          "text": [
            "\n",
            "🔹 XGBoost (Without Outliers + SMOTE):\n",
            "Accuracy: 0.7361111111111112\n",
            "Confusion Matrix:\n",
            " [[76 21]\n",
            " [17 30]]\n",
            "Classification Report:\n",
            "               precision    recall  f1-score   support\n",
            "\n",
            "           0       0.82      0.78      0.80        97\n",
            "           1       0.59      0.64      0.61        47\n",
            "\n",
            "    accuracy                           0.74       144\n",
            "   macro avg       0.70      0.71      0.71       144\n",
            "weighted avg       0.74      0.74      0.74       144\n",
            "\n",
            "ROC-AUC Score: 0.8074139065584559\n"
          ]
        }
      ]
    },
    {
      "cell_type": "code",
      "source": [
        "print(X_train_wo_scaled.shape, y_train_wo.shape)\n",
        "print(X_test_wo_scaled.shape, y_test_wo.shape)\n",
        "\n",
        "# Check for NaNs or infinite values\n",
        "import numpy as np\n",
        "print(\"NaNs in X_train:\", np.isnan(X_train_wo_scaled).sum())\n",
        "print(\"NaNs in X_test:\", np.isnan(X_test_wo_scaled).sum())\n",
        "print(\"NaNs in y_train:\", y_train_wo.isna().sum())\n",
        "print(\"NaNs in y_test:\", y_test_wo.isna().sum())\n"
      ],
      "metadata": {
        "colab": {
          "base_uri": "https://localhost:8080/"
        },
        "id": "mfdkSDBZNbNO",
        "outputId": "5ae0e555-0c10-4985-86e8-b06aac72c20a"
      },
      "execution_count": null,
      "outputs": [
        {
          "output_type": "stream",
          "name": "stdout",
          "text": [
            "(758, 8) (574,)\n",
            "(144, 8) (144,)\n",
            "NaNs in X_train: 0\n",
            "NaNs in X_test: 0\n",
            "NaNs in y_train: 0\n",
            "NaNs in y_test: 0\n"
          ]
        }
      ]
    },
    {
      "cell_type": "code",
      "source": [
        "!pip install lazypredict\n"
      ],
      "metadata": {
        "colab": {
          "base_uri": "https://localhost:8080/"
        },
        "id": "CMXW6mPBMNqy",
        "outputId": "4a4a48db-e32d-4bd5-9390-5af86b2999a8"
      },
      "execution_count": null,
      "outputs": [
        {
          "output_type": "stream",
          "name": "stdout",
          "text": [
            "Requirement already satisfied: lazypredict in /usr/local/lib/python3.11/dist-packages (0.2.16)\n",
            "Requirement already satisfied: click in /usr/local/lib/python3.11/dist-packages (from lazypredict) (8.2.1)\n",
            "Requirement already satisfied: scikit-learn in /usr/local/lib/python3.11/dist-packages (from lazypredict) (1.6.1)\n",
            "Requirement already satisfied: pandas in /usr/local/lib/python3.11/dist-packages (from lazypredict) (2.2.2)\n",
            "Requirement already satisfied: tqdm in /usr/local/lib/python3.11/dist-packages (from lazypredict) (4.67.1)\n",
            "Requirement already satisfied: joblib in /usr/local/lib/python3.11/dist-packages (from lazypredict) (1.5.0)\n",
            "Requirement already satisfied: lightgbm in /usr/local/lib/python3.11/dist-packages (from lazypredict) (4.5.0)\n",
            "Requirement already satisfied: xgboost in /usr/local/lib/python3.11/dist-packages (from lazypredict) (2.1.4)\n",
            "Requirement already satisfied: pytest-runner in /usr/local/lib/python3.11/dist-packages (from lazypredict) (6.0.1)\n",
            "Requirement already satisfied: mlflow>=2.0.0 in /usr/local/lib/python3.11/dist-packages (from lazypredict) (2.22.0)\n",
            "Requirement already satisfied: mlflow-skinny==2.22.0 in /usr/local/lib/python3.11/dist-packages (from mlflow>=2.0.0->lazypredict) (2.22.0)\n",
            "Requirement already satisfied: Flask<4 in /usr/local/lib/python3.11/dist-packages (from mlflow>=2.0.0->lazypredict) (3.1.1)\n",
            "Requirement already satisfied: Jinja2<4,>=2.11 in /usr/local/lib/python3.11/dist-packages (from mlflow>=2.0.0->lazypredict) (3.1.6)\n",
            "Requirement already satisfied: alembic!=1.10.0,<2 in /usr/local/lib/python3.11/dist-packages (from mlflow>=2.0.0->lazypredict) (1.16.1)\n",
            "Requirement already satisfied: docker<8,>=4.0.0 in /usr/local/lib/python3.11/dist-packages (from mlflow>=2.0.0->lazypredict) (7.1.0)\n",
            "Requirement already satisfied: graphene<4 in /usr/local/lib/python3.11/dist-packages (from mlflow>=2.0.0->lazypredict) (3.4.3)\n",
            "Requirement already satisfied: gunicorn<24 in /usr/local/lib/python3.11/dist-packages (from mlflow>=2.0.0->lazypredict) (23.0.0)\n",
            "Requirement already satisfied: markdown<4,>=3.3 in /usr/local/lib/python3.11/dist-packages (from mlflow>=2.0.0->lazypredict) (3.8)\n",
            "Requirement already satisfied: matplotlib<4 in /usr/local/lib/python3.11/dist-packages (from mlflow>=2.0.0->lazypredict) (3.10.0)\n",
            "Requirement already satisfied: numpy<3 in /usr/local/lib/python3.11/dist-packages (from mlflow>=2.0.0->lazypredict) (2.0.2)\n",
            "Requirement already satisfied: pyarrow<20,>=4.0.0 in /usr/local/lib/python3.11/dist-packages (from mlflow>=2.0.0->lazypredict) (18.1.0)\n",
            "Requirement already satisfied: scipy<2 in /usr/local/lib/python3.11/dist-packages (from mlflow>=2.0.0->lazypredict) (1.15.3)\n",
            "Requirement already satisfied: sqlalchemy<3,>=1.4.0 in /usr/local/lib/python3.11/dist-packages (from mlflow>=2.0.0->lazypredict) (2.0.41)\n",
            "Requirement already satisfied: cachetools<6,>=5.0.0 in /usr/local/lib/python3.11/dist-packages (from mlflow-skinny==2.22.0->mlflow>=2.0.0->lazypredict) (5.5.2)\n",
            "Requirement already satisfied: cloudpickle<4 in /usr/local/lib/python3.11/dist-packages (from mlflow-skinny==2.22.0->mlflow>=2.0.0->lazypredict) (3.1.1)\n",
            "Requirement already satisfied: databricks-sdk<1,>=0.20.0 in /usr/local/lib/python3.11/dist-packages (from mlflow-skinny==2.22.0->mlflow>=2.0.0->lazypredict) (0.55.0)\n",
            "Requirement already satisfied: fastapi<1 in /usr/local/lib/python3.11/dist-packages (from mlflow-skinny==2.22.0->mlflow>=2.0.0->lazypredict) (0.115.12)\n",
            "Requirement already satisfied: gitpython<4,>=3.1.9 in /usr/local/lib/python3.11/dist-packages (from mlflow-skinny==2.22.0->mlflow>=2.0.0->lazypredict) (3.1.44)\n",
            "Requirement already satisfied: importlib_metadata!=4.7.0,<9,>=3.7.0 in /usr/local/lib/python3.11/dist-packages (from mlflow-skinny==2.22.0->mlflow>=2.0.0->lazypredict) (8.6.1)\n",
            "Requirement already satisfied: opentelemetry-api<3,>=1.9.0 in /usr/local/lib/python3.11/dist-packages (from mlflow-skinny==2.22.0->mlflow>=2.0.0->lazypredict) (1.33.1)\n",
            "Requirement already satisfied: opentelemetry-sdk<3,>=1.9.0 in /usr/local/lib/python3.11/dist-packages (from mlflow-skinny==2.22.0->mlflow>=2.0.0->lazypredict) (1.33.1)\n",
            "Requirement already satisfied: packaging<25 in /usr/local/lib/python3.11/dist-packages (from mlflow-skinny==2.22.0->mlflow>=2.0.0->lazypredict) (24.2)\n",
            "Requirement already satisfied: protobuf<7,>=3.12.0 in /usr/local/lib/python3.11/dist-packages (from mlflow-skinny==2.22.0->mlflow>=2.0.0->lazypredict) (5.29.4)\n",
            "Requirement already satisfied: pydantic<3,>=1.10.8 in /usr/local/lib/python3.11/dist-packages (from mlflow-skinny==2.22.0->mlflow>=2.0.0->lazypredict) (2.11.4)\n",
            "Requirement already satisfied: pyyaml<7,>=5.1 in /usr/local/lib/python3.11/dist-packages (from mlflow-skinny==2.22.0->mlflow>=2.0.0->lazypredict) (6.0.2)\n",
            "Requirement already satisfied: requests<3,>=2.17.3 in /usr/local/lib/python3.11/dist-packages (from mlflow-skinny==2.22.0->mlflow>=2.0.0->lazypredict) (2.32.3)\n",
            "Requirement already satisfied: sqlparse<1,>=0.4.0 in /usr/local/lib/python3.11/dist-packages (from mlflow-skinny==2.22.0->mlflow>=2.0.0->lazypredict) (0.5.3)\n",
            "Requirement already satisfied: typing-extensions<5,>=4.0.0 in /usr/local/lib/python3.11/dist-packages (from mlflow-skinny==2.22.0->mlflow>=2.0.0->lazypredict) (4.13.2)\n",
            "Requirement already satisfied: uvicorn<1 in /usr/local/lib/python3.11/dist-packages (from mlflow-skinny==2.22.0->mlflow>=2.0.0->lazypredict) (0.34.2)\n",
            "Requirement already satisfied: python-dateutil>=2.8.2 in /usr/local/lib/python3.11/dist-packages (from pandas->lazypredict) (2.9.0.post0)\n",
            "Requirement already satisfied: pytz>=2020.1 in /usr/local/lib/python3.11/dist-packages (from pandas->lazypredict) (2025.2)\n",
            "Requirement already satisfied: tzdata>=2022.7 in /usr/local/lib/python3.11/dist-packages (from pandas->lazypredict) (2025.2)\n",
            "Requirement already satisfied: threadpoolctl>=3.1.0 in /usr/local/lib/python3.11/dist-packages (from scikit-learn->lazypredict) (3.6.0)\n",
            "Requirement already satisfied: nvidia-nccl-cu12 in /usr/local/lib/python3.11/dist-packages (from xgboost->lazypredict) (2.21.5)\n",
            "Requirement already satisfied: Mako in /usr/lib/python3/dist-packages (from alembic!=1.10.0,<2->mlflow>=2.0.0->lazypredict) (1.1.3)\n",
            "Requirement already satisfied: urllib3>=1.26.0 in /usr/local/lib/python3.11/dist-packages (from docker<8,>=4.0.0->mlflow>=2.0.0->lazypredict) (2.4.0)\n",
            "Requirement already satisfied: blinker>=1.9.0 in /usr/local/lib/python3.11/dist-packages (from Flask<4->mlflow>=2.0.0->lazypredict) (1.9.0)\n",
            "Requirement already satisfied: itsdangerous>=2.2.0 in /usr/local/lib/python3.11/dist-packages (from Flask<4->mlflow>=2.0.0->lazypredict) (2.2.0)\n",
            "Requirement already satisfied: markupsafe>=2.1.1 in /usr/local/lib/python3.11/dist-packages (from Flask<4->mlflow>=2.0.0->lazypredict) (3.0.2)\n",
            "Requirement already satisfied: werkzeug>=3.1.0 in /usr/local/lib/python3.11/dist-packages (from Flask<4->mlflow>=2.0.0->lazypredict) (3.1.3)\n",
            "Requirement already satisfied: graphql-core<3.3,>=3.1 in /usr/local/lib/python3.11/dist-packages (from graphene<4->mlflow>=2.0.0->lazypredict) (3.2.6)\n",
            "Requirement already satisfied: graphql-relay<3.3,>=3.1 in /usr/local/lib/python3.11/dist-packages (from graphene<4->mlflow>=2.0.0->lazypredict) (3.2.0)\n",
            "Requirement already satisfied: contourpy>=1.0.1 in /usr/local/lib/python3.11/dist-packages (from matplotlib<4->mlflow>=2.0.0->lazypredict) (1.3.2)\n",
            "Requirement already satisfied: cycler>=0.10 in /usr/local/lib/python3.11/dist-packages (from matplotlib<4->mlflow>=2.0.0->lazypredict) (0.12.1)\n",
            "Requirement already satisfied: fonttools>=4.22.0 in /usr/local/lib/python3.11/dist-packages (from matplotlib<4->mlflow>=2.0.0->lazypredict) (4.58.0)\n",
            "Requirement already satisfied: kiwisolver>=1.3.1 in /usr/local/lib/python3.11/dist-packages (from matplotlib<4->mlflow>=2.0.0->lazypredict) (1.4.8)\n",
            "Requirement already satisfied: pillow>=8 in /usr/local/lib/python3.11/dist-packages (from matplotlib<4->mlflow>=2.0.0->lazypredict) (11.2.1)\n",
            "Requirement already satisfied: pyparsing>=2.3.1 in /usr/local/lib/python3.11/dist-packages (from matplotlib<4->mlflow>=2.0.0->lazypredict) (3.2.3)\n",
            "Requirement already satisfied: six>=1.5 in /usr/local/lib/python3.11/dist-packages (from python-dateutil>=2.8.2->pandas->lazypredict) (1.17.0)\n",
            "Requirement already satisfied: greenlet>=1 in /usr/local/lib/python3.11/dist-packages (from sqlalchemy<3,>=1.4.0->mlflow>=2.0.0->lazypredict) (3.2.2)\n",
            "Requirement already satisfied: google-auth~=2.0 in /usr/local/lib/python3.11/dist-packages (from databricks-sdk<1,>=0.20.0->mlflow-skinny==2.22.0->mlflow>=2.0.0->lazypredict) (2.38.0)\n",
            "Requirement already satisfied: starlette<0.47.0,>=0.40.0 in /usr/local/lib/python3.11/dist-packages (from fastapi<1->mlflow-skinny==2.22.0->mlflow>=2.0.0->lazypredict) (0.46.2)\n",
            "Requirement already satisfied: gitdb<5,>=4.0.1 in /usr/local/lib/python3.11/dist-packages (from gitpython<4,>=3.1.9->mlflow-skinny==2.22.0->mlflow>=2.0.0->lazypredict) (4.0.12)\n",
            "Requirement already satisfied: zipp>=3.20 in /usr/local/lib/python3.11/dist-packages (from importlib_metadata!=4.7.0,<9,>=3.7.0->mlflow-skinny==2.22.0->mlflow>=2.0.0->lazypredict) (3.21.0)\n",
            "Requirement already satisfied: deprecated>=1.2.6 in /usr/local/lib/python3.11/dist-packages (from opentelemetry-api<3,>=1.9.0->mlflow-skinny==2.22.0->mlflow>=2.0.0->lazypredict) (1.2.18)\n",
            "Requirement already satisfied: opentelemetry-semantic-conventions==0.54b1 in /usr/local/lib/python3.11/dist-packages (from opentelemetry-sdk<3,>=1.9.0->mlflow-skinny==2.22.0->mlflow>=2.0.0->lazypredict) (0.54b1)\n",
            "Requirement already satisfied: annotated-types>=0.6.0 in /usr/local/lib/python3.11/dist-packages (from pydantic<3,>=1.10.8->mlflow-skinny==2.22.0->mlflow>=2.0.0->lazypredict) (0.7.0)\n",
            "Requirement already satisfied: pydantic-core==2.33.2 in /usr/local/lib/python3.11/dist-packages (from pydantic<3,>=1.10.8->mlflow-skinny==2.22.0->mlflow>=2.0.0->lazypredict) (2.33.2)\n",
            "Requirement already satisfied: typing-inspection>=0.4.0 in /usr/local/lib/python3.11/dist-packages (from pydantic<3,>=1.10.8->mlflow-skinny==2.22.0->mlflow>=2.0.0->lazypredict) (0.4.1)\n",
            "Requirement already satisfied: charset-normalizer<4,>=2 in /usr/local/lib/python3.11/dist-packages (from requests<3,>=2.17.3->mlflow-skinny==2.22.0->mlflow>=2.0.0->lazypredict) (3.4.2)\n",
            "Requirement already satisfied: idna<4,>=2.5 in /usr/local/lib/python3.11/dist-packages (from requests<3,>=2.17.3->mlflow-skinny==2.22.0->mlflow>=2.0.0->lazypredict) (3.10)\n",
            "Requirement already satisfied: certifi>=2017.4.17 in /usr/local/lib/python3.11/dist-packages (from requests<3,>=2.17.3->mlflow-skinny==2.22.0->mlflow>=2.0.0->lazypredict) (2025.4.26)\n",
            "Requirement already satisfied: h11>=0.8 in /usr/local/lib/python3.11/dist-packages (from uvicorn<1->mlflow-skinny==2.22.0->mlflow>=2.0.0->lazypredict) (0.16.0)\n",
            "Requirement already satisfied: wrapt<2,>=1.10 in /usr/local/lib/python3.11/dist-packages (from deprecated>=1.2.6->opentelemetry-api<3,>=1.9.0->mlflow-skinny==2.22.0->mlflow>=2.0.0->lazypredict) (1.17.2)\n",
            "Requirement already satisfied: smmap<6,>=3.0.1 in /usr/local/lib/python3.11/dist-packages (from gitdb<5,>=4.0.1->gitpython<4,>=3.1.9->mlflow-skinny==2.22.0->mlflow>=2.0.0->lazypredict) (5.0.2)\n",
            "Requirement already satisfied: pyasn1-modules>=0.2.1 in /usr/local/lib/python3.11/dist-packages (from google-auth~=2.0->databricks-sdk<1,>=0.20.0->mlflow-skinny==2.22.0->mlflow>=2.0.0->lazypredict) (0.4.2)\n",
            "Requirement already satisfied: rsa<5,>=3.1.4 in /usr/local/lib/python3.11/dist-packages (from google-auth~=2.0->databricks-sdk<1,>=0.20.0->mlflow-skinny==2.22.0->mlflow>=2.0.0->lazypredict) (4.9.1)\n",
            "Requirement already satisfied: anyio<5,>=3.6.2 in /usr/local/lib/python3.11/dist-packages (from starlette<0.47.0,>=0.40.0->fastapi<1->mlflow-skinny==2.22.0->mlflow>=2.0.0->lazypredict) (4.9.0)\n",
            "Requirement already satisfied: sniffio>=1.1 in /usr/local/lib/python3.11/dist-packages (from anyio<5,>=3.6.2->starlette<0.47.0,>=0.40.0->fastapi<1->mlflow-skinny==2.22.0->mlflow>=2.0.0->lazypredict) (1.3.1)\n",
            "Requirement already satisfied: pyasn1<0.7.0,>=0.6.1 in /usr/local/lib/python3.11/dist-packages (from pyasn1-modules>=0.2.1->google-auth~=2.0->databricks-sdk<1,>=0.20.0->mlflow-skinny==2.22.0->mlflow>=2.0.0->lazypredict) (0.6.1)\n"
          ]
        }
      ]
    },
    {
      "cell_type": "code",
      "source": [
        "from lazypredict.Supervised import LazyClassifier\n",
        "import warnings\n",
        "warnings.filterwarnings(\"ignore\")\n",
        "\n",
        "# Initialize LazyClassifier\n",
        "lazy_clf = LazyClassifier(verbose=0, ignore_warnings=True, custom_metric=None)\n",
        "\n",
        "# Fit and evaluate on scaled dataset\n",
        "models, predictions = lazy_clf.fit(X_train_wo_scaled, X_test_wo_scaled, y_train_wo, y_test_wo)\n",
        "\n",
        "# Display Top 10 Models\n",
        "print(\"🔝 Top Performing Models:\")\n",
        "print(models.head(10))\n"
      ],
      "metadata": {
        "colab": {
          "base_uri": "https://localhost:8080/",
          "height": 118,
          "referenced_widgets": [
            "4ca191874af9400f84835ed8693566c9",
            "e6c01e1035b94e0b94de0d8a7f1c7070",
            "036c2588bb6e4324afdacba512e36852",
            "0e3d8e7627834e45997c280f249d22bc",
            "f8988b8efcb049679be47c1a463ccc65",
            "df1850f77d1d4e5caaf2dec9cf3ac46d",
            "2b75ca567db64fc0acf76c2b01da8188",
            "c9d046e0137040dabad06fd4659a9277",
            "788799e0f28a47d8917023c4f24abecc",
            "9fce52c897fe4777b354264484002951",
            "094d10eb3b4746c489e5604591672f86"
          ]
        },
        "id": "pnGUW_BEML-W",
        "outputId": "cc87f3ac-3161-4a94-e217-2fa2e8b18654"
      },
      "execution_count": null,
      "outputs": [
        {
          "output_type": "display_data",
          "data": {
            "text/plain": [
              "  0%|          | 0/32 [00:00<?, ?it/s]"
            ],
            "application/vnd.jupyter.widget-view+json": {
              "version_major": 2,
              "version_minor": 0,
              "model_id": "4ca191874af9400f84835ed8693566c9"
            }
          },
          "metadata": {}
        },
        {
          "output_type": "stream",
          "name": "stdout",
          "text": [
            "🔝 Top Performing Models:\n",
            "Empty DataFrame\n",
            "Columns: [Accuracy, Balanced Accuracy, ROC AUC, F1 Score, Time Taken]\n",
            "Index: []\n"
          ]
        }
      ]
    },
    {
      "cell_type": "code",
      "source": [
        "print(X_train_wo_scaled.shape, y_train_wo.shape)\n",
        "print(X_test_wo_scaled.shape, y_test_wo.shape)\n"
      ],
      "metadata": {
        "colab": {
          "base_uri": "https://localhost:8080/"
        },
        "id": "TMEknVJVNtfh",
        "outputId": "2db6e917-ad4c-4eb0-d2eb-bba16dee9701"
      },
      "execution_count": null,
      "outputs": [
        {
          "output_type": "stream",
          "name": "stdout",
          "text": [
            "(758, 8) (574,)\n",
            "(144, 8) (144,)\n"
          ]
        }
      ]
    },
    {
      "cell_type": "code",
      "source": [
        "# Correct split again from raw df_without_outliers\n",
        "from sklearn.model_selection import train_test_split\n",
        "from sklearn.preprocessing import StandardScaler\n",
        "\n",
        "X_wo = df_without_outliers.drop(\"Outcome\", axis=1)\n",
        "y_wo = df_without_outliers[\"Outcome\"]\n",
        "\n",
        "X_train_wo, X_test_wo, y_train_wo, y_test_wo = train_test_split(X_wo, y_wo, test_size=0.2, random_state=42)\n",
        "\n",
        "scaler = StandardScaler()\n",
        "X_train_wo_scaled = scaler.fit_transform(X_train_wo)\n",
        "X_test_wo_scaled = scaler.transform(X_test_wo)\n",
        "\n",
        "# Confirm shapes now\n",
        "print(X_train_wo_scaled.shape, y_train_wo.shape)\n",
        "print(X_test_wo_scaled.shape, y_test_wo.shape)\n"
      ],
      "metadata": {
        "colab": {
          "base_uri": "https://localhost:8080/"
        },
        "id": "SCh-G4qAN0sU",
        "outputId": "46d159e6-b1bd-41f0-f0f7-ce504471434c"
      },
      "execution_count": null,
      "outputs": [
        {
          "output_type": "stream",
          "name": "stdout",
          "text": [
            "(574, 8) (574,)\n",
            "(144, 8) (144,)\n"
          ]
        }
      ]
    },
    {
      "cell_type": "code",
      "source": [
        "from lazypredict.Supervised import LazyClassifier\n",
        "\n",
        "# Instantiate and run\n",
        "lazy_clf = LazyClassifier(verbose=0, ignore_warnings=True, custom_metric=None)\n",
        "models, predictions = lazy_clf.fit(X_train_wo_scaled, X_test_wo_scaled, y_train_wo, y_test_wo)\n",
        "\n",
        "# Show top models\n",
        "print(\"🔝 Top Performing Models:\")\n",
        "print(models.head(10))\n"
      ],
      "metadata": {
        "colab": {
          "base_uri": "https://localhost:8080/",
          "height": 1000,
          "referenced_widgets": [
            "b6c15ad5d96149bc95f40ee9031fb21a",
            "ece8636827624b6ea01811298312360b",
            "36cc0ca510384fedaae85ff4beff96b4",
            "c746b2e51f79497d910c169d2887f15c",
            "61da04f7d52e48be9e281b2407157c41",
            "d21e7c4433ff4991bf0754de8b8c1b49",
            "f5df516d32e34bd4972a9c2d2767a5a0",
            "4a5a8af5b3b14f45af371b00dc3bd946",
            "f9bbc3b9ade2426db02bc14b53a011b2",
            "8ba922eb0add4eb09385e1896de4ecf8",
            "0b55ed97006a4431aaa709592c831d45"
          ]
        },
        "id": "ZWC9Bnl6N8AL",
        "outputId": "9645cc9e-f4ef-4514-c79f-1d83c1e1c8c8"
      },
      "execution_count": null,
      "outputs": [
        {
          "output_type": "display_data",
          "data": {
            "text/plain": [
              "  0%|          | 0/32 [00:00<?, ?it/s]"
            ],
            "application/vnd.jupyter.widget-view+json": {
              "version_major": 2,
              "version_minor": 0,
              "model_id": "b6c15ad5d96149bc95f40ee9031fb21a"
            }
          },
          "metadata": {}
        },
        {
          "output_type": "stream",
          "name": "stdout",
          "text": [
            "[LightGBM] [Info] Number of positive: 195, number of negative: 379\n",
            "[LightGBM] [Info] Auto-choosing col-wise multi-threading, the overhead of testing was 0.000216 seconds.\n",
            "You can set `force_col_wise=true` to remove the overhead.\n",
            "[LightGBM] [Info] Total Bins 640\n",
            "[LightGBM] [Info] Number of data points in the train set: 574, number of used features: 8\n",
            "[LightGBM] [Info] [binary:BoostFromScore]: pavg=0.339721 -> initscore=-0.664537\n",
            "[LightGBM] [Info] Start training from score -0.664537\n",
            "[LightGBM] [Warning] No further splits with positive gain, best gain: -inf\n",
            "[LightGBM] [Warning] No further splits with positive gain, best gain: -inf\n",
            "[LightGBM] [Warning] No further splits with positive gain, best gain: -inf\n",
            "[LightGBM] [Warning] No further splits with positive gain, best gain: -inf\n",
            "[LightGBM] [Warning] No further splits with positive gain, best gain: -inf\n",
            "[LightGBM] [Warning] No further splits with positive gain, best gain: -inf\n",
            "[LightGBM] [Warning] No further splits with positive gain, best gain: -inf\n",
            "[LightGBM] [Warning] No further splits with positive gain, best gain: -inf\n",
            "[LightGBM] [Warning] No further splits with positive gain, best gain: -inf\n",
            "[LightGBM] [Warning] No further splits with positive gain, best gain: -inf\n",
            "[LightGBM] [Warning] No further splits with positive gain, best gain: -inf\n",
            "[LightGBM] [Warning] No further splits with positive gain, best gain: -inf\n",
            "[LightGBM] [Warning] No further splits with positive gain, best gain: -inf\n",
            "[LightGBM] [Warning] No further splits with positive gain, best gain: -inf\n",
            "[LightGBM] [Warning] No further splits with positive gain, best gain: -inf\n",
            "[LightGBM] [Warning] No further splits with positive gain, best gain: -inf\n",
            "[LightGBM] [Warning] No further splits with positive gain, best gain: -inf\n",
            "[LightGBM] [Warning] No further splits with positive gain, best gain: -inf\n",
            "[LightGBM] [Warning] No further splits with positive gain, best gain: -inf\n",
            "[LightGBM] [Warning] No further splits with positive gain, best gain: -inf\n",
            "[LightGBM] [Warning] No further splits with positive gain, best gain: -inf\n",
            "[LightGBM] [Warning] No further splits with positive gain, best gain: -inf\n",
            "[LightGBM] [Warning] No further splits with positive gain, best gain: -inf\n",
            "[LightGBM] [Warning] No further splits with positive gain, best gain: -inf\n",
            "[LightGBM] [Warning] No further splits with positive gain, best gain: -inf\n",
            "[LightGBM] [Warning] No further splits with positive gain, best gain: -inf\n",
            "[LightGBM] [Warning] No further splits with positive gain, best gain: -inf\n",
            "[LightGBM] [Warning] No further splits with positive gain, best gain: -inf\n",
            "[LightGBM] [Warning] No further splits with positive gain, best gain: -inf\n",
            "[LightGBM] [Warning] No further splits with positive gain, best gain: -inf\n",
            "[LightGBM] [Warning] No further splits with positive gain, best gain: -inf\n",
            "[LightGBM] [Warning] No further splits with positive gain, best gain: -inf\n",
            "[LightGBM] [Warning] No further splits with positive gain, best gain: -inf\n",
            "[LightGBM] [Warning] No further splits with positive gain, best gain: -inf\n",
            "[LightGBM] [Warning] No further splits with positive gain, best gain: -inf\n",
            "[LightGBM] [Warning] No further splits with positive gain, best gain: -inf\n",
            "[LightGBM] [Warning] No further splits with positive gain, best gain: -inf\n",
            "[LightGBM] [Warning] No further splits with positive gain, best gain: -inf\n",
            "[LightGBM] [Warning] No further splits with positive gain, best gain: -inf\n",
            "[LightGBM] [Warning] No further splits with positive gain, best gain: -inf\n",
            "[LightGBM] [Warning] No further splits with positive gain, best gain: -inf\n",
            "[LightGBM] [Warning] No further splits with positive gain, best gain: -inf\n",
            "[LightGBM] [Warning] No further splits with positive gain, best gain: -inf\n",
            "[LightGBM] [Warning] No further splits with positive gain, best gain: -inf\n",
            "[LightGBM] [Warning] No further splits with positive gain, best gain: -inf\n",
            "[LightGBM] [Warning] No further splits with positive gain, best gain: -inf\n",
            "[LightGBM] [Warning] No further splits with positive gain, best gain: -inf\n",
            "[LightGBM] [Warning] No further splits with positive gain, best gain: -inf\n",
            "[LightGBM] [Warning] No further splits with positive gain, best gain: -inf\n",
            "[LightGBM] [Warning] No further splits with positive gain, best gain: -inf\n",
            "[LightGBM] [Warning] No further splits with positive gain, best gain: -inf\n",
            "[LightGBM] [Warning] No further splits with positive gain, best gain: -inf\n",
            "[LightGBM] [Warning] No further splits with positive gain, best gain: -inf\n",
            "[LightGBM] [Warning] No further splits with positive gain, best gain: -inf\n",
            "[LightGBM] [Warning] No further splits with positive gain, best gain: -inf\n",
            "[LightGBM] [Warning] No further splits with positive gain, best gain: -inf\n",
            "[LightGBM] [Warning] No further splits with positive gain, best gain: -inf\n",
            "[LightGBM] [Warning] No further splits with positive gain, best gain: -inf\n",
            "[LightGBM] [Warning] No further splits with positive gain, best gain: -inf\n",
            "[LightGBM] [Warning] No further splits with positive gain, best gain: -inf\n",
            "[LightGBM] [Warning] No further splits with positive gain, best gain: -inf\n",
            "[LightGBM] [Warning] No further splits with positive gain, best gain: -inf\n",
            "[LightGBM] [Warning] No further splits with positive gain, best gain: -inf\n",
            "[LightGBM] [Warning] No further splits with positive gain, best gain: -inf\n",
            "[LightGBM] [Warning] No further splits with positive gain, best gain: -inf\n",
            "[LightGBM] [Warning] No further splits with positive gain, best gain: -inf\n",
            "[LightGBM] [Warning] No further splits with positive gain, best gain: -inf\n",
            "[LightGBM] [Warning] No further splits with positive gain, best gain: -inf\n",
            "[LightGBM] [Warning] No further splits with positive gain, best gain: -inf\n",
            "[LightGBM] [Warning] No further splits with positive gain, best gain: -inf\n",
            "[LightGBM] [Warning] No further splits with positive gain, best gain: -inf\n",
            "[LightGBM] [Warning] No further splits with positive gain, best gain: -inf\n",
            "[LightGBM] [Warning] No further splits with positive gain, best gain: -inf\n",
            "[LightGBM] [Warning] No further splits with positive gain, best gain: -inf\n",
            "[LightGBM] [Warning] No further splits with positive gain, best gain: -inf\n",
            "[LightGBM] [Warning] No further splits with positive gain, best gain: -inf\n",
            "[LightGBM] [Warning] No further splits with positive gain, best gain: -inf\n",
            "[LightGBM] [Warning] No further splits with positive gain, best gain: -inf\n",
            "[LightGBM] [Warning] No further splits with positive gain, best gain: -inf\n",
            "[LightGBM] [Warning] No further splits with positive gain, best gain: -inf\n",
            "[LightGBM] [Warning] No further splits with positive gain, best gain: -inf\n",
            "[LightGBM] [Warning] No further splits with positive gain, best gain: -inf\n",
            "[LightGBM] [Warning] No further splits with positive gain, best gain: -inf\n",
            "[LightGBM] [Warning] No further splits with positive gain, best gain: -inf\n",
            "[LightGBM] [Warning] No further splits with positive gain, best gain: -inf\n",
            "[LightGBM] [Warning] No further splits with positive gain, best gain: -inf\n",
            "[LightGBM] [Warning] No further splits with positive gain, best gain: -inf\n",
            "[LightGBM] [Warning] No further splits with positive gain, best gain: -inf\n",
            "[LightGBM] [Warning] No further splits with positive gain, best gain: -inf\n",
            "[LightGBM] [Warning] No further splits with positive gain, best gain: -inf\n",
            "[LightGBM] [Warning] No further splits with positive gain, best gain: -inf\n",
            "[LightGBM] [Warning] No further splits with positive gain, best gain: -inf\n",
            "[LightGBM] [Warning] No further splits with positive gain, best gain: -inf\n",
            "[LightGBM] [Warning] No further splits with positive gain, best gain: -inf\n",
            "[LightGBM] [Warning] No further splits with positive gain, best gain: -inf\n",
            "[LightGBM] [Warning] No further splits with positive gain, best gain: -inf\n",
            "[LightGBM] [Warning] No further splits with positive gain, best gain: -inf\n",
            "[LightGBM] [Warning] No further splits with positive gain, best gain: -inf\n",
            "[LightGBM] [Warning] No further splits with positive gain, best gain: -inf\n",
            "[LightGBM] [Warning] No further splits with positive gain, best gain: -inf\n",
            "🔝 Top Performing Models:\n",
            "                               Accuracy  Balanced Accuracy  ROC AUC  F1 Score  \\\n",
            "Model                                                                           \n",
            "NearestCentroid                    0.76               0.79     0.79      0.77   \n",
            "GaussianNB                         0.78               0.78     0.78      0.79   \n",
            "BernoulliNB                        0.77               0.76     0.76      0.77   \n",
            "LinearSVC                          0.80               0.75     0.75      0.79   \n",
            "LogisticRegression                 0.80               0.75     0.75      0.79   \n",
            "LinearDiscriminantAnalysis         0.80               0.75     0.75      0.79   \n",
            "QuadraticDiscriminantAnalysis      0.78               0.74     0.74      0.78   \n",
            "RidgeClassifier                    0.79               0.74     0.74      0.78   \n",
            "RidgeClassifierCV                  0.79               0.74     0.74      0.78   \n",
            "XGBClassifier                      0.76               0.73     0.73      0.76   \n",
            "\n",
            "                               Time Taken  \n",
            "Model                                      \n",
            "NearestCentroid                      0.02  \n",
            "GaussianNB                           0.03  \n",
            "BernoulliNB                          0.05  \n",
            "LinearSVC                            0.03  \n",
            "LogisticRegression                   0.03  \n",
            "LinearDiscriminantAnalysis           0.09  \n",
            "QuadraticDiscriminantAnalysis        0.05  \n",
            "RidgeClassifier                      0.03  \n",
            "RidgeClassifierCV                    0.03  \n",
            "XGBClassifier                        1.28  \n"
          ]
        }
      ]
    },
    {
      "cell_type": "markdown",
      "source": [
        "Step: Feature Importance Visualization"
      ],
      "metadata": {
        "id": "CkQS_e7BKfxP"
      }
    },
    {
      "cell_type": "code",
      "source": [
        "import matplotlib.pyplot as plt\n",
        "import pandas as pd\n",
        "\n",
        "# Get feature names\n",
        "features = X_train_wo.columns\n",
        "coefficients = lr_wo.coef_[0]\n",
        "\n",
        "# Create a DataFrame\n",
        "lr_importance = pd.DataFrame({'Feature': features, 'Importance': coefficients})\n",
        "lr_importance = lr_importance.sort_values(by='Importance', key=abs, ascending=False)\n",
        "\n",
        "# Plot\n",
        "plt.figure(figsize=(10,6))\n",
        "plt.barh(lr_importance['Feature'], lr_importance['Importance'])\n",
        "plt.title(\"🔹 Logistic Regression - Feature Importance (Coefficients)\")\n",
        "plt.xlabel(\"Coefficient Value\")\n",
        "plt.gca().invert_yaxis()\n",
        "plt.show()\n"
      ],
      "metadata": {
        "colab": {
          "base_uri": "https://localhost:8080/",
          "height": 493
        },
        "id": "xDllRVolKhkH",
        "outputId": "5dac0bfe-eede-4d04-ecbd-8d50b242e67b"
      },
      "execution_count": null,
      "outputs": [
        {
          "output_type": "display_data",
          "data": {
            "text/plain": [
              "<Figure size 1000x600 with 1 Axes>"
            ],
            "image/png": "[encoded data removed]"
          },
          "metadata": {}
        }
      ]
    },
    {
      "cell_type": "code",
      "source": [
        "# Get importances\n",
        "rf_importance = pd.Series(rf_wo.feature_importances_, index=X_train_wo.columns)\n",
        "rf_importance = rf_importance.sort_values(ascending=True)\n",
        "\n",
        "# Plot\n",
        "plt.figure(figsize=(10,6))\n",
        "rf_importance.plot(kind='barh')\n",
        "plt.title(\"🔹 Random Forest - Feature Importance\")\n",
        "plt.xlabel(\"Importance Score\")\n",
        "plt.show()\n"
      ],
      "metadata": {
        "colab": {
          "base_uri": "https://localhost:8080/",
          "height": 493
        },
        "id": "8jeJJXx7KmI6",
        "outputId": "844fd988-6ba4-4d20-917d-fb0230dbf079"
      },
      "execution_count": null,
      "outputs": [
        {
          "output_type": "display_data",
          "data": {
            "text/plain": [
              "<Figure size 1000x600 with 1 Axes>"
            ],
            "image/png": "[encoded data removed]"
          },
          "metadata": {}
        }
      ]
    },
    {
      "cell_type": "code",
      "source": [
        "# Get importances\n",
        "xgb_importance = pd.Series(xgb_wo.feature_importances_, index=X_train_wo.columns)\n",
        "xgb_importance = xgb_importance.sort_values(ascending=True)\n",
        "\n",
        "# Plot\n",
        "plt.figure(figsize=(10,6))\n",
        "xgb_importance.plot(kind='barh')\n",
        "plt.title(\"🔹 XGBoost - Feature Importance\")\n",
        "plt.xlabel(\"Importance Score\")\n",
        "plt.show()\n"
      ],
      "metadata": {
        "colab": {
          "base_uri": "https://localhost:8080/",
          "height": 493
        },
        "id": "_4PYSIryKqap",
        "outputId": "8523377d-7bf6-4f90-b87f-9e68d26bb07f"
      },
      "execution_count": null,
      "outputs": [
        {
          "output_type": "display_data",
          "data": {
            "text/plain": [
              "<Figure size 1000x600 with 1 Axes>"
            ],
            "image/png": "[encoded data removed]"
          },
          "metadata": {}
        }
      ]
    },
    {
      "cell_type": "markdown",
      "source": [
        "Tune Top Models Using Optuna"
      ],
      "metadata": {
        "id": "8L72aGEROnNt"
      }
    },
    {
      "cell_type": "code",
      "source": [
        "import optuna\n",
        "from sklearn.linear_model import LogisticRegression\n",
        "from sklearn.model_selection import cross_val_score\n",
        "from sklearn.metrics import accuracy_score, classification_report, roc_auc_score, confusion_matrix\n",
        "\n",
        "# Step 1: Define Optuna tuning function\n",
        "def tune_logistic(trial):\n",
        "    C = trial.suggest_float(\"C\", 0.01, 10.0, log=True)\n",
        "    penalty = trial.suggest_categorical(\"penalty\", [\"l2\"])\n",
        "    solver = trial.suggest_categorical(\"solver\", [\"lbfgs\", \"liblinear\"])\n",
        "\n",
        "    model = LogisticRegression(C=C, penalty=penalty, solver=solver, max_iter=1000)\n",
        "    return cross_val_score(model, X_train_wo_scaled, y_train_wo, cv=5, scoring=\"roc_auc\").mean()\n",
        "\n",
        "# Step 2: Run the optimization\n",
        "study_lr = optuna.create_study(direction=\"maximize\")\n",
        "study_lr.optimize(tune_logistic, n_trials=20)\n",
        "\n",
        "# Step 3: Get best parameters and print them\n",
        "best_lr_params = study_lr.best_params\n",
        "print(\"✅ Best Logistic Regression Parameters:\", best_lr_params)\n",
        "\n",
        "# Step 4: Train model using best parameters\n",
        "lr_best = LogisticRegression(**best_lr_params, max_iter=1000)\n",
        "lr_best.fit(X_train_wo_scaled, y_train_wo)\n",
        "\n",
        "# Step 5: Evaluate model\n",
        "y_pred_lr = lr_best.predict(X_test_wo_scaled)\n",
        "y_proba_lr = lr_best.predict_proba(X_test_wo_scaled)[:, 1]\n",
        "\n",
        "print(\"\\n📊 Evaluation on Test Set (Logistic Regression):\")\n",
        "print(\"Accuracy:\", accuracy_score(y_test_wo, y_pred_lr))\n",
        "print(\"ROC-AUC Score:\", roc_auc_score(y_test_wo, y_proba_lr))\n",
        "print(\"Confusion Matrix:\\n\", confusion_matrix(y_test_wo, y_pred_lr))\n",
        "print(\"Classification Report:\\n\", classification_report(y_test_wo, y_pred_lr))\n"
      ],
      "metadata": {
        "colab": {
          "base_uri": "https://localhost:8080/"
        },
        "id": "XfxB6KWrOjbo",
        "outputId": "cd993e59-a707-401e-f6c0-eee8259816a6"
      },
      "execution_count": null,
      "outputs": [
        {
          "output_type": "stream",
          "name": "stderr",
          "text": [
            "[I 2025-05-31 16:52:02,618] A new study created in memory with name: no-name-e5293909-87f9-44bf-aa2a-9871f9bb3ede\n",
            "[I 2025-05-31 16:52:02,666] Trial 0 finished with value: 0.8361241565452092 and parameters: {'C': 7.411233277577975, 'penalty': 'l2', 'solver': 'liblinear'}. Best is trial 0 with value: 0.8361241565452092.\n",
            "[I 2025-05-31 16:52:02,925] Trial 1 finished with value: 0.8343607737291947 and parameters: {'C': 0.011321879285727282, 'penalty': 'l2', 'solver': 'lbfgs'}. Best is trial 0 with value: 0.8361241565452092.\n",
            "[I 2025-05-31 16:52:03,397] Trial 2 finished with value: 0.8362609086819613 and parameters: {'C': 3.011426495830572, 'penalty': 'l2', 'solver': 'lbfgs'}. Best is trial 2 with value: 0.8362609086819613.\n",
            "[I 2025-05-31 16:52:03,836] Trial 3 finished with value: 0.8371390013495278 and parameters: {'C': 0.28250835686071185, 'penalty': 'l2', 'solver': 'lbfgs'}. Best is trial 3 with value: 0.8371390013495278.\n",
            "[I 2025-05-31 16:52:04,103] Trial 4 finished with value: 0.8377507872244714 and parameters: {'C': 0.024994479373066213, 'penalty': 'l2', 'solver': 'lbfgs'}. Best is trial 4 with value: 0.8377507872244714.\n",
            "[I 2025-05-31 16:52:04,269] Trial 5 finished with value: 0.8378146648672965 and parameters: {'C': 0.168193771997086, 'penalty': 'l2', 'solver': 'liblinear'}. Best is trial 5 with value: 0.8378146648672965.\n",
            "[I 2025-05-31 16:52:04,437] Trial 6 finished with value: 0.837748987854251 and parameters: {'C': 0.07858684325453841, 'penalty': 'l2', 'solver': 'liblinear'}. Best is trial 5 with value: 0.8378146648672965.\n",
            "[I 2025-05-31 16:52:05,142] Trial 7 finished with value: 0.8338200629779576 and parameters: {'C': 0.010283394491799791, 'penalty': 'l2', 'solver': 'lbfgs'}. Best is trial 5 with value: 0.8378146648672965.\n",
            "[I 2025-05-31 16:52:05,799] Trial 8 finished with value: 0.8378848403058929 and parameters: {'C': 0.0984257857937667, 'penalty': 'l2', 'solver': 'lbfgs'}. Best is trial 8 with value: 0.8378848403058929.\n",
            "[I 2025-05-31 16:52:06,087] Trial 9 finished with value: 0.8375456590193432 and parameters: {'C': 0.07079942968952463, 'penalty': 'l2', 'solver': 'liblinear'}. Best is trial 8 with value: 0.8378848403058929.\n",
            "[I 2025-05-31 16:52:06,675] Trial 10 finished with value: 0.8364642375168693 and parameters: {'C': 1.1119181755372847, 'penalty': 'l2', 'solver': 'lbfgs'}. Best is trial 8 with value: 0.8378848403058929.\n",
            "[I 2025-05-31 16:52:06,804] Trial 11 finished with value: 0.8372055780476833 and parameters: {'C': 0.3165352786919408, 'penalty': 'l2', 'solver': 'liblinear'}. Best is trial 8 with value: 0.8378848403058929.\n",
            "[I 2025-05-31 16:52:06,876] Trial 12 finished with value: 0.8370697255960413 and parameters: {'C': 0.2821505394445176, 'penalty': 'l2', 'solver': 'liblinear'}. Best is trial 8 with value: 0.8378848403058929.\n",
            "[I 2025-05-31 16:52:06,929] Trial 13 finished with value: 0.8379523166891587 and parameters: {'C': 0.08995891711850135, 'penalty': 'l2', 'solver': 'liblinear'}. Best is trial 13 with value: 0.8379523166891587.\n",
            "[I 2025-05-31 16:52:07,133] Trial 14 finished with value: 0.837408906882591 and parameters: {'C': 0.05150145351888732, 'penalty': 'l2', 'solver': 'lbfgs'}. Best is trial 13 with value: 0.8379523166891587.\n",
            "[I 2025-05-31 16:52:07,215] Trial 15 finished with value: 0.8365982905982905 and parameters: {'C': 0.9776209829358979, 'penalty': 'l2', 'solver': 'liblinear'}. Best is trial 13 with value: 0.8379523166891587.\n",
            "[I 2025-05-31 16:52:07,283] Trial 16 finished with value: 0.8380881691408006 and parameters: {'C': 0.1334440530397642, 'penalty': 'l2', 'solver': 'liblinear'}. Best is trial 16 with value: 0.8380881691408006.\n",
            "[I 2025-05-31 16:52:07,340] Trial 17 finished with value: 0.8366648672964463 and parameters: {'C': 0.7585246338821204, 'penalty': 'l2', 'solver': 'liblinear'}. Best is trial 16 with value: 0.8380881691408006.\n",
            "[I 2025-05-31 16:52:07,397] Trial 18 finished with value: 0.8376167341430498 and parameters: {'C': 0.02548828450435041, 'penalty': 'l2', 'solver': 'liblinear'}. Best is trial 16 with value: 0.8380881691408006.\n",
            "[I 2025-05-31 16:52:07,492] Trial 19 finished with value: 0.8379532163742691 and parameters: {'C': 0.0349019419166346, 'penalty': 'l2', 'solver': 'liblinear'}. Best is trial 16 with value: 0.8380881691408006.\n"
          ]
        },
        {
          "output_type": "stream",
          "name": "stdout",
          "text": [
            "✅ Best Logistic Regression Parameters: {'C': 0.1334440530397642, 'penalty': 'l2', 'solver': 'liblinear'}\n",
            "\n",
            "📊 Evaluation on Test Set (Logistic Regression):\n",
            "Accuracy: 0.7986111111111112\n",
            "ROC-AUC Score: 0.8675148058784821\n",
            "Confusion Matrix:\n",
            " [[87 10]\n",
            " [19 28]]\n",
            "Classification Report:\n",
            "               precision    recall  f1-score   support\n",
            "\n",
            "           0       0.82      0.90      0.86        97\n",
            "           1       0.74      0.60      0.66        47\n",
            "\n",
            "    accuracy                           0.80       144\n",
            "   macro avg       0.78      0.75      0.76       144\n",
            "weighted avg       0.79      0.80      0.79       144\n",
            "\n"
          ]
        }
      ]
    },
    {
      "cell_type": "code",
      "source": [
        "from xgboost import XGBClassifier\n",
        "import optuna\n",
        "from sklearn.model_selection import cross_val_score\n",
        "from sklearn.metrics import accuracy_score, classification_report, roc_auc_score\n",
        "\n",
        "# 🔍 Step 1: Define objective function for Optuna\n",
        "def tune_xgb(trial):\n",
        "    params = {\n",
        "        \"n_estimators\": trial.suggest_int(\"n_estimators\", 50, 200),\n",
        "        \"max_depth\": trial.suggest_int(\"max_depth\", 3, 7),\n",
        "        \"learning_rate\": trial.suggest_float(\"learning_rate\", 0.01, 0.3),\n",
        "        \"subsample\": trial.suggest_float(\"subsample\", 0.5, 1.0),\n",
        "    }\n",
        "    model = XGBClassifier(**params, use_label_encoder=False, eval_metric=\"logloss\")\n",
        "    return cross_val_score(model, X_train_wo_scaled, y_train_wo, cv=5, scoring=\"roc_auc\").mean()\n",
        "\n",
        "# 🔁 Step 2: Run optimization\n",
        "study_xgb = optuna.create_study(direction=\"maximize\")\n",
        "study_xgb.optimize(tune_xgb, n_trials=20)\n",
        "\n",
        "# ✅ Step 3: Best parameters\n",
        "best_xgb_params = study_xgb.best_params\n",
        "print(\"✅ Best XGB Parameters:\", best_xgb_params)\n",
        "\n",
        "# 🎯 Step 4: Train model with best parameters\n",
        "xgb_best = XGBClassifier(**best_xgb_params, use_label_encoder=False, eval_metric=\"logloss\")\n",
        "xgb_best.fit(X_train_wo_scaled, y_train_wo)\n",
        "\n",
        "# 🧪 Step 5: Evaluation\n",
        "y_pred_xgb = xgb_best.predict(X_test_wo_scaled)\n",
        "y_proba_xgb = xgb_best.predict_proba(X_test_wo_scaled)[:, 1]\n",
        "\n",
        "print(\"\\n📊 Evaluation on Test Set (XGBClassifier):\")\n",
        "print(\"Accuracy:\", accuracy_score(y_test_wo, y_pred_xgb))\n",
        "print(\"ROC-AUC Score:\", roc_auc_score(y_test_wo, y_proba_xgb))\n",
        "print(\"Classification Report:\\n\", classification_report(y_test_wo, y_pred_xgb))\n"
      ],
      "metadata": {
        "colab": {
          "base_uri": "https://localhost:8080/"
        },
        "id": "P4dGMDGWOu5u",
        "outputId": "0dc52fc1-727d-4c51-d2b2-c1b3bd4ef44d"
      },
      "execution_count": null,
      "outputs": [
        {
          "output_type": "stream",
          "name": "stderr",
          "text": [
            "[I 2025-05-31 16:51:02,220] A new study created in memory with name: no-name-d969700d-0c81-4c1c-8647-111181e5c7cb\n",
            "[I 2025-05-31 16:51:07,603] Trial 0 finished with value: 0.8016797121007647 and parameters: {'n_estimators': 179, 'max_depth': 6, 'learning_rate': 0.24096708038590325, 'subsample': 0.9980835371149396}. Best is trial 0 with value: 0.8016797121007647.\n",
            "[I 2025-05-31 16:51:07,816] Trial 1 finished with value: 0.8150391363022942 and parameters: {'n_estimators': 54, 'max_depth': 7, 'learning_rate': 0.21378912455204205, 'subsample': 0.6772027466722321}. Best is trial 1 with value: 0.8150391363022942.\n",
            "[I 2025-05-31 16:51:08,139] Trial 2 finished with value: 0.8163409806567703 and parameters: {'n_estimators': 77, 'max_depth': 7, 'learning_rate': 0.12165912576774641, 'subsample': 0.7423740053647008}. Best is trial 2 with value: 0.8163409806567703.\n",
            "[I 2025-05-31 16:51:08,407] Trial 3 finished with value: 0.813527665317139 and parameters: {'n_estimators': 144, 'max_depth': 3, 'learning_rate': 0.12524223274874796, 'subsample': 0.8849934267760295}. Best is trial 2 with value: 0.8163409806567703.\n",
            "[I 2025-05-31 16:51:08,816] Trial 4 finished with value: 0.791379217273954 and parameters: {'n_estimators': 150, 'max_depth': 7, 'learning_rate': 0.1448864262953008, 'subsample': 0.5718172192365973}. Best is trial 2 with value: 0.8163409806567703.\n",
            "[I 2025-05-31 16:51:09,161] Trial 5 finished with value: 0.7956302294197032 and parameters: {'n_estimators': 199, 'max_depth': 3, 'learning_rate': 0.29880054507349774, 'subsample': 0.6323722299972168}. Best is trial 2 with value: 0.8163409806567703.\n",
            "[I 2025-05-31 16:51:09,560] Trial 6 finished with value: 0.7917858749437696 and parameters: {'n_estimators': 168, 'max_depth': 7, 'learning_rate': 0.17556698342007063, 'subsample': 0.5250355520733365}. Best is trial 2 with value: 0.8163409806567703.\n",
            "[I 2025-05-31 16:51:10,110] Trial 7 finished with value: 0.8254709851551956 and parameters: {'n_estimators': 196, 'max_depth': 5, 'learning_rate': 0.032960316105662794, 'subsample': 0.6804093985750059}. Best is trial 7 with value: 0.8254709851551956.\n",
            "[I 2025-05-31 16:51:10,300] Trial 8 finished with value: 0.8110238416554207 and parameters: {'n_estimators': 52, 'max_depth': 5, 'learning_rate': 0.23673186266258878, 'subsample': 0.880239352485034}. Best is trial 7 with value: 0.8254709851551956.\n",
            "[I 2025-05-31 16:51:10,677] Trial 9 finished with value: 0.7816257309941521 and parameters: {'n_estimators': 164, 'max_depth': 5, 'learning_rate': 0.24117874559151373, 'subsample': 0.6508728443297258}. Best is trial 7 with value: 0.8254709851551956.\n",
            "[I 2025-05-31 16:51:10,962] Trial 10 finished with value: 0.8308942869995501 and parameters: {'n_estimators': 107, 'max_depth': 4, 'learning_rate': 0.0355365830446719, 'subsample': 0.819081025765213}. Best is trial 10 with value: 0.8308942869995501.\n",
            "[I 2025-05-31 16:51:11,280] Trial 11 finished with value: 0.829876743139901 and parameters: {'n_estimators': 106, 'max_depth': 4, 'learning_rate': 0.035520027926025696, 'subsample': 0.8120766000424107}. Best is trial 10 with value: 0.8308942869995501.\n",
            "[I 2025-05-31 16:51:11,586] Trial 12 finished with value: 0.8290697255960413 and parameters: {'n_estimators': 110, 'max_depth': 4, 'learning_rate': 0.02099450113303497, 'subsample': 0.8382962714501591}. Best is trial 10 with value: 0.8308942869995501.\n",
            "[I 2025-05-31 16:51:11,886] Trial 13 finished with value: 0.8228996851102114 and parameters: {'n_estimators': 108, 'max_depth': 4, 'learning_rate': 0.07157476553984539, 'subsample': 0.8003934043991945}. Best is trial 10 with value: 0.8308942869995501.\n",
            "[I 2025-05-31 16:51:12,180] Trial 14 finished with value: 0.8330670265407107 and parameters: {'n_estimators': 94, 'max_depth': 4, 'learning_rate': 0.061657023476773806, 'subsample': 0.9921874123531156}. Best is trial 14 with value: 0.8330670265407107.\n",
            "[I 2025-05-31 16:51:12,419] Trial 15 finished with value: 0.8345677013045434 and parameters: {'n_estimators': 78, 'max_depth': 4, 'learning_rate': 0.07923152063862493, 'subsample': 0.9938209587318914}. Best is trial 15 with value: 0.8345677013045434.\n",
            "[I 2025-05-31 16:51:12,621] Trial 16 finished with value: 0.8361088618983356 and parameters: {'n_estimators': 81, 'max_depth': 3, 'learning_rate': 0.08839477525945769, 'subsample': 0.9883555032424941}. Best is trial 16 with value: 0.8361088618983356.\n",
            "[I 2025-05-31 16:51:12,805] Trial 17 finished with value: 0.8339496176338279 and parameters: {'n_estimators': 74, 'max_depth': 3, 'learning_rate': 0.0914924688086429, 'subsample': 0.9388873302701761}. Best is trial 16 with value: 0.8361088618983356.\n",
            "[I 2025-05-31 16:51:13,004] Trial 18 finished with value: 0.8294718848403058 and parameters: {'n_estimators': 81, 'max_depth': 3, 'learning_rate': 0.09672360978368, 'subsample': 0.9341592043700148}. Best is trial 16 with value: 0.8361088618983356.\n",
            "[I 2025-05-31 16:51:13,304] Trial 19 finished with value: 0.8129401709401709 and parameters: {'n_estimators': 65, 'max_depth': 6, 'learning_rate': 0.1633443495967215, 'subsample': 0.9374186128815611}. Best is trial 16 with value: 0.8361088618983356.\n"
          ]
        },
        {
          "output_type": "stream",
          "name": "stdout",
          "text": [
            "✅ Best XGB Parameters: {'n_estimators': 81, 'max_depth': 3, 'learning_rate': 0.08839477525945769, 'subsample': 0.9883555032424941}\n",
            "\n",
            "📊 Evaluation on Test Set (XGBClassifier):\n",
            "Accuracy: 0.8055555555555556\n",
            "ROC-AUC Score: 0.8620311471813994\n",
            "Classification Report:\n",
            "               precision    recall  f1-score   support\n",
            "\n",
            "           0       0.83      0.89      0.86        97\n",
            "           1       0.73      0.64      0.68        47\n",
            "\n",
            "    accuracy                           0.81       144\n",
            "   macro avg       0.78      0.76      0.77       144\n",
            "weighted avg       0.80      0.81      0.80       144\n",
            "\n"
          ]
        }
      ]
    },
    {
      "cell_type": "code",
      "source": [
        "import optuna\n",
        "from sklearn.naive_bayes import GaussianNB\n",
        "from sklearn.model_selection import cross_val_score\n",
        "from sklearn.metrics import accuracy_score, roc_auc_score, classification_report\n",
        "\n",
        "# 📌 Objective function to optimize var_smoothing\n",
        "def objective(trial):\n",
        "    var_smoothing = trial.suggest_loguniform('var_smoothing', 1e-12, 1e-6)\n",
        "    model = GaussianNB(var_smoothing=var_smoothing)\n",
        "\n",
        "    # 5-fold CV on training set\n",
        "    score = cross_val_score(model, X_train_wo_scaled, y_train_wo,\n",
        "                            scoring='roc_auc', cv=5).mean()\n",
        "    return score\n",
        "\n",
        "# 🔁 Run optimization\n",
        "study = optuna.create_study(direction='maximize')\n",
        "study.optimize(objective, n_trials=50)\n",
        "\n",
        "# 📌 Best parameters and score\n",
        "print(\"✅ Best Parameters:\", study.best_params)\n",
        "print(\"🔝 Best ROC-AUC Score:\", study.best_value)\n",
        "\n",
        "# 🎯 Train with best params\n",
        "best_gnb = GaussianNB(var_smoothing=study.best_params['var_smoothing'])\n",
        "best_gnb.fit(X_train_wo_scaled, y_train_wo)\n",
        "\n",
        "# 🧪 Predict and Evaluate\n",
        "y_pred_gnb = best_gnb.predict(X_test_wo_scaled)\n",
        "y_proba_gnb = best_gnb.predict_proba(X_test_wo_scaled)[:, 1]\n",
        "\n",
        "print(\"\\n📊 Evaluation on Test Set:\")\n",
        "print(\"Accuracy:\", accuracy_score(y_test_wo, y_pred_gnb))\n",
        "print(\"ROC-AUC Score:\", roc_auc_score(y_test_wo, y_proba_gnb))\n",
        "print(\"Classification Report:\\n\", classification_report(y_test_wo, y_pred_gnb))\n"
      ],
      "metadata": {
        "colab": {
          "base_uri": "https://localhost:8080/"
        },
        "id": "ycCY7mDAPzsX",
        "outputId": "e08a7f58-3c11-4154-9079-bf1eee33cc22"
      },
      "execution_count": null,
      "outputs": [
        {
          "output_type": "stream",
          "name": "stderr",
          "text": [
            "[I 2025-05-31 16:50:12,756] A new study created in memory with name: no-name-b9b6ec41-9ccd-4271-95dc-1a58fb704ea2\n",
            "[I 2025-05-31 16:50:12,833] Trial 0 finished with value: 0.8363535762483132 and parameters: {'var_smoothing': 2.634962028799826e-07}. Best is trial 0 with value: 0.8363535762483132.\n",
            "[I 2025-05-31 16:50:12,889] Trial 1 finished with value: 0.8363535762483132 and parameters: {'var_smoothing': 3.101738759695092e-11}. Best is trial 0 with value: 0.8363535762483132.\n",
            "[I 2025-05-31 16:50:12,984] Trial 2 finished with value: 0.8363535762483132 and parameters: {'var_smoothing': 1.7796517593319672e-09}. Best is trial 0 with value: 0.8363535762483132.\n",
            "[I 2025-05-31 16:50:13,045] Trial 3 finished with value: 0.8363535762483132 and parameters: {'var_smoothing': 8.571082019695347e-09}. Best is trial 0 with value: 0.8363535762483132.\n",
            "[I 2025-05-31 16:50:13,096] Trial 4 finished with value: 0.8363535762483132 and parameters: {'var_smoothing': 1.1303732230407155e-09}. Best is trial 0 with value: 0.8363535762483132.\n",
            "[I 2025-05-31 16:50:13,139] Trial 5 finished with value: 0.8363535762483132 and parameters: {'var_smoothing': 1.484587223405392e-10}. Best is trial 0 with value: 0.8363535762483132.\n",
            "[I 2025-05-31 16:50:13,177] Trial 6 finished with value: 0.8363535762483132 and parameters: {'var_smoothing': 4.565733754972725e-10}. Best is trial 0 with value: 0.8363535762483132.\n",
            "[I 2025-05-31 16:50:13,236] Trial 7 finished with value: 0.8363535762483132 and parameters: {'var_smoothing': 1.383280887002182e-11}. Best is trial 0 with value: 0.8363535762483132.\n",
            "[I 2025-05-31 16:50:13,324] Trial 8 finished with value: 0.8363535762483132 and parameters: {'var_smoothing': 7.405321530956913e-10}. Best is trial 0 with value: 0.8363535762483132.\n",
            "[I 2025-05-31 16:50:13,378] Trial 9 finished with value: 0.8363535762483132 and parameters: {'var_smoothing': 2.6525702726476506e-12}. Best is trial 0 with value: 0.8363535762483132.\n",
            "[I 2025-05-31 16:50:13,423] Trial 10 finished with value: 0.8363535762483132 and parameters: {'var_smoothing': 8.050743427439883e-07}. Best is trial 0 with value: 0.8363535762483132.\n",
            "[I 2025-05-31 16:50:13,470] Trial 11 finished with value: 0.8363535762483132 and parameters: {'var_smoothing': 9.859466593713188e-07}. Best is trial 0 with value: 0.8363535762483132.\n",
            "[I 2025-05-31 16:50:13,518] Trial 12 finished with value: 0.8363535762483132 and parameters: {'var_smoothing': 4.6438732086270316e-08}. Best is trial 0 with value: 0.8363535762483132.\n",
            "[I 2025-05-31 16:50:13,570] Trial 13 finished with value: 0.8363535762483132 and parameters: {'var_smoothing': 1.1752874285586864e-11}. Best is trial 0 with value: 0.8363535762483132.\n",
            "[I 2025-05-31 16:50:13,621] Trial 14 finished with value: 0.8363535762483132 and parameters: {'var_smoothing': 7.32554445969176e-08}. Best is trial 0 with value: 0.8363535762483132.\n",
            "[I 2025-05-31 16:50:13,669] Trial 15 finished with value: 0.8363535762483132 and parameters: {'var_smoothing': 9.626010106956504e-11}. Best is trial 0 with value: 0.8363535762483132.\n",
            "[I 2025-05-31 16:50:13,715] Trial 16 finished with value: 0.8363535762483132 and parameters: {'var_smoothing': 1.2213788140987462e-08}. Best is trial 0 with value: 0.8363535762483132.\n",
            "[I 2025-05-31 16:50:13,763] Trial 17 finished with value: 0.8363535762483132 and parameters: {'var_smoothing': 5.109130603499799e-11}. Best is trial 0 with value: 0.8363535762483132.\n",
            "[I 2025-05-31 16:50:13,813] Trial 18 finished with value: 0.8363535762483132 and parameters: {'var_smoothing': 1.8318286285152614e-12}. Best is trial 0 with value: 0.8363535762483132.\n",
            "[I 2025-05-31 16:50:13,865] Trial 19 finished with value: 0.8363535762483132 and parameters: {'var_smoothing': 8.69797308572691e-08}. Best is trial 0 with value: 0.8363535762483132.\n",
            "[I 2025-05-31 16:50:13,916] Trial 20 finished with value: 0.8363535762483132 and parameters: {'var_smoothing': 2.8844940995538117e-11}. Best is trial 0 with value: 0.8363535762483132.\n",
            "[I 2025-05-31 16:50:13,970] Trial 21 finished with value: 0.8363535762483132 and parameters: {'var_smoothing': 3.935824030421183e-09}. Best is trial 0 with value: 0.8363535762483132.\n",
            "[I 2025-05-31 16:50:14,025] Trial 22 finished with value: 0.8363535762483132 and parameters: {'var_smoothing': 2.6326883457939987e-07}. Best is trial 0 with value: 0.8363535762483132.\n",
            "[I 2025-05-31 16:50:14,074] Trial 23 finished with value: 0.8363535762483132 and parameters: {'var_smoothing': 1.9364364852538708e-09}. Best is trial 0 with value: 0.8363535762483132.\n",
            "[I 2025-05-31 16:50:14,130] Trial 24 finished with value: 0.8363535762483132 and parameters: {'var_smoothing': 1.948031305291654e-10}. Best is trial 0 with value: 0.8363535762483132.\n",
            "[I 2025-05-31 16:50:14,180] Trial 25 finished with value: 0.8363535762483132 and parameters: {'var_smoothing': 1.520038768587021e-08}. Best is trial 0 with value: 0.8363535762483132.\n",
            "[I 2025-05-31 16:50:14,237] Trial 26 finished with value: 0.8363535762483132 and parameters: {'var_smoothing': 3.8170129169554284e-12}. Best is trial 0 with value: 0.8363535762483132.\n",
            "[I 2025-05-31 16:50:14,292] Trial 27 finished with value: 0.8363535762483132 and parameters: {'var_smoothing': 4.331184439187302e-10}. Best is trial 0 with value: 0.8363535762483132.\n",
            "[I 2025-05-31 16:50:14,338] Trial 28 finished with value: 0.8363535762483132 and parameters: {'var_smoothing': 2.0403968425898343e-07}. Best is trial 0 with value: 0.8363535762483132.\n",
            "[I 2025-05-31 16:50:14,420] Trial 29 finished with value: 0.8363535762483132 and parameters: {'var_smoothing': 4.520522486084981e-09}. Best is trial 0 with value: 0.8363535762483132.\n",
            "[I 2025-05-31 16:50:14,469] Trial 30 finished with value: 0.8363535762483132 and parameters: {'var_smoothing': 6.811617894275924e-12}. Best is trial 0 with value: 0.8363535762483132.\n",
            "[I 2025-05-31 16:50:14,518] Trial 31 finished with value: 0.8363535762483132 and parameters: {'var_smoothing': 1.594809282908987e-08}. Best is trial 0 with value: 0.8363535762483132.\n",
            "[I 2025-05-31 16:50:14,566] Trial 32 finished with value: 0.8363535762483132 and parameters: {'var_smoothing': 1.9422203302932243e-09}. Best is trial 0 with value: 0.8363535762483132.\n",
            "[I 2025-05-31 16:50:14,615] Trial 33 finished with value: 0.8363535762483132 and parameters: {'var_smoothing': 6.738264123818449e-09}. Best is trial 0 with value: 0.8363535762483132.\n",
            "[I 2025-05-31 16:50:14,662] Trial 34 finished with value: 0.8363535762483132 and parameters: {'var_smoothing': 2.681889576313846e-10}. Best is trial 0 with value: 0.8363535762483132.\n",
            "[I 2025-05-31 16:50:14,709] Trial 35 finished with value: 0.8363535762483132 and parameters: {'var_smoothing': 1.1507334661048836e-09}. Best is trial 0 with value: 0.8363535762483132.\n",
            "[I 2025-05-31 16:50:14,755] Trial 36 finished with value: 0.8363535762483132 and parameters: {'var_smoothing': 4.151904368799015e-08}. Best is trial 0 with value: 0.8363535762483132.\n",
            "[I 2025-05-31 16:50:14,804] Trial 37 finished with value: 0.8363535762483132 and parameters: {'var_smoothing': 2.652624550000948e-07}. Best is trial 0 with value: 0.8363535762483132.\n",
            "[I 2025-05-31 16:50:14,851] Trial 38 finished with value: 0.8363535762483132 and parameters: {'var_smoothing': 9.050743384429659e-10}. Best is trial 0 with value: 0.8363535762483132.\n",
            "[I 2025-05-31 16:50:14,904] Trial 39 finished with value: 0.8363535762483132 and parameters: {'var_smoothing': 1.132172240813844e-12}. Best is trial 0 with value: 0.8363535762483132.\n",
            "[I 2025-05-31 16:50:14,950] Trial 40 finished with value: 0.8363535762483132 and parameters: {'var_smoothing': 7.422175111284769e-11}. Best is trial 0 with value: 0.8363535762483132.\n",
            "[I 2025-05-31 16:50:14,998] Trial 41 finished with value: 0.8363535762483132 and parameters: {'var_smoothing': 2.3421532011388197e-09}. Best is trial 0 with value: 0.8363535762483132.\n",
            "[I 2025-05-31 16:50:15,043] Trial 42 finished with value: 0.8363535762483132 and parameters: {'var_smoothing': 8.20498463359176e-09}. Best is trial 0 with value: 0.8363535762483132.\n",
            "[I 2025-05-31 16:50:15,098] Trial 43 finished with value: 0.8363535762483132 and parameters: {'var_smoothing': 3.165478226592127e-10}. Best is trial 0 with value: 0.8363535762483132.\n",
            "[I 2025-05-31 16:50:15,143] Trial 44 finished with value: 0.8363535762483132 and parameters: {'var_smoothing': 5.885123130019196e-10}. Best is trial 0 with value: 0.8363535762483132.\n",
            "[I 2025-05-31 16:50:15,189] Trial 45 finished with value: 0.8363535762483132 and parameters: {'var_smoothing': 2.281837996448907e-08}. Best is trial 0 with value: 0.8363535762483132.\n",
            "[I 2025-05-31 16:50:15,237] Trial 46 finished with value: 0.8363535762483132 and parameters: {'var_smoothing': 4.862901717867381e-07}. Best is trial 0 with value: 0.8363535762483132.\n",
            "[I 2025-05-31 16:50:15,284] Trial 47 finished with value: 0.8363535762483132 and parameters: {'var_smoothing': 1.6917832551476174e-11}. Best is trial 0 with value: 0.8363535762483132.\n",
            "[I 2025-05-31 16:50:15,364] Trial 48 finished with value: 0.8363535762483132 and parameters: {'var_smoothing': 3.275310772538968e-08}. Best is trial 0 with value: 0.8363535762483132.\n",
            "[I 2025-05-31 16:50:15,419] Trial 49 finished with value: 0.8363535762483132 and parameters: {'var_smoothing': 1.5038220214518627e-10}. Best is trial 0 with value: 0.8363535762483132.\n"
          ]
        },
        {
          "output_type": "stream",
          "name": "stdout",
          "text": [
            "✅ Best Parameters: {'var_smoothing': 2.634962028799826e-07}\n",
            "🔝 Best ROC-AUC Score: 0.8363535762483132\n",
            "\n",
            "📊 Evaluation on Test Set:\n",
            "Accuracy: 0.7847222222222222\n",
            "ROC-AUC Score: 0.8609344154419829\n",
            "Classification Report:\n",
            "               precision    recall  f1-score   support\n",
            "\n",
            "           0       0.88      0.79      0.83        97\n",
            "           1       0.64      0.77      0.70        47\n",
            "\n",
            "    accuracy                           0.78       144\n",
            "   macro avg       0.76      0.78      0.77       144\n",
            "weighted avg       0.80      0.78      0.79       144\n",
            "\n"
          ]
        }
      ]
    },
    {
      "cell_type": "code",
      "source": [
        "from sklearn.ensemble import StackingClassifier\n",
        "from sklearn.linear_model import LogisticRegression\n",
        "from xgboost import XGBClassifier\n",
        "from sklearn.naive_bayes import GaussianNB\n",
        "\n",
        "# Best estimators\n",
        "estimators = [\n",
        "    ('lr', LogisticRegression(C=0.1334, penalty='l2', solver='liblinear')),\n",
        "    ('xgb', XGBClassifier(**best_xgb, use_label_encoder=False, eval_metric='logloss')),\n",
        "    ('gnb', GaussianNB(var_smoothing=2.634962028799826e-07))\n",
        "]\n",
        "\n",
        "# Meta learner\n",
        "final_estimator = LogisticRegression()\n",
        "\n",
        "# Create StackingClassifier\n",
        "stacking_clf = StackingClassifier(\n",
        "    estimators=estimators,\n",
        "    final_estimator=final_estimator,\n",
        "    passthrough=True,\n",
        "    cv=5,\n",
        "    n_jobs=-1\n",
        ")\n",
        "\n",
        "# Fit model\n",
        "stacking_clf.fit(X_train_wo_scaled, y_train_wo)\n",
        "\n",
        "# Evaluate\n",
        "from sklearn.metrics import accuracy_score, roc_auc_score, classification_report, confusion_matrix\n",
        "\n",
        "y_pred_stack = stacking_clf.predict(X_test_wo_scaled)\n",
        "y_proba_stack = stacking_clf.predict_proba(X_test_wo_scaled)[:, 1]\n",
        "\n",
        "print(\"\\n📊 Stacking Ensemble Evaluation:\")\n",
        "print(\"Accuracy:\", accuracy_score(y_test_wo, y_pred_stack))\n",
        "print(\"ROC-AUC Score:\", roc_auc_score(y_test_wo, y_proba_stack))\n",
        "print(\"Confusion Matrix:\\n\", confusion_matrix(y_test_wo, y_pred_stack))\n",
        "print(\"Classification Report:\\n\", classification_report(y_test_wo, y_pred_stack))\n"
      ],
      "metadata": {
        "colab": {
          "base_uri": "https://localhost:8080/"
        },
        "id": "MUHQH-vtO26f",
        "outputId": "50c04e35-8bc7-4924-f836-23030efca726"
      },
      "execution_count": null,
      "outputs": [
        {
          "output_type": "stream",
          "name": "stdout",
          "text": [
            "\n",
            "📊 Stacking Ensemble Evaluation:\n",
            "Accuracy: 0.7916666666666666\n",
            "ROC-AUC Score: 0.8740951963149813\n",
            "Confusion Matrix:\n",
            " [[86 11]\n",
            " [19 28]]\n",
            "Classification Report:\n",
            "               precision    recall  f1-score   support\n",
            "\n",
            "           0       0.82      0.89      0.85        97\n",
            "           1       0.72      0.60      0.65        47\n",
            "\n",
            "    accuracy                           0.79       144\n",
            "   macro avg       0.77      0.74      0.75       144\n",
            "weighted avg       0.79      0.79      0.79       144\n",
            "\n"
          ]
        }
      ]
    },
    {
      "cell_type": "code",
      "source": [
        "from sklearn.model_selection import cross_val_score\n",
        "\n",
        "cv_scores = cross_val_score(stacking_clf, X_train_wo_scaled, y_train_wo, cv=5, scoring='roc_auc')\n",
        "print(\"✅ Mean ROC-AUC:\", cv_scores.mean())\n",
        "print(\"📉 Standard Deviation:\", cv_scores.std())\n"
      ],
      "metadata": {
        "colab": {
          "base_uri": "https://localhost:8080/"
        },
        "id": "8i4iyxVpTHJw",
        "outputId": "a8ab8337-8368-454a-f4b3-58d7ad081028"
      },
      "execution_count": null,
      "outputs": [
        {
          "output_type": "stream",
          "name": "stdout",
          "text": [
            "✅ Mean ROC-AUC: 0.8383598740440845\n",
            "📉 Standard Deviation: 0.05521435782372621\n"
          ]
        }
      ]
    },
    {
      "cell_type": "code",
      "source": [
        "from sklearn.model_selection import StratifiedKFold\n",
        "\n",
        "skf = StratifiedKFold(n_splits=5, shuffle=True, random_state=42)\n",
        "cv_scores = cross_val_score(stacking_clf, X_train_wo_scaled, y_train_wo, cv=skf, scoring='roc_auc')\n",
        "print(\"Stratified ROC-AUC Mean:\", cv_scores.mean())\n",
        "print(\"Stratified ROC-AUC Std Dev:\", cv_scores.std())\n"
      ],
      "metadata": {
        "colab": {
          "base_uri": "https://localhost:8080/"
        },
        "id": "nG9WgxYxTsMG",
        "outputId": "314197c8-7282-472e-c177-3ffd5ac59221"
      },
      "execution_count": null,
      "outputs": [
        {
          "output_type": "stream",
          "name": "stdout",
          "text": [
            "Stratified ROC-AUC Mean: 0.8349986504723347\n",
            "Stratified ROC-AUC Std Dev: 0.026452533195585513\n"
          ]
        }
      ]
    },
    {
      "cell_type": "code",
      "source": [
        "from sklearn.inspection import permutation_importance\n",
        "\n",
        "# Fit your best model again\n",
        "stacking_clf.fit(X_train_wo, y_train_wo)\n",
        "\n",
        "# Permutation Importance on Test Set\n",
        "result = permutation_importance(stacking_clf, X_test_wo, y_test_wo, n_repeats=10, random_state=42, scoring='roc_auc')\n",
        "\n",
        "# Plot\n",
        "import matplotlib.pyplot as plt\n",
        "\n",
        "sorted_idx = result.importances_mean.argsort()\n",
        "plt.figure(figsize=(10, 6))\n",
        "plt.barh(range(len(sorted_idx)), result.importances_mean[sorted_idx])\n",
        "plt.yticks(range(len(sorted_idx)), np.array(X_test_wo.columns)[sorted_idx])\n",
        "plt.title(\"Permutation Feature Importance (ROC-AUC)\")\n",
        "plt.xlabel(\"Mean Importance\")\n",
        "plt.grid(True)\n",
        "plt.tight_layout()\n",
        "plt.show()\n"
      ],
      "metadata": {
        "colab": {
          "base_uri": "https://localhost:8080/",
          "height": 527
        },
        "id": "5r-nNDJaULOc",
        "outputId": "f7b3afca-ddf3-47ad-d6a8-3d6122bca3ee"
      },
      "execution_count": null,
      "outputs": [
        {
          "output_type": "display_data",
          "data": {
            "text/plain": [
              "<Figure size 1000x600 with 1 Axes>"
            ],
            "image/png": "[encoded data removed]"
          },
          "metadata": {}
        }
      ]
    },
    {
      "cell_type": "code",
      "source": [
        "import pandas as pd\n",
        "import seaborn as sns\n",
        "import matplotlib.pyplot as plt\n",
        "\n",
        "# Predict probabilities and labels\n",
        "y_probs = stacking_clf.predict_proba(X_test_wo)[:, 1]\n",
        "y_preds = stacking_clf.predict(X_test_wo)\n",
        "\n",
        "# Create a DataFrame for debugging\n",
        "df_debug = pd.DataFrame({\n",
        "    \"True Label\": y_test_wo,\n",
        "    \"Predicted Label\": y_preds,\n",
        "    \"Prediction Confidence\": y_probs\n",
        "})\n",
        "\n",
        "# Filter misclassified samples\n",
        "misclassified = df_debug[df_debug[\"True Label\"] != df_debug[\"Predicted Label\"]]\n",
        "\n",
        "# Visualize misclassified samples' confidence\n",
        "plt.figure(figsize=(10, 5))\n",
        "sns.histplot(data=misclassified, x=\"Prediction Confidence\", hue=\"True Label\", multiple=\"stack\", kde=True, palette=\"Set2\")\n",
        "plt.title(\"Confidence Distribution for Misclassified Samples\")\n",
        "plt.xlabel(\"Predicted Probability\")\n",
        "plt.ylabel(\"Count\")\n",
        "plt.grid(True)\n",
        "plt.tight_layout()\n",
        "plt.show()\n"
      ],
      "metadata": {
        "colab": {
          "base_uri": "https://localhost:8080/",
          "height": 441
        },
        "id": "LByMKL4gUezz",
        "outputId": "e990eb0b-6500-43f1-9245-9eccaea10499"
      },
      "execution_count": null,
      "outputs": [
        {
          "output_type": "display_data",
          "data": {
            "text/plain": [
              "<Figure size 1000x500 with 1 Axes>"
            ],
            "image/png": "[encoded data removed]"
          },
          "metadata": {}
        }
      ]
    },
    {
      "cell_type": "code",
      "source": [
        "from sklearn.metrics import roc_curve, accuracy_score, confusion_matrix, classification_report, roc_auc_score\n",
        "\n",
        "# 1. Get FPR, TPR, thresholds\n",
        "fpr, tpr, thresholds = roc_curve(y_test_wo, y_proba_xgb)\n",
        "\n",
        "# 2. Find optimal index where TPR - FPR is maximum\n",
        "optimal_idx = (tpr - fpr).argmax()\n",
        "optimal_threshold = thresholds[optimal_idx]\n",
        "print(f\"✅ Optimal Threshold: {optimal_threshold:.2f}\")\n",
        "\n",
        "# 3. Apply the optimal threshold\n",
        "y_pred_opt = (y_proba_xgb >= optimal_threshold).astype(int)\n",
        "\n",
        "# 4. Evaluate\n",
        "print(\"\\n📊 Evaluation with Optimized Threshold:\")\n",
        "print(\"Accuracy:\", accuracy_score(y_test_wo, y_pred_opt))\n",
        "print(\"ROC-AUC:\", roc_auc_score(y_test_wo, y_proba_xgb))  # same as before\n",
        "print(\"Confusion Matrix:\\n\", confusion_matrix(y_test_wo, y_pred_opt))\n",
        "print(\"Classification Report:\\n\", classification_report(y_test_wo, y_pred_opt))\n"
      ],
      "metadata": {
        "colab": {
          "base_uri": "https://localhost:8080/"
        },
        "id": "rWwG90XHXeac",
        "outputId": "560f55e7-85fc-44f0-d6a6-d246dc12ecac"
      },
      "execution_count": null,
      "outputs": [
        {
          "output_type": "stream",
          "name": "stdout",
          "text": [
            "✅ Optimal Threshold: 0.32\n",
            "\n",
            "📊 Evaluation with Optimized Threshold:\n",
            "Accuracy: 0.7777777777777778\n",
            "ROC-AUC: 0.8620311471813994\n",
            "Confusion Matrix:\n",
            " [[71 26]\n",
            " [ 6 41]]\n",
            "Classification Report:\n",
            "               precision    recall  f1-score   support\n",
            "\n",
            "           0       0.92      0.73      0.82        97\n",
            "           1       0.61      0.87      0.72        47\n",
            "\n",
            "    accuracy                           0.78       144\n",
            "   macro avg       0.77      0.80      0.77       144\n",
            "weighted avg       0.82      0.78      0.78       144\n",
            "\n"
          ]
        }
      ]
    },
    {
      "cell_type": "code",
      "source": [
        "from sklearn.metrics import roc_curve, accuracy_score, roc_auc_score, confusion_matrix, classification_report\n",
        "\n",
        "# Get predicted probabilities from stacking ensemble\n",
        "y_proba_stack = stacking_clf.predict_proba(X_test_wo_scaled)[:, 1]\n",
        "\n",
        "# Find optimal threshold\n",
        "fpr, tpr, thresholds = roc_curve(y_test_wo, y_proba_stack)\n",
        "optimal_idx = (tpr - fpr).argmax()\n",
        "optimal_threshold = thresholds[optimal_idx]\n",
        "print(f\"Optimal Threshold for Stacking: {optimal_threshold:.2f}\")\n",
        "\n",
        "# Apply threshold to get predicted labels\n",
        "y_pred_stack_opt = (y_proba_stack >= optimal_threshold).astype(int)\n",
        "\n",
        "# Evaluate the optimized ensemble predictions\n",
        "print(\"\\n📊 Evaluation with Optimized Threshold (Stacking):\")\n",
        "print(\"Accuracy:\", accuracy_score(y_test_wo, y_pred_stack_opt))\n",
        "print(\"ROC-AUC:\", roc_auc_score(y_test_wo, y_proba_stack))\n",
        "print(\"Confusion Matrix:\\n\", confusion_matrix(y_test_wo, y_pred_stack_opt))\n",
        "print(\"Classification Report:\\n\", classification_report(y_test_wo, y_pred_stack_opt))\n"
      ],
      "metadata": {
        "colab": {
          "base_uri": "https://localhost:8080/"
        },
        "id": "dXI96kSiYMaa",
        "outputId": "ab2be051-dfb9-4a87-acfb-53a27168f285"
      },
      "execution_count": null,
      "outputs": [
        {
          "output_type": "stream",
          "name": "stdout",
          "text": [
            "Optimal Threshold for Stacking: 0.27\n",
            "\n",
            "📊 Evaluation with Optimized Threshold (Stacking):\n",
            "Accuracy: 0.5902777777777778\n",
            "ROC-AUC: 0.5101996051765738\n",
            "Confusion Matrix:\n",
            " [[62 35]\n",
            " [24 23]]\n",
            "Classification Report:\n",
            "               precision    recall  f1-score   support\n",
            "\n",
            "           0       0.72      0.64      0.68        97\n",
            "           1       0.40      0.49      0.44        47\n",
            "\n",
            "    accuracy                           0.59       144\n",
            "   macro avg       0.56      0.56      0.56       144\n",
            "weighted avg       0.62      0.59      0.60       144\n",
            "\n"
          ]
        }
      ]
    },
    {
      "cell_type": "code",
      "source": [
        "from sklearn.ensemble import VotingClassifier\n",
        "from sklearn.linear_model import LogisticRegression\n",
        "from xgboost import XGBClassifier\n",
        "from sklearn.naive_bayes import GaussianNB\n",
        "from sklearn.metrics import accuracy_score, roc_auc_score, classification_report, confusion_matrix\n",
        "\n",
        "# Define base models with tuned parameters\n",
        "log_reg = LogisticRegression(C=0.1334, penalty='l2', solver='liblinear')\n",
        "xgb_clf = XGBClassifier(**best_xgb, use_label_encoder=False, eval_metric='logloss')\n",
        "gnb_clf = GaussianNB(var_smoothing=2.634962028799826e-07)\n",
        "\n",
        "# Create soft voting ensemble\n",
        "voting_clf = VotingClassifier(\n",
        "    estimators=[('lr', log_reg), ('xgb', xgb_clf), ('gnb', gnb_clf)],\n",
        "    voting='soft',  # Use 'hard' for majority vote\n",
        "    n_jobs=-1\n",
        ")\n",
        "\n",
        "# Fit the model\n",
        "voting_clf.fit(X_train_wo_scaled, y_train_wo)\n",
        "\n",
        "# Predict\n",
        "y_pred_vote = voting_clf.predict(X_test_wo_scaled)\n",
        "y_proba_vote = voting_clf.predict_proba(X_test_wo_scaled)[:, 1]\n",
        "\n",
        "# Evaluate\n",
        "print(\"\\n📊 Voting Ensemble Evaluation:\")\n",
        "print(\"Accuracy:\", accuracy_score(y_test_wo, y_pred_vote))\n",
        "print(\"ROC-AUC Score:\", roc_auc_score(y_test_wo, y_proba_vote))\n",
        "print(\"Confusion Matrix:\\n\", confusion_matrix(y_test_wo, y_pred_vote))\n",
        "print(\"Classification Report:\\n\", classification_report(y_test_wo, y_pred_vote))\n"
      ],
      "metadata": {
        "colab": {
          "base_uri": "https://localhost:8080/"
        },
        "id": "B2iJKIRWZLwL",
        "outputId": "0a6a36d9-6623-48cf-c4b1-6d11e94eb710"
      },
      "execution_count": null,
      "outputs": [
        {
          "output_type": "stream",
          "name": "stdout",
          "text": [
            "\n",
            "📊 Voting Ensemble Evaluation:\n",
            "Accuracy: 0.7916666666666666\n",
            "ROC-AUC Score: 0.8747532353586313\n",
            "Confusion Matrix:\n",
            " [[82 15]\n",
            " [15 32]]\n",
            "Classification Report:\n",
            "               precision    recall  f1-score   support\n",
            "\n",
            "           0       0.85      0.85      0.85        97\n",
            "           1       0.68      0.68      0.68        47\n",
            "\n",
            "    accuracy                           0.79       144\n",
            "   macro avg       0.76      0.76      0.76       144\n",
            "weighted avg       0.79      0.79      0.79       144\n",
            "\n"
          ]
        }
      ]
    },
    {
      "cell_type": "code",
      "source": [
        "from sklearn.metrics import roc_curve\n",
        "\n",
        "# Step 1: Get predicted probabilities\n",
        "y_proba_voting = voting_clf.predict_proba(X_test_wo_scaled)[:, 1]\n",
        "\n",
        "# Step 2: Find optimal threshold\n",
        "fpr, tpr, thresholds = roc_curve(y_test_wo, y_proba_voting)\n",
        "optimal_idx = (tpr - fpr).argmax()\n",
        "optimal_threshold = thresholds[optimal_idx]\n",
        "print(f\"Optimal Threshold: {optimal_threshold:.2f}\")\n",
        "\n",
        "# Step 3: Recalculate predictions with the new threshold\n",
        "y_pred_voting_opt = (y_proba_voting >= optimal_threshold).astype(int)\n",
        "\n",
        "# Step 4: Evaluate\n",
        "from sklearn.metrics import accuracy_score, roc_auc_score, classification_report, confusion_matrix\n",
        "\n",
        "print(\"\\n📊 Evaluation with Optimized Threshold (Voting Ensemble):\")\n",
        "print(\"Accuracy:\", accuracy_score(y_test_wo, y_pred_voting_opt))\n",
        "print(\"ROC-AUC Score:\", roc_auc_score(y_test_wo, y_proba_voting))\n",
        "print(\"Confusion Matrix:\\n\", confusion_matrix(y_test_wo, y_pred_voting_opt))\n",
        "print(\"Classification Report:\\n\", classification_report(y_test_wo, y_pred_voting_opt))\n"
      ],
      "metadata": {
        "colab": {
          "base_uri": "https://localhost:8080/"
        },
        "id": "IWbDDSJUZ6Fs",
        "outputId": "86c42214-fd48-45d3-8c14-71f07a68318c"
      },
      "execution_count": null,
      "outputs": [
        {
          "output_type": "stream",
          "name": "stdout",
          "text": [
            "Optimal Threshold: 0.29\n",
            "\n",
            "📊 Evaluation with Optimized Threshold (Voting Ensemble):\n",
            "Accuracy: 0.7847222222222222\n",
            "ROC-AUC Score: 0.8747532353586313\n",
            "Confusion Matrix:\n",
            " [[68 29]\n",
            " [ 2 45]]\n",
            "Classification Report:\n",
            "               precision    recall  f1-score   support\n",
            "\n",
            "           0       0.97      0.70      0.81        97\n",
            "           1       0.61      0.96      0.74        47\n",
            "\n",
            "    accuracy                           0.78       144\n",
            "   macro avg       0.79      0.83      0.78       144\n",
            "weighted avg       0.85      0.78      0.79       144\n",
            "\n"
          ]
        }
      ]
    },
    {
      "cell_type": "code",
      "source": [
        "import joblib\n",
        "joblib.dump(voting_clf, \"voting_ensemble_final.pkl\")\n"
      ],
      "metadata": {
        "colab": {
          "base_uri": "https://localhost:8080/"
        },
        "id": "lhq6p4akaLVP",
        "outputId": "fa3718a1-8059-40c7-945d-e46a076f2300"
      },
      "execution_count": null,
      "outputs": [
        {
          "output_type": "execute_result",
          "data": {
            "text/plain": [
              "['voting_ensemble_final.pkl']"
            ]
          },
          "metadata": {},
          "execution_count": 61
        }
      ]
    },
    {
      "cell_type": "code",
      "source": [
        "import joblib\n",
        "\n",
        "# Save the VotingClassifier\n",
        "joblib.dump(voting_clf, 'voting_model.pkl')\n",
        "\n",
        "# Save the scaler used during preprocessing (like StandardScaler or MinMaxScaler)\n",
        "joblib.dump(scaler_wo, 'scaler.pkl')\n"
      ],
      "metadata": {
        "id": "6Cxy8BnYatuz",
        "outputId": "9ae13363-160c-4515-e18c-54370cf77a87",
        "colab": {
          "base_uri": "https://localhost:8080/"
        }
      },
      "execution_count": null,
      "outputs": [
        {
          "output_type": "execute_result",
          "data": {
            "text/plain": [
              "['scaler.pkl']"
            ]
          },
          "metadata": {},
          "execution_count": 62
        }
      ]
    }
  ]
}